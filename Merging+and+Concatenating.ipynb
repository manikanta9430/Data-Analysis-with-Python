{
 "cells": [
  {
   "cell_type": "code",
   "execution_count": 1,
   "metadata": {},
   "outputs": [],
   "source": [
    "# loading libraries and reading the data\n",
    "import numpy as np\n",
    "import pandas as pd\n",
    "\n",
    "market_df = pd.read_csv(\"market_fact.csv\")\n",
    "customer_df = pd.read_csv(\"cust_dimen.csv\")\n",
    "product_df = pd.read_csv(\"prod_dimen.csv\")\n",
    "shipping_df = pd.read_csv(\"shipping_dimen.csv\")\n",
    "orders_df = pd.read_csv(\"orders_dimen.csv\")"
   ]
  },
  {
   "cell_type": "markdown",
   "metadata": {},
   "source": [
    "### Merging Dataframes\n",
    "\n",
    "There are five data files:\n",
    "1. The ```market_fact``` table contains the sales data of each order\n",
    "2. The other 4 files are called 'dimension tables/files' and contain metadata about customers, products, shipping details, order details etc."
   ]
  },
  {
   "cell_type": "code",
   "execution_count": 2,
   "metadata": {},
   "outputs": [
    {
     "output_type": "execute_result",
     "data": {
      "text/plain": [
       "     Ord_id  Prod_id   Ship_id    Cust_id    Sales  Discount  Order_Quantity  \\\n",
       "0  Ord_5446  Prod_16  SHP_7609  Cust_1818   136.81      0.01              23   \n",
       "1  Ord_5406  Prod_13  SHP_7549  Cust_1818    42.27      0.01              13   \n",
       "2  Ord_5446   Prod_4  SHP_7610  Cust_1818  4701.69      0.00              26   \n",
       "3  Ord_5456   Prod_6  SHP_7625  Cust_1818  2337.89      0.09              43   \n",
       "4  Ord_5485  Prod_17  SHP_7664  Cust_1818  4233.15      0.08              35   \n",
       "\n",
       "    Profit  Shipping_Cost  Product_Base_Margin  \n",
       "0   -30.51           3.60                 0.56  \n",
       "1     4.56           0.93                 0.54  \n",
       "2  1148.90           2.50                 0.59  \n",
       "3   729.34          14.30                 0.37  \n",
       "4  1219.87          26.30                 0.38  "
      ],
      "text/html": "<div>\n<style scoped>\n    .dataframe tbody tr th:only-of-type {\n        vertical-align: middle;\n    }\n\n    .dataframe tbody tr th {\n        vertical-align: top;\n    }\n\n    .dataframe thead th {\n        text-align: right;\n    }\n</style>\n<table border=\"1\" class=\"dataframe\">\n  <thead>\n    <tr style=\"text-align: right;\">\n      <th></th>\n      <th>Ord_id</th>\n      <th>Prod_id</th>\n      <th>Ship_id</th>\n      <th>Cust_id</th>\n      <th>Sales</th>\n      <th>Discount</th>\n      <th>Order_Quantity</th>\n      <th>Profit</th>\n      <th>Shipping_Cost</th>\n      <th>Product_Base_Margin</th>\n    </tr>\n  </thead>\n  <tbody>\n    <tr>\n      <th>0</th>\n      <td>Ord_5446</td>\n      <td>Prod_16</td>\n      <td>SHP_7609</td>\n      <td>Cust_1818</td>\n      <td>136.81</td>\n      <td>0.01</td>\n      <td>23</td>\n      <td>-30.51</td>\n      <td>3.60</td>\n      <td>0.56</td>\n    </tr>\n    <tr>\n      <th>1</th>\n      <td>Ord_5406</td>\n      <td>Prod_13</td>\n      <td>SHP_7549</td>\n      <td>Cust_1818</td>\n      <td>42.27</td>\n      <td>0.01</td>\n      <td>13</td>\n      <td>4.56</td>\n      <td>0.93</td>\n      <td>0.54</td>\n    </tr>\n    <tr>\n      <th>2</th>\n      <td>Ord_5446</td>\n      <td>Prod_4</td>\n      <td>SHP_7610</td>\n      <td>Cust_1818</td>\n      <td>4701.69</td>\n      <td>0.00</td>\n      <td>26</td>\n      <td>1148.90</td>\n      <td>2.50</td>\n      <td>0.59</td>\n    </tr>\n    <tr>\n      <th>3</th>\n      <td>Ord_5456</td>\n      <td>Prod_6</td>\n      <td>SHP_7625</td>\n      <td>Cust_1818</td>\n      <td>2337.89</td>\n      <td>0.09</td>\n      <td>43</td>\n      <td>729.34</td>\n      <td>14.30</td>\n      <td>0.37</td>\n    </tr>\n    <tr>\n      <th>4</th>\n      <td>Ord_5485</td>\n      <td>Prod_17</td>\n      <td>SHP_7664</td>\n      <td>Cust_1818</td>\n      <td>4233.15</td>\n      <td>0.08</td>\n      <td>35</td>\n      <td>1219.87</td>\n      <td>26.30</td>\n      <td>0.38</td>\n    </tr>\n  </tbody>\n</table>\n</div>"
     },
     "metadata": {},
     "execution_count": 2
    }
   ],
   "source": [
    "market_df.head()"
   ]
  },
  {
   "cell_type": "code",
   "execution_count": 3,
   "metadata": {},
   "outputs": [
    {
     "output_type": "execute_result",
     "data": {
      "text/plain": [
       "        Customer_Name Province   Region Customer_Segment Cust_id\n",
       "0  MUHAMMED MACINTYRE  NUNAVUT  NUNAVUT   SMALL BUSINESS  Cust_1\n",
       "1        BARRY FRENCH  NUNAVUT  NUNAVUT         CONSUMER  Cust_2\n",
       "2       CLAY ROZENDAL  NUNAVUT  NUNAVUT        CORPORATE  Cust_3\n",
       "3      CARLOS SOLTERO  NUNAVUT  NUNAVUT         CONSUMER  Cust_4\n",
       "4        CARL JACKSON  NUNAVUT  NUNAVUT        CORPORATE  Cust_5"
      ],
      "text/html": "<div>\n<style scoped>\n    .dataframe tbody tr th:only-of-type {\n        vertical-align: middle;\n    }\n\n    .dataframe tbody tr th {\n        vertical-align: top;\n    }\n\n    .dataframe thead th {\n        text-align: right;\n    }\n</style>\n<table border=\"1\" class=\"dataframe\">\n  <thead>\n    <tr style=\"text-align: right;\">\n      <th></th>\n      <th>Customer_Name</th>\n      <th>Province</th>\n      <th>Region</th>\n      <th>Customer_Segment</th>\n      <th>Cust_id</th>\n    </tr>\n  </thead>\n  <tbody>\n    <tr>\n      <th>0</th>\n      <td>MUHAMMED MACINTYRE</td>\n      <td>NUNAVUT</td>\n      <td>NUNAVUT</td>\n      <td>SMALL BUSINESS</td>\n      <td>Cust_1</td>\n    </tr>\n    <tr>\n      <th>1</th>\n      <td>BARRY FRENCH</td>\n      <td>NUNAVUT</td>\n      <td>NUNAVUT</td>\n      <td>CONSUMER</td>\n      <td>Cust_2</td>\n    </tr>\n    <tr>\n      <th>2</th>\n      <td>CLAY ROZENDAL</td>\n      <td>NUNAVUT</td>\n      <td>NUNAVUT</td>\n      <td>CORPORATE</td>\n      <td>Cust_3</td>\n    </tr>\n    <tr>\n      <th>3</th>\n      <td>CARLOS SOLTERO</td>\n      <td>NUNAVUT</td>\n      <td>NUNAVUT</td>\n      <td>CONSUMER</td>\n      <td>Cust_4</td>\n    </tr>\n    <tr>\n      <th>4</th>\n      <td>CARL JACKSON</td>\n      <td>NUNAVUT</td>\n      <td>NUNAVUT</td>\n      <td>CORPORATE</td>\n      <td>Cust_5</td>\n    </tr>\n  </tbody>\n</table>\n</div>"
     },
     "metadata": {},
     "execution_count": 3
    }
   ],
   "source": [
    "# Customer dimension table: Each row contains metadata about customers\n",
    "customer_df.head()"
   ]
  },
  {
   "cell_type": "code",
   "execution_count": 4,
   "metadata": {},
   "outputs": [
    {
     "output_type": "execute_result",
     "data": {
      "text/plain": [
       "  Product_Category            Product_Sub_Category Prod_id\n",
       "0  OFFICE SUPPLIES          STORAGE & ORGANIZATION  Prod_1\n",
       "1  OFFICE SUPPLIES                      APPLIANCES  Prod_2\n",
       "2  OFFICE SUPPLIES  BINDERS AND BINDER ACCESSORIES  Prod_3\n",
       "3       TECHNOLOGY    TELEPHONES AND COMMUNICATION  Prod_4\n",
       "4        FURNITURE              OFFICE FURNISHINGS  Prod_5"
      ],
      "text/html": "<div>\n<style scoped>\n    .dataframe tbody tr th:only-of-type {\n        vertical-align: middle;\n    }\n\n    .dataframe tbody tr th {\n        vertical-align: top;\n    }\n\n    .dataframe thead th {\n        text-align: right;\n    }\n</style>\n<table border=\"1\" class=\"dataframe\">\n  <thead>\n    <tr style=\"text-align: right;\">\n      <th></th>\n      <th>Product_Category</th>\n      <th>Product_Sub_Category</th>\n      <th>Prod_id</th>\n    </tr>\n  </thead>\n  <tbody>\n    <tr>\n      <th>0</th>\n      <td>OFFICE SUPPLIES</td>\n      <td>STORAGE &amp; ORGANIZATION</td>\n      <td>Prod_1</td>\n    </tr>\n    <tr>\n      <th>1</th>\n      <td>OFFICE SUPPLIES</td>\n      <td>APPLIANCES</td>\n      <td>Prod_2</td>\n    </tr>\n    <tr>\n      <th>2</th>\n      <td>OFFICE SUPPLIES</td>\n      <td>BINDERS AND BINDER ACCESSORIES</td>\n      <td>Prod_3</td>\n    </tr>\n    <tr>\n      <th>3</th>\n      <td>TECHNOLOGY</td>\n      <td>TELEPHONES AND COMMUNICATION</td>\n      <td>Prod_4</td>\n    </tr>\n    <tr>\n      <th>4</th>\n      <td>FURNITURE</td>\n      <td>OFFICE FURNISHINGS</td>\n      <td>Prod_5</td>\n    </tr>\n  </tbody>\n</table>\n</div>"
     },
     "metadata": {},
     "execution_count": 4
    }
   ],
   "source": [
    "# Product dimension table\n",
    "product_df.head()"
   ]
  },
  {
   "cell_type": "code",
   "execution_count": 5,
   "metadata": {},
   "outputs": [
    {
     "output_type": "execute_result",
     "data": {
      "text/plain": [
       "   Order_ID       Ship_Mode   Ship_Date Ship_id\n",
       "0         3     REGULAR AIR  20-10-2010   SHP_1\n",
       "1       293  DELIVERY TRUCK  02-10-2012   SHP_2\n",
       "2       293     REGULAR AIR  03-10-2012   SHP_3\n",
       "3       483     REGULAR AIR  12-07-2011   SHP_4\n",
       "4       515     REGULAR AIR  30-08-2010   SHP_5"
      ],
      "text/html": "<div>\n<style scoped>\n    .dataframe tbody tr th:only-of-type {\n        vertical-align: middle;\n    }\n\n    .dataframe tbody tr th {\n        vertical-align: top;\n    }\n\n    .dataframe thead th {\n        text-align: right;\n    }\n</style>\n<table border=\"1\" class=\"dataframe\">\n  <thead>\n    <tr style=\"text-align: right;\">\n      <th></th>\n      <th>Order_ID</th>\n      <th>Ship_Mode</th>\n      <th>Ship_Date</th>\n      <th>Ship_id</th>\n    </tr>\n  </thead>\n  <tbody>\n    <tr>\n      <th>0</th>\n      <td>3</td>\n      <td>REGULAR AIR</td>\n      <td>20-10-2010</td>\n      <td>SHP_1</td>\n    </tr>\n    <tr>\n      <th>1</th>\n      <td>293</td>\n      <td>DELIVERY TRUCK</td>\n      <td>02-10-2012</td>\n      <td>SHP_2</td>\n    </tr>\n    <tr>\n      <th>2</th>\n      <td>293</td>\n      <td>REGULAR AIR</td>\n      <td>03-10-2012</td>\n      <td>SHP_3</td>\n    </tr>\n    <tr>\n      <th>3</th>\n      <td>483</td>\n      <td>REGULAR AIR</td>\n      <td>12-07-2011</td>\n      <td>SHP_4</td>\n    </tr>\n    <tr>\n      <th>4</th>\n      <td>515</td>\n      <td>REGULAR AIR</td>\n      <td>30-08-2010</td>\n      <td>SHP_5</td>\n    </tr>\n  </tbody>\n</table>\n</div>"
     },
     "metadata": {},
     "execution_count": 5
    }
   ],
   "source": [
    "# Shipping metadata\n",
    "shipping_df.head()"
   ]
  },
  {
   "cell_type": "code",
   "execution_count": 6,
   "metadata": {},
   "outputs": [
    {
     "output_type": "execute_result",
     "data": {
      "text/plain": [
       "   Order_ID  Order_Date Order_Priority Ord_id\n",
       "0         3  13-10-2010            LOW  Ord_1\n",
       "1       293  01-10-2012           HIGH  Ord_2\n",
       "2       483  10-07-2011           HIGH  Ord_3\n",
       "3       515  28-08-2010  NOT SPECIFIED  Ord_4\n",
       "4       613  17-06-2011           HIGH  Ord_5"
      ],
      "text/html": "<div>\n<style scoped>\n    .dataframe tbody tr th:only-of-type {\n        vertical-align: middle;\n    }\n\n    .dataframe tbody tr th {\n        vertical-align: top;\n    }\n\n    .dataframe thead th {\n        text-align: right;\n    }\n</style>\n<table border=\"1\" class=\"dataframe\">\n  <thead>\n    <tr style=\"text-align: right;\">\n      <th></th>\n      <th>Order_ID</th>\n      <th>Order_Date</th>\n      <th>Order_Priority</th>\n      <th>Ord_id</th>\n    </tr>\n  </thead>\n  <tbody>\n    <tr>\n      <th>0</th>\n      <td>3</td>\n      <td>13-10-2010</td>\n      <td>LOW</td>\n      <td>Ord_1</td>\n    </tr>\n    <tr>\n      <th>1</th>\n      <td>293</td>\n      <td>01-10-2012</td>\n      <td>HIGH</td>\n      <td>Ord_2</td>\n    </tr>\n    <tr>\n      <th>2</th>\n      <td>483</td>\n      <td>10-07-2011</td>\n      <td>HIGH</td>\n      <td>Ord_3</td>\n    </tr>\n    <tr>\n      <th>3</th>\n      <td>515</td>\n      <td>28-08-2010</td>\n      <td>NOT SPECIFIED</td>\n      <td>Ord_4</td>\n    </tr>\n    <tr>\n      <th>4</th>\n      <td>613</td>\n      <td>17-06-2011</td>\n      <td>HIGH</td>\n      <td>Ord_5</td>\n    </tr>\n  </tbody>\n</table>\n</div>"
     },
     "metadata": {},
     "execution_count": 6
    }
   ],
   "source": [
    "# Orders dimension table\n",
    "orders_df.head()"
   ]
  },
  {
   "cell_type": "markdown",
   "metadata": {},
   "source": [
    "### Merging Dataframes\n",
    "\n",
    "Say you want to select all orders and observe the ```Sales``` of the customer segment *Corporate*. Since customer segment details are present in the dataframe ```customer_df```, we will first need to merge it with ```market_df```.\n"
   ]
  },
  {
   "cell_type": "code",
   "execution_count": 7,
   "metadata": {},
   "outputs": [
    {
     "output_type": "execute_result",
     "data": {
      "text/plain": [
       "     Ord_id  Prod_id   Ship_id    Cust_id    Sales  Discount  Order_Quantity  \\\n",
       "0  Ord_5446  Prod_16  SHP_7609  Cust_1818   136.81      0.01              23   \n",
       "1  Ord_5406  Prod_13  SHP_7549  Cust_1818    42.27      0.01              13   \n",
       "2  Ord_5446   Prod_4  SHP_7610  Cust_1818  4701.69      0.00              26   \n",
       "3  Ord_5456   Prod_6  SHP_7625  Cust_1818  2337.89      0.09              43   \n",
       "4  Ord_5485  Prod_17  SHP_7664  Cust_1818  4233.15      0.08              35   \n",
       "\n",
       "    Profit  Shipping_Cost  Product_Base_Margin  Customer_Name Province Region  \\\n",
       "0   -30.51           3.60                 0.56  AARON BERGMAN  ALBERTA   WEST   \n",
       "1     4.56           0.93                 0.54  AARON BERGMAN  ALBERTA   WEST   \n",
       "2  1148.90           2.50                 0.59  AARON BERGMAN  ALBERTA   WEST   \n",
       "3   729.34          14.30                 0.37  AARON BERGMAN  ALBERTA   WEST   \n",
       "4  1219.87          26.30                 0.38  AARON BERGMAN  ALBERTA   WEST   \n",
       "\n",
       "  Customer_Segment  \n",
       "0        CORPORATE  \n",
       "1        CORPORATE  \n",
       "2        CORPORATE  \n",
       "3        CORPORATE  \n",
       "4        CORPORATE  "
      ],
      "text/html": "<div>\n<style scoped>\n    .dataframe tbody tr th:only-of-type {\n        vertical-align: middle;\n    }\n\n    .dataframe tbody tr th {\n        vertical-align: top;\n    }\n\n    .dataframe thead th {\n        text-align: right;\n    }\n</style>\n<table border=\"1\" class=\"dataframe\">\n  <thead>\n    <tr style=\"text-align: right;\">\n      <th></th>\n      <th>Ord_id</th>\n      <th>Prod_id</th>\n      <th>Ship_id</th>\n      <th>Cust_id</th>\n      <th>Sales</th>\n      <th>Discount</th>\n      <th>Order_Quantity</th>\n      <th>Profit</th>\n      <th>Shipping_Cost</th>\n      <th>Product_Base_Margin</th>\n      <th>Customer_Name</th>\n      <th>Province</th>\n      <th>Region</th>\n      <th>Customer_Segment</th>\n    </tr>\n  </thead>\n  <tbody>\n    <tr>\n      <th>0</th>\n      <td>Ord_5446</td>\n      <td>Prod_16</td>\n      <td>SHP_7609</td>\n      <td>Cust_1818</td>\n      <td>136.81</td>\n      <td>0.01</td>\n      <td>23</td>\n      <td>-30.51</td>\n      <td>3.60</td>\n      <td>0.56</td>\n      <td>AARON BERGMAN</td>\n      <td>ALBERTA</td>\n      <td>WEST</td>\n      <td>CORPORATE</td>\n    </tr>\n    <tr>\n      <th>1</th>\n      <td>Ord_5406</td>\n      <td>Prod_13</td>\n      <td>SHP_7549</td>\n      <td>Cust_1818</td>\n      <td>42.27</td>\n      <td>0.01</td>\n      <td>13</td>\n      <td>4.56</td>\n      <td>0.93</td>\n      <td>0.54</td>\n      <td>AARON BERGMAN</td>\n      <td>ALBERTA</td>\n      <td>WEST</td>\n      <td>CORPORATE</td>\n    </tr>\n    <tr>\n      <th>2</th>\n      <td>Ord_5446</td>\n      <td>Prod_4</td>\n      <td>SHP_7610</td>\n      <td>Cust_1818</td>\n      <td>4701.69</td>\n      <td>0.00</td>\n      <td>26</td>\n      <td>1148.90</td>\n      <td>2.50</td>\n      <td>0.59</td>\n      <td>AARON BERGMAN</td>\n      <td>ALBERTA</td>\n      <td>WEST</td>\n      <td>CORPORATE</td>\n    </tr>\n    <tr>\n      <th>3</th>\n      <td>Ord_5456</td>\n      <td>Prod_6</td>\n      <td>SHP_7625</td>\n      <td>Cust_1818</td>\n      <td>2337.89</td>\n      <td>0.09</td>\n      <td>43</td>\n      <td>729.34</td>\n      <td>14.30</td>\n      <td>0.37</td>\n      <td>AARON BERGMAN</td>\n      <td>ALBERTA</td>\n      <td>WEST</td>\n      <td>CORPORATE</td>\n    </tr>\n    <tr>\n      <th>4</th>\n      <td>Ord_5485</td>\n      <td>Prod_17</td>\n      <td>SHP_7664</td>\n      <td>Cust_1818</td>\n      <td>4233.15</td>\n      <td>0.08</td>\n      <td>35</td>\n      <td>1219.87</td>\n      <td>26.30</td>\n      <td>0.38</td>\n      <td>AARON BERGMAN</td>\n      <td>ALBERTA</td>\n      <td>WEST</td>\n      <td>CORPORATE</td>\n    </tr>\n  </tbody>\n</table>\n</div>"
     },
     "metadata": {},
     "execution_count": 7
    }
   ],
   "source": [
    "# Merging the dataframes\n",
    "# Note that Cust_id is the common column/key, which is provided to the 'on' argument\n",
    "# how = 'inner' makes sure that only the customer ids present in both dfs are included in the result\n",
    "df_1 = pd.merge(market_df, customer_df, how='inner', on='Cust_id')\n",
    "df_1.head()"
   ]
  },
  {
   "cell_type": "code",
   "execution_count": 8,
   "metadata": {},
   "outputs": [
    {
     "output_type": "execute_result",
     "data": {
      "text/plain": [
       "        Ord_id  Prod_id   Ship_id    Cust_id      Sales  Discount  \\\n",
       "93    Ord_5484  Prod_16  SHP_7663  Cust_1820   322.8200      0.05   \n",
       "94    Ord_5430   Prod_4  SHP_7588  Cust_1820   337.2035      0.09   \n",
       "95    Ord_5462   Prod_4  SHP_7632  Cust_1820   175.8565      0.03   \n",
       "96    Ord_5489  Prod_17  SHP_7671  Cust_1820   754.9200      0.00   \n",
       "97    Ord_5462   Prod_5  SHP_7631  Cust_1820   323.9600      0.07   \n",
       "...        ...      ...       ...        ...        ...       ...   \n",
       "8394  Ord_5353   Prod_4  SHP_7479  Cust_1798  2841.4395      0.08   \n",
       "8395  Ord_5411   Prod_6  SHP_7555  Cust_1798   127.1600      0.10   \n",
       "8396  Ord_5388   Prod_6  SHP_7524  Cust_1798   243.0500      0.02   \n",
       "8397  Ord_5348  Prod_15  SHP_7469  Cust_1798  3872.8700      0.03   \n",
       "8398  Ord_5459   Prod_6  SHP_7628  Cust_1798   603.6900      0.00   \n",
       "\n",
       "      Order_Quantity  Profit  Shipping_Cost  Product_Base_Margin  \\\n",
       "93                35  -17.58           3.98                 0.56   \n",
       "94                 9 -120.93           4.99                 0.56   \n",
       "95                10  -93.26           1.25                 0.83   \n",
       "96                 7 -129.57          19.99                 0.52   \n",
       "97                40 -136.82           7.96                 0.49   \n",
       "...              ...     ...            ...                  ...   \n",
       "8394              28  374.63           7.69                 0.59   \n",
       "8395              20  -74.03           6.92                 0.37   \n",
       "8396              39  -70.85           5.35                 0.40   \n",
       "8397              23  565.34          30.00                 0.62   \n",
       "8398              47  131.39           4.86                 0.38   \n",
       "\n",
       "       Customer_Name Province Region Customer_Segment  \n",
       "93      ADRIAN SHAMI  ALBERTA   WEST         CONSUMER  \n",
       "94      ADRIAN SHAMI  ALBERTA   WEST         CONSUMER  \n",
       "95      ADRIAN SHAMI  ALBERTA   WEST         CONSUMER  \n",
       "96      ADRIAN SHAMI  ALBERTA   WEST         CONSUMER  \n",
       "97      ADRIAN SHAMI  ALBERTA   WEST         CONSUMER  \n",
       "...              ...      ...    ...              ...  \n",
       "8394  YOSEPH CARROLL  ALBERTA   WEST         CONSUMER  \n",
       "8395  YOSEPH CARROLL  ALBERTA   WEST         CONSUMER  \n",
       "8396  YOSEPH CARROLL  ALBERTA   WEST         CONSUMER  \n",
       "8397  YOSEPH CARROLL  ALBERTA   WEST         CONSUMER  \n",
       "8398  YOSEPH CARROLL  ALBERTA   WEST         CONSUMER  \n",
       "\n",
       "[1649 rows x 14 columns]"
      ],
      "text/html": "<div>\n<style scoped>\n    .dataframe tbody tr th:only-of-type {\n        vertical-align: middle;\n    }\n\n    .dataframe tbody tr th {\n        vertical-align: top;\n    }\n\n    .dataframe thead th {\n        text-align: right;\n    }\n</style>\n<table border=\"1\" class=\"dataframe\">\n  <thead>\n    <tr style=\"text-align: right;\">\n      <th></th>\n      <th>Ord_id</th>\n      <th>Prod_id</th>\n      <th>Ship_id</th>\n      <th>Cust_id</th>\n      <th>Sales</th>\n      <th>Discount</th>\n      <th>Order_Quantity</th>\n      <th>Profit</th>\n      <th>Shipping_Cost</th>\n      <th>Product_Base_Margin</th>\n      <th>Customer_Name</th>\n      <th>Province</th>\n      <th>Region</th>\n      <th>Customer_Segment</th>\n    </tr>\n  </thead>\n  <tbody>\n    <tr>\n      <th>93</th>\n      <td>Ord_5484</td>\n      <td>Prod_16</td>\n      <td>SHP_7663</td>\n      <td>Cust_1820</td>\n      <td>322.8200</td>\n      <td>0.05</td>\n      <td>35</td>\n      <td>-17.58</td>\n      <td>3.98</td>\n      <td>0.56</td>\n      <td>ADRIAN SHAMI</td>\n      <td>ALBERTA</td>\n      <td>WEST</td>\n      <td>CONSUMER</td>\n    </tr>\n    <tr>\n      <th>94</th>\n      <td>Ord_5430</td>\n      <td>Prod_4</td>\n      <td>SHP_7588</td>\n      <td>Cust_1820</td>\n      <td>337.2035</td>\n      <td>0.09</td>\n      <td>9</td>\n      <td>-120.93</td>\n      <td>4.99</td>\n      <td>0.56</td>\n      <td>ADRIAN SHAMI</td>\n      <td>ALBERTA</td>\n      <td>WEST</td>\n      <td>CONSUMER</td>\n    </tr>\n    <tr>\n      <th>95</th>\n      <td>Ord_5462</td>\n      <td>Prod_4</td>\n      <td>SHP_7632</td>\n      <td>Cust_1820</td>\n      <td>175.8565</td>\n      <td>0.03</td>\n      <td>10</td>\n      <td>-93.26</td>\n      <td>1.25</td>\n      <td>0.83</td>\n      <td>ADRIAN SHAMI</td>\n      <td>ALBERTA</td>\n      <td>WEST</td>\n      <td>CONSUMER</td>\n    </tr>\n    <tr>\n      <th>96</th>\n      <td>Ord_5489</td>\n      <td>Prod_17</td>\n      <td>SHP_7671</td>\n      <td>Cust_1820</td>\n      <td>754.9200</td>\n      <td>0.00</td>\n      <td>7</td>\n      <td>-129.57</td>\n      <td>19.99</td>\n      <td>0.52</td>\n      <td>ADRIAN SHAMI</td>\n      <td>ALBERTA</td>\n      <td>WEST</td>\n      <td>CONSUMER</td>\n    </tr>\n    <tr>\n      <th>97</th>\n      <td>Ord_5462</td>\n      <td>Prod_5</td>\n      <td>SHP_7631</td>\n      <td>Cust_1820</td>\n      <td>323.9600</td>\n      <td>0.07</td>\n      <td>40</td>\n      <td>-136.82</td>\n      <td>7.96</td>\n      <td>0.49</td>\n      <td>ADRIAN SHAMI</td>\n      <td>ALBERTA</td>\n      <td>WEST</td>\n      <td>CONSUMER</td>\n    </tr>\n    <tr>\n      <th>...</th>\n      <td>...</td>\n      <td>...</td>\n      <td>...</td>\n      <td>...</td>\n      <td>...</td>\n      <td>...</td>\n      <td>...</td>\n      <td>...</td>\n      <td>...</td>\n      <td>...</td>\n      <td>...</td>\n      <td>...</td>\n      <td>...</td>\n      <td>...</td>\n    </tr>\n    <tr>\n      <th>8394</th>\n      <td>Ord_5353</td>\n      <td>Prod_4</td>\n      <td>SHP_7479</td>\n      <td>Cust_1798</td>\n      <td>2841.4395</td>\n      <td>0.08</td>\n      <td>28</td>\n      <td>374.63</td>\n      <td>7.69</td>\n      <td>0.59</td>\n      <td>YOSEPH CARROLL</td>\n      <td>ALBERTA</td>\n      <td>WEST</td>\n      <td>CONSUMER</td>\n    </tr>\n    <tr>\n      <th>8395</th>\n      <td>Ord_5411</td>\n      <td>Prod_6</td>\n      <td>SHP_7555</td>\n      <td>Cust_1798</td>\n      <td>127.1600</td>\n      <td>0.10</td>\n      <td>20</td>\n      <td>-74.03</td>\n      <td>6.92</td>\n      <td>0.37</td>\n      <td>YOSEPH CARROLL</td>\n      <td>ALBERTA</td>\n      <td>WEST</td>\n      <td>CONSUMER</td>\n    </tr>\n    <tr>\n      <th>8396</th>\n      <td>Ord_5388</td>\n      <td>Prod_6</td>\n      <td>SHP_7524</td>\n      <td>Cust_1798</td>\n      <td>243.0500</td>\n      <td>0.02</td>\n      <td>39</td>\n      <td>-70.85</td>\n      <td>5.35</td>\n      <td>0.40</td>\n      <td>YOSEPH CARROLL</td>\n      <td>ALBERTA</td>\n      <td>WEST</td>\n      <td>CONSUMER</td>\n    </tr>\n    <tr>\n      <th>8397</th>\n      <td>Ord_5348</td>\n      <td>Prod_15</td>\n      <td>SHP_7469</td>\n      <td>Cust_1798</td>\n      <td>3872.8700</td>\n      <td>0.03</td>\n      <td>23</td>\n      <td>565.34</td>\n      <td>30.00</td>\n      <td>0.62</td>\n      <td>YOSEPH CARROLL</td>\n      <td>ALBERTA</td>\n      <td>WEST</td>\n      <td>CONSUMER</td>\n    </tr>\n    <tr>\n      <th>8398</th>\n      <td>Ord_5459</td>\n      <td>Prod_6</td>\n      <td>SHP_7628</td>\n      <td>Cust_1798</td>\n      <td>603.6900</td>\n      <td>0.00</td>\n      <td>47</td>\n      <td>131.39</td>\n      <td>4.86</td>\n      <td>0.38</td>\n      <td>YOSEPH CARROLL</td>\n      <td>ALBERTA</td>\n      <td>WEST</td>\n      <td>CONSUMER</td>\n    </tr>\n  </tbody>\n</table>\n<p>1649 rows × 14 columns</p>\n</div>"
     },
     "metadata": {},
     "execution_count": 8
    }
   ],
   "source": [
    "# Now, you can subset the orders made by customers from 'Consumer' segment\n",
    "df_1.loc[df_1['Customer_Segment'] == 'CONSUMER', :]"
   ]
  },
  {
   "cell_type": "code",
   "execution_count": 9,
   "metadata": {},
   "outputs": [
    {
     "output_type": "execute_result",
     "data": {
      "text/plain": [
       "     Ord_id  Prod_id   Ship_id    Cust_id   Sales  Discount  Order_Quantity  \\\n",
       "0  Ord_5446  Prod_16  SHP_7609  Cust_1818  136.81      0.01              23   \n",
       "1  Ord_2978  Prod_16  SHP_4112  Cust_1088  305.05      0.04              27   \n",
       "2  Ord_5484  Prod_16  SHP_7663  Cust_1820  322.82      0.05              35   \n",
       "3  Ord_3730  Prod_16  SHP_5175  Cust_1314  459.08      0.04              34   \n",
       "4  Ord_4143  Prod_16  SHP_5771  Cust_1417  207.21      0.06              24   \n",
       "\n",
       "   Profit  Shipping_Cost  Product_Base_Margin        Customer_Name  \\\n",
       "0  -30.51           3.60                 0.56        AARON BERGMAN   \n",
       "1   23.12           3.37                 0.57        AARON HAWKINS   \n",
       "2  -17.58           3.98                 0.56         ADRIAN SHAMI   \n",
       "3   61.57           3.14                 0.60  ALEKSANDRA GANNAWAY   \n",
       "4  -78.64           6.14                 0.59         ALLEN ARMOLD   \n",
       "\n",
       "        Province    Region Customer_Segment Product_Category  \\\n",
       "0        ALBERTA      WEST        CORPORATE  OFFICE SUPPLIES   \n",
       "1        ONTARIO   ONTARIO      HOME OFFICE  OFFICE SUPPLIES   \n",
       "2        ALBERTA      WEST         CONSUMER  OFFICE SUPPLIES   \n",
       "3    SASKACHEWAN    PRARIE        CORPORATE  OFFICE SUPPLIES   \n",
       "4  NEW BRUNSWICK  ATLANTIC      HOME OFFICE  OFFICE SUPPLIES   \n",
       "\n",
       "            Product_Sub_Category  \n",
       "0  SCISSORS, RULERS AND TRIMMERS  \n",
       "1  SCISSORS, RULERS AND TRIMMERS  \n",
       "2  SCISSORS, RULERS AND TRIMMERS  \n",
       "3  SCISSORS, RULERS AND TRIMMERS  \n",
       "4  SCISSORS, RULERS AND TRIMMERS  "
      ],
      "text/html": "<div>\n<style scoped>\n    .dataframe tbody tr th:only-of-type {\n        vertical-align: middle;\n    }\n\n    .dataframe tbody tr th {\n        vertical-align: top;\n    }\n\n    .dataframe thead th {\n        text-align: right;\n    }\n</style>\n<table border=\"1\" class=\"dataframe\">\n  <thead>\n    <tr style=\"text-align: right;\">\n      <th></th>\n      <th>Ord_id</th>\n      <th>Prod_id</th>\n      <th>Ship_id</th>\n      <th>Cust_id</th>\n      <th>Sales</th>\n      <th>Discount</th>\n      <th>Order_Quantity</th>\n      <th>Profit</th>\n      <th>Shipping_Cost</th>\n      <th>Product_Base_Margin</th>\n      <th>Customer_Name</th>\n      <th>Province</th>\n      <th>Region</th>\n      <th>Customer_Segment</th>\n      <th>Product_Category</th>\n      <th>Product_Sub_Category</th>\n    </tr>\n  </thead>\n  <tbody>\n    <tr>\n      <th>0</th>\n      <td>Ord_5446</td>\n      <td>Prod_16</td>\n      <td>SHP_7609</td>\n      <td>Cust_1818</td>\n      <td>136.81</td>\n      <td>0.01</td>\n      <td>23</td>\n      <td>-30.51</td>\n      <td>3.60</td>\n      <td>0.56</td>\n      <td>AARON BERGMAN</td>\n      <td>ALBERTA</td>\n      <td>WEST</td>\n      <td>CORPORATE</td>\n      <td>OFFICE SUPPLIES</td>\n      <td>SCISSORS, RULERS AND TRIMMERS</td>\n    </tr>\n    <tr>\n      <th>1</th>\n      <td>Ord_2978</td>\n      <td>Prod_16</td>\n      <td>SHP_4112</td>\n      <td>Cust_1088</td>\n      <td>305.05</td>\n      <td>0.04</td>\n      <td>27</td>\n      <td>23.12</td>\n      <td>3.37</td>\n      <td>0.57</td>\n      <td>AARON HAWKINS</td>\n      <td>ONTARIO</td>\n      <td>ONTARIO</td>\n      <td>HOME OFFICE</td>\n      <td>OFFICE SUPPLIES</td>\n      <td>SCISSORS, RULERS AND TRIMMERS</td>\n    </tr>\n    <tr>\n      <th>2</th>\n      <td>Ord_5484</td>\n      <td>Prod_16</td>\n      <td>SHP_7663</td>\n      <td>Cust_1820</td>\n      <td>322.82</td>\n      <td>0.05</td>\n      <td>35</td>\n      <td>-17.58</td>\n      <td>3.98</td>\n      <td>0.56</td>\n      <td>ADRIAN SHAMI</td>\n      <td>ALBERTA</td>\n      <td>WEST</td>\n      <td>CONSUMER</td>\n      <td>OFFICE SUPPLIES</td>\n      <td>SCISSORS, RULERS AND TRIMMERS</td>\n    </tr>\n    <tr>\n      <th>3</th>\n      <td>Ord_3730</td>\n      <td>Prod_16</td>\n      <td>SHP_5175</td>\n      <td>Cust_1314</td>\n      <td>459.08</td>\n      <td>0.04</td>\n      <td>34</td>\n      <td>61.57</td>\n      <td>3.14</td>\n      <td>0.60</td>\n      <td>ALEKSANDRA GANNAWAY</td>\n      <td>SASKACHEWAN</td>\n      <td>PRARIE</td>\n      <td>CORPORATE</td>\n      <td>OFFICE SUPPLIES</td>\n      <td>SCISSORS, RULERS AND TRIMMERS</td>\n    </tr>\n    <tr>\n      <th>4</th>\n      <td>Ord_4143</td>\n      <td>Prod_16</td>\n      <td>SHP_5771</td>\n      <td>Cust_1417</td>\n      <td>207.21</td>\n      <td>0.06</td>\n      <td>24</td>\n      <td>-78.64</td>\n      <td>6.14</td>\n      <td>0.59</td>\n      <td>ALLEN ARMOLD</td>\n      <td>NEW BRUNSWICK</td>\n      <td>ATLANTIC</td>\n      <td>HOME OFFICE</td>\n      <td>OFFICE SUPPLIES</td>\n      <td>SCISSORS, RULERS AND TRIMMERS</td>\n    </tr>\n  </tbody>\n</table>\n</div>"
     },
     "metadata": {},
     "execution_count": 9
    }
   ],
   "source": [
    "# Example 2: Select all orders from product category = office supplies and from the corporate segment\n",
    "# We now need to merge the product_df\n",
    "\n",
    "df_2 = pd.merge(df_1, product_df, how='inner', on='Prod_id')\n",
    "df_2.head()"
   ]
  },
  {
   "cell_type": "code",
   "execution_count": 10,
   "metadata": {},
   "outputs": [
    {
     "output_type": "execute_result",
     "data": {
      "text/plain": [
       "        Ord_id  Prod_id   Ship_id    Cust_id     Sales  Discount  \\\n",
       "3947  Ord_2340  Prod_11  SHP_3211   Cust_933   2907.63      0.04   \n",
       "3950  Ord_2791  Prod_11  SHP_3838  Cust_1036  10351.01      0.08   \n",
       "3972  Ord_2116  Prod_11  SHP_2892   Cust_783   8246.86      0.06   \n",
       "3997  Ord_2059  Prod_11  SHP_2815   Cust_776   1875.18      0.01   \n",
       "3998  Ord_2059  Prod_11  SHP_2815   Cust_918   3587.72      0.00   \n",
       "...        ...      ...       ...        ...       ...       ...   \n",
       "5894  Ord_4974  Prod_15  SHP_6944  Cust_1693   4252.89      0.06   \n",
       "5896  Ord_1686  Prod_15  SHP_2331   Cust_581  19342.84      0.01   \n",
       "5897  Ord_2728  Prod_15  SHP_3739  Cust_1035   1225.37      0.08   \n",
       "5903  Ord_3368  Prod_15  SHP_4668  Cust_1190   3227.38      0.05   \n",
       "5913  Ord_5348  Prod_15  SHP_7469  Cust_1798   3872.87      0.03   \n",
       "\n",
       "      Order_Quantity   Profit  Shipping_Cost  Product_Base_Margin  \\\n",
       "3947              42    54.60          69.00                 0.68   \n",
       "3950              19 -1331.55          45.70                 0.71   \n",
       "3972              46  -433.29          29.21                 0.74   \n",
       "3997              10  -433.29          29.21                 0.74   \n",
       "3998              47    54.23          89.30                 0.69   \n",
       "...              ...      ...            ...                  ...   \n",
       "5894              20   969.42          18.06                 0.57   \n",
       "5896              39  5603.95         126.00                 0.60   \n",
       "5897               9     0.98          24.49                 0.57   \n",
       "5903              26   192.31          30.00                 0.64   \n",
       "5913              23   565.34          30.00                 0.62   \n",
       "\n",
       "        Customer_Name     Province    Region Customer_Segment  \\\n",
       "3947      ALAN HAINES       QUEBEC    QUEBEC         CONSUMER   \n",
       "3950  ALEJANDRO GROVE      ONTARIO   ONTARIO         CONSUMER   \n",
       "3972   BARRY GONZALEZ       QUEBEC    QUEBEC         CONSUMER   \n",
       "3997    BRIAN STUGART  NOVA SCOTIA  ATLANTIC         CONSUMER   \n",
       "3998    BRIAN STUGART       QUEBEC    QUEBEC         CONSUMER   \n",
       "...               ...          ...       ...              ...   \n",
       "5894     TIM BROCKMAN      ALBERTA      WEST         CONSUMER   \n",
       "5896       TODD BOYES      ONTARIO   ONTARIO         CONSUMER   \n",
       "5897     TODD SUMRALL      ONTARIO   ONTARIO         CONSUMER   \n",
       "5903        TRACY ZIC     MANITOBA    PRARIE         CONSUMER   \n",
       "5913   YOSEPH CARROLL      ALBERTA      WEST         CONSUMER   \n",
       "\n",
       "     Product_Category Product_Sub_Category  \n",
       "3947        FURNITURE               TABLES  \n",
       "3950        FURNITURE               TABLES  \n",
       "3972        FURNITURE               TABLES  \n",
       "3997        FURNITURE               TABLES  \n",
       "3998        FURNITURE               TABLES  \n",
       "...               ...                  ...  \n",
       "5894        FURNITURE   CHAIRS & CHAIRMATS  \n",
       "5896        FURNITURE   CHAIRS & CHAIRMATS  \n",
       "5897        FURNITURE   CHAIRS & CHAIRMATS  \n",
       "5903        FURNITURE   CHAIRS & CHAIRMATS  \n",
       "5913        FURNITURE   CHAIRS & CHAIRMATS  \n",
       "\n",
       "[358 rows x 16 columns]"
      ],
      "text/html": "<div>\n<style scoped>\n    .dataframe tbody tr th:only-of-type {\n        vertical-align: middle;\n    }\n\n    .dataframe tbody tr th {\n        vertical-align: top;\n    }\n\n    .dataframe thead th {\n        text-align: right;\n    }\n</style>\n<table border=\"1\" class=\"dataframe\">\n  <thead>\n    <tr style=\"text-align: right;\">\n      <th></th>\n      <th>Ord_id</th>\n      <th>Prod_id</th>\n      <th>Ship_id</th>\n      <th>Cust_id</th>\n      <th>Sales</th>\n      <th>Discount</th>\n      <th>Order_Quantity</th>\n      <th>Profit</th>\n      <th>Shipping_Cost</th>\n      <th>Product_Base_Margin</th>\n      <th>Customer_Name</th>\n      <th>Province</th>\n      <th>Region</th>\n      <th>Customer_Segment</th>\n      <th>Product_Category</th>\n      <th>Product_Sub_Category</th>\n    </tr>\n  </thead>\n  <tbody>\n    <tr>\n      <th>3947</th>\n      <td>Ord_2340</td>\n      <td>Prod_11</td>\n      <td>SHP_3211</td>\n      <td>Cust_933</td>\n      <td>2907.63</td>\n      <td>0.04</td>\n      <td>42</td>\n      <td>54.60</td>\n      <td>69.00</td>\n      <td>0.68</td>\n      <td>ALAN HAINES</td>\n      <td>QUEBEC</td>\n      <td>QUEBEC</td>\n      <td>CONSUMER</td>\n      <td>FURNITURE</td>\n      <td>TABLES</td>\n    </tr>\n    <tr>\n      <th>3950</th>\n      <td>Ord_2791</td>\n      <td>Prod_11</td>\n      <td>SHP_3838</td>\n      <td>Cust_1036</td>\n      <td>10351.01</td>\n      <td>0.08</td>\n      <td>19</td>\n      <td>-1331.55</td>\n      <td>45.70</td>\n      <td>0.71</td>\n      <td>ALEJANDRO GROVE</td>\n      <td>ONTARIO</td>\n      <td>ONTARIO</td>\n      <td>CONSUMER</td>\n      <td>FURNITURE</td>\n      <td>TABLES</td>\n    </tr>\n    <tr>\n      <th>3972</th>\n      <td>Ord_2116</td>\n      <td>Prod_11</td>\n      <td>SHP_2892</td>\n      <td>Cust_783</td>\n      <td>8246.86</td>\n      <td>0.06</td>\n      <td>46</td>\n      <td>-433.29</td>\n      <td>29.21</td>\n      <td>0.74</td>\n      <td>BARRY GONZALEZ</td>\n      <td>QUEBEC</td>\n      <td>QUEBEC</td>\n      <td>CONSUMER</td>\n      <td>FURNITURE</td>\n      <td>TABLES</td>\n    </tr>\n    <tr>\n      <th>3997</th>\n      <td>Ord_2059</td>\n      <td>Prod_11</td>\n      <td>SHP_2815</td>\n      <td>Cust_776</td>\n      <td>1875.18</td>\n      <td>0.01</td>\n      <td>10</td>\n      <td>-433.29</td>\n      <td>29.21</td>\n      <td>0.74</td>\n      <td>BRIAN STUGART</td>\n      <td>NOVA SCOTIA</td>\n      <td>ATLANTIC</td>\n      <td>CONSUMER</td>\n      <td>FURNITURE</td>\n      <td>TABLES</td>\n    </tr>\n    <tr>\n      <th>3998</th>\n      <td>Ord_2059</td>\n      <td>Prod_11</td>\n      <td>SHP_2815</td>\n      <td>Cust_918</td>\n      <td>3587.72</td>\n      <td>0.00</td>\n      <td>47</td>\n      <td>54.23</td>\n      <td>89.30</td>\n      <td>0.69</td>\n      <td>BRIAN STUGART</td>\n      <td>QUEBEC</td>\n      <td>QUEBEC</td>\n      <td>CONSUMER</td>\n      <td>FURNITURE</td>\n      <td>TABLES</td>\n    </tr>\n    <tr>\n      <th>...</th>\n      <td>...</td>\n      <td>...</td>\n      <td>...</td>\n      <td>...</td>\n      <td>...</td>\n      <td>...</td>\n      <td>...</td>\n      <td>...</td>\n      <td>...</td>\n      <td>...</td>\n      <td>...</td>\n      <td>...</td>\n      <td>...</td>\n      <td>...</td>\n      <td>...</td>\n      <td>...</td>\n    </tr>\n    <tr>\n      <th>5894</th>\n      <td>Ord_4974</td>\n      <td>Prod_15</td>\n      <td>SHP_6944</td>\n      <td>Cust_1693</td>\n      <td>4252.89</td>\n      <td>0.06</td>\n      <td>20</td>\n      <td>969.42</td>\n      <td>18.06</td>\n      <td>0.57</td>\n      <td>TIM BROCKMAN</td>\n      <td>ALBERTA</td>\n      <td>WEST</td>\n      <td>CONSUMER</td>\n      <td>FURNITURE</td>\n      <td>CHAIRS &amp; CHAIRMATS</td>\n    </tr>\n    <tr>\n      <th>5896</th>\n      <td>Ord_1686</td>\n      <td>Prod_15</td>\n      <td>SHP_2331</td>\n      <td>Cust_581</td>\n      <td>19342.84</td>\n      <td>0.01</td>\n      <td>39</td>\n      <td>5603.95</td>\n      <td>126.00</td>\n      <td>0.60</td>\n      <td>TODD BOYES</td>\n      <td>ONTARIO</td>\n      <td>ONTARIO</td>\n      <td>CONSUMER</td>\n      <td>FURNITURE</td>\n      <td>CHAIRS &amp; CHAIRMATS</td>\n    </tr>\n    <tr>\n      <th>5897</th>\n      <td>Ord_2728</td>\n      <td>Prod_15</td>\n      <td>SHP_3739</td>\n      <td>Cust_1035</td>\n      <td>1225.37</td>\n      <td>0.08</td>\n      <td>9</td>\n      <td>0.98</td>\n      <td>24.49</td>\n      <td>0.57</td>\n      <td>TODD SUMRALL</td>\n      <td>ONTARIO</td>\n      <td>ONTARIO</td>\n      <td>CONSUMER</td>\n      <td>FURNITURE</td>\n      <td>CHAIRS &amp; CHAIRMATS</td>\n    </tr>\n    <tr>\n      <th>5903</th>\n      <td>Ord_3368</td>\n      <td>Prod_15</td>\n      <td>SHP_4668</td>\n      <td>Cust_1190</td>\n      <td>3227.38</td>\n      <td>0.05</td>\n      <td>26</td>\n      <td>192.31</td>\n      <td>30.00</td>\n      <td>0.64</td>\n      <td>TRACY ZIC</td>\n      <td>MANITOBA</td>\n      <td>PRARIE</td>\n      <td>CONSUMER</td>\n      <td>FURNITURE</td>\n      <td>CHAIRS &amp; CHAIRMATS</td>\n    </tr>\n    <tr>\n      <th>5913</th>\n      <td>Ord_5348</td>\n      <td>Prod_15</td>\n      <td>SHP_7469</td>\n      <td>Cust_1798</td>\n      <td>3872.87</td>\n      <td>0.03</td>\n      <td>23</td>\n      <td>565.34</td>\n      <td>30.00</td>\n      <td>0.62</td>\n      <td>YOSEPH CARROLL</td>\n      <td>ALBERTA</td>\n      <td>WEST</td>\n      <td>CONSUMER</td>\n      <td>FURNITURE</td>\n      <td>CHAIRS &amp; CHAIRMATS</td>\n    </tr>\n  </tbody>\n</table>\n<p>358 rows × 16 columns</p>\n</div>"
     },
     "metadata": {},
     "execution_count": 10
    }
   ],
   "source": [
    "# Select all orders from product category = FURNITURE and from the consumer segment\n",
    "df_2.loc[(df_2['Product_Category']=='FURNITURE') & (df_2['Customer_Segment']=='CONSUMER'),:]"
   ]
  },
  {
   "cell_type": "markdown",
   "metadata": {},
   "source": [
    "\n",
    "Similary, you can merge the other dimension tables - ```shipping_df``` and ```orders_df``` to create a ```master_df``` and perform indexing using any column in the master dataframe.\n"
   ]
  },
  {
   "cell_type": "code",
   "execution_count": 11,
   "metadata": {},
   "outputs": [
    {
     "output_type": "execute_result",
     "data": {
      "text/plain": [
       "     Ord_id  Prod_id   Ship_id    Cust_id   Sales  Discount  Order_Quantity  \\\n",
       "0  Ord_5446  Prod_16  SHP_7609  Cust_1818  136.81      0.01              23   \n",
       "1  Ord_2978  Prod_16  SHP_4112  Cust_1088  305.05      0.04              27   \n",
       "2  Ord_5484  Prod_16  SHP_7663  Cust_1820  322.82      0.05              35   \n",
       "3  Ord_3730  Prod_16  SHP_5175  Cust_1314  459.08      0.04              34   \n",
       "4  Ord_4143  Prod_16  SHP_5771  Cust_1417  207.21      0.06              24   \n",
       "\n",
       "   Profit  Shipping_Cost  Product_Base_Margin        Customer_Name  \\\n",
       "0  -30.51           3.60                 0.56        AARON BERGMAN   \n",
       "1   23.12           3.37                 0.57        AARON HAWKINS   \n",
       "2  -17.58           3.98                 0.56         ADRIAN SHAMI   \n",
       "3   61.57           3.14                 0.60  ALEKSANDRA GANNAWAY   \n",
       "4  -78.64           6.14                 0.59         ALLEN ARMOLD   \n",
       "\n",
       "        Province    Region Customer_Segment Product_Category  \\\n",
       "0        ALBERTA      WEST        CORPORATE  OFFICE SUPPLIES   \n",
       "1        ONTARIO   ONTARIO      HOME OFFICE  OFFICE SUPPLIES   \n",
       "2        ALBERTA      WEST         CONSUMER  OFFICE SUPPLIES   \n",
       "3    SASKACHEWAN    PRARIE        CORPORATE  OFFICE SUPPLIES   \n",
       "4  NEW BRUNSWICK  ATLANTIC      HOME OFFICE  OFFICE SUPPLIES   \n",
       "\n",
       "            Product_Sub_Category  Order_ID    Ship_Mode   Ship_Date  \n",
       "0  SCISSORS, RULERS AND TRIMMERS     36262  REGULAR AIR  28-07-2010  \n",
       "1  SCISSORS, RULERS AND TRIMMERS     37863  REGULAR AIR  26-02-2011  \n",
       "2  SCISSORS, RULERS AND TRIMMERS     53026  REGULAR AIR  03-03-2012  \n",
       "3  SCISSORS, RULERS AND TRIMMERS     36992  EXPRESS AIR  09-12-2009  \n",
       "4  SCISSORS, RULERS AND TRIMMERS     13920  REGULAR AIR  10-10-2009  "
      ],
      "text/html": "<div>\n<style scoped>\n    .dataframe tbody tr th:only-of-type {\n        vertical-align: middle;\n    }\n\n    .dataframe tbody tr th {\n        vertical-align: top;\n    }\n\n    .dataframe thead th {\n        text-align: right;\n    }\n</style>\n<table border=\"1\" class=\"dataframe\">\n  <thead>\n    <tr style=\"text-align: right;\">\n      <th></th>\n      <th>Ord_id</th>\n      <th>Prod_id</th>\n      <th>Ship_id</th>\n      <th>Cust_id</th>\n      <th>Sales</th>\n      <th>Discount</th>\n      <th>Order_Quantity</th>\n      <th>Profit</th>\n      <th>Shipping_Cost</th>\n      <th>Product_Base_Margin</th>\n      <th>Customer_Name</th>\n      <th>Province</th>\n      <th>Region</th>\n      <th>Customer_Segment</th>\n      <th>Product_Category</th>\n      <th>Product_Sub_Category</th>\n      <th>Order_ID</th>\n      <th>Ship_Mode</th>\n      <th>Ship_Date</th>\n    </tr>\n  </thead>\n  <tbody>\n    <tr>\n      <th>0</th>\n      <td>Ord_5446</td>\n      <td>Prod_16</td>\n      <td>SHP_7609</td>\n      <td>Cust_1818</td>\n      <td>136.81</td>\n      <td>0.01</td>\n      <td>23</td>\n      <td>-30.51</td>\n      <td>3.60</td>\n      <td>0.56</td>\n      <td>AARON BERGMAN</td>\n      <td>ALBERTA</td>\n      <td>WEST</td>\n      <td>CORPORATE</td>\n      <td>OFFICE SUPPLIES</td>\n      <td>SCISSORS, RULERS AND TRIMMERS</td>\n      <td>36262</td>\n      <td>REGULAR AIR</td>\n      <td>28-07-2010</td>\n    </tr>\n    <tr>\n      <th>1</th>\n      <td>Ord_2978</td>\n      <td>Prod_16</td>\n      <td>SHP_4112</td>\n      <td>Cust_1088</td>\n      <td>305.05</td>\n      <td>0.04</td>\n      <td>27</td>\n      <td>23.12</td>\n      <td>3.37</td>\n      <td>0.57</td>\n      <td>AARON HAWKINS</td>\n      <td>ONTARIO</td>\n      <td>ONTARIO</td>\n      <td>HOME OFFICE</td>\n      <td>OFFICE SUPPLIES</td>\n      <td>SCISSORS, RULERS AND TRIMMERS</td>\n      <td>37863</td>\n      <td>REGULAR AIR</td>\n      <td>26-02-2011</td>\n    </tr>\n    <tr>\n      <th>2</th>\n      <td>Ord_5484</td>\n      <td>Prod_16</td>\n      <td>SHP_7663</td>\n      <td>Cust_1820</td>\n      <td>322.82</td>\n      <td>0.05</td>\n      <td>35</td>\n      <td>-17.58</td>\n      <td>3.98</td>\n      <td>0.56</td>\n      <td>ADRIAN SHAMI</td>\n      <td>ALBERTA</td>\n      <td>WEST</td>\n      <td>CONSUMER</td>\n      <td>OFFICE SUPPLIES</td>\n      <td>SCISSORS, RULERS AND TRIMMERS</td>\n      <td>53026</td>\n      <td>REGULAR AIR</td>\n      <td>03-03-2012</td>\n    </tr>\n    <tr>\n      <th>3</th>\n      <td>Ord_3730</td>\n      <td>Prod_16</td>\n      <td>SHP_5175</td>\n      <td>Cust_1314</td>\n      <td>459.08</td>\n      <td>0.04</td>\n      <td>34</td>\n      <td>61.57</td>\n      <td>3.14</td>\n      <td>0.60</td>\n      <td>ALEKSANDRA GANNAWAY</td>\n      <td>SASKACHEWAN</td>\n      <td>PRARIE</td>\n      <td>CORPORATE</td>\n      <td>OFFICE SUPPLIES</td>\n      <td>SCISSORS, RULERS AND TRIMMERS</td>\n      <td>36992</td>\n      <td>EXPRESS AIR</td>\n      <td>09-12-2009</td>\n    </tr>\n    <tr>\n      <th>4</th>\n      <td>Ord_4143</td>\n      <td>Prod_16</td>\n      <td>SHP_5771</td>\n      <td>Cust_1417</td>\n      <td>207.21</td>\n      <td>0.06</td>\n      <td>24</td>\n      <td>-78.64</td>\n      <td>6.14</td>\n      <td>0.59</td>\n      <td>ALLEN ARMOLD</td>\n      <td>NEW BRUNSWICK</td>\n      <td>ATLANTIC</td>\n      <td>HOME OFFICE</td>\n      <td>OFFICE SUPPLIES</td>\n      <td>SCISSORS, RULERS AND TRIMMERS</td>\n      <td>13920</td>\n      <td>REGULAR AIR</td>\n      <td>10-10-2009</td>\n    </tr>\n  </tbody>\n</table>\n</div>"
     },
     "metadata": {},
     "execution_count": 11
    }
   ],
   "source": [
    "# Merging shipping_df\n",
    "df_3 = pd.merge(df_2, shipping_df, how='inner', on='Ship_id')\n",
    "df_3.head()\n",
    "#df_3.shape"
   ]
  },
  {
   "cell_type": "code",
   "execution_count": 12,
   "metadata": {},
   "outputs": [
    {
     "output_type": "execute_result",
     "data": {
      "text/plain": [
       "     Ord_id  Prod_id   Ship_id    Cust_id    Sales  Discount  Order_Quantity  \\\n",
       "0  Ord_5446  Prod_16  SHP_7609  Cust_1818   136.81      0.01              23   \n",
       "1  Ord_5446   Prod_4  SHP_7610  Cust_1818  4701.69      0.00              26   \n",
       "2  Ord_5446   Prod_6  SHP_7608  Cust_1818   164.02      0.03              23   \n",
       "3  Ord_2978  Prod_16  SHP_4112  Cust_1088   305.05      0.04              27   \n",
       "4  Ord_5484  Prod_16  SHP_7663  Cust_1820   322.82      0.05              35   \n",
       "\n",
       "    Profit  Shipping_Cost  Product_Base_Margin  ...   Region Customer_Segment  \\\n",
       "0   -30.51           3.60                 0.56  ...     WEST        CORPORATE   \n",
       "1  1148.90           2.50                 0.59  ...     WEST        CORPORATE   \n",
       "2   -47.64           6.15                 0.37  ...     WEST        CORPORATE   \n",
       "3    23.12           3.37                 0.57  ...  ONTARIO      HOME OFFICE   \n",
       "4   -17.58           3.98                 0.56  ...     WEST         CONSUMER   \n",
       "\n",
       "  Product_Category           Product_Sub_Category Order_ID_x    Ship_Mode  \\\n",
       "0  OFFICE SUPPLIES  SCISSORS, RULERS AND TRIMMERS      36262  REGULAR AIR   \n",
       "1       TECHNOLOGY   TELEPHONES AND COMMUNICATION      36262  EXPRESS AIR   \n",
       "2  OFFICE SUPPLIES                          PAPER      36262  EXPRESS AIR   \n",
       "3  OFFICE SUPPLIES  SCISSORS, RULERS AND TRIMMERS      37863  REGULAR AIR   \n",
       "4  OFFICE SUPPLIES  SCISSORS, RULERS AND TRIMMERS      53026  REGULAR AIR   \n",
       "\n",
       "    Ship_Date Order_ID_y  Order_Date  Order_Priority  \n",
       "0  28-07-2010      36262  27-07-2010   NOT SPECIFIED  \n",
       "1  27-07-2010      36262  27-07-2010   NOT SPECIFIED  \n",
       "2  28-07-2010      36262  27-07-2010   NOT SPECIFIED  \n",
       "3  26-02-2011      37863  24-02-2011            HIGH  \n",
       "4  03-03-2012      53026  26-02-2012             LOW  \n",
       "\n",
       "[5 rows x 22 columns]"
      ],
      "text/html": "<div>\n<style scoped>\n    .dataframe tbody tr th:only-of-type {\n        vertical-align: middle;\n    }\n\n    .dataframe tbody tr th {\n        vertical-align: top;\n    }\n\n    .dataframe thead th {\n        text-align: right;\n    }\n</style>\n<table border=\"1\" class=\"dataframe\">\n  <thead>\n    <tr style=\"text-align: right;\">\n      <th></th>\n      <th>Ord_id</th>\n      <th>Prod_id</th>\n      <th>Ship_id</th>\n      <th>Cust_id</th>\n      <th>Sales</th>\n      <th>Discount</th>\n      <th>Order_Quantity</th>\n      <th>Profit</th>\n      <th>Shipping_Cost</th>\n      <th>Product_Base_Margin</th>\n      <th>...</th>\n      <th>Region</th>\n      <th>Customer_Segment</th>\n      <th>Product_Category</th>\n      <th>Product_Sub_Category</th>\n      <th>Order_ID_x</th>\n      <th>Ship_Mode</th>\n      <th>Ship_Date</th>\n      <th>Order_ID_y</th>\n      <th>Order_Date</th>\n      <th>Order_Priority</th>\n    </tr>\n  </thead>\n  <tbody>\n    <tr>\n      <th>0</th>\n      <td>Ord_5446</td>\n      <td>Prod_16</td>\n      <td>SHP_7609</td>\n      <td>Cust_1818</td>\n      <td>136.81</td>\n      <td>0.01</td>\n      <td>23</td>\n      <td>-30.51</td>\n      <td>3.60</td>\n      <td>0.56</td>\n      <td>...</td>\n      <td>WEST</td>\n      <td>CORPORATE</td>\n      <td>OFFICE SUPPLIES</td>\n      <td>SCISSORS, RULERS AND TRIMMERS</td>\n      <td>36262</td>\n      <td>REGULAR AIR</td>\n      <td>28-07-2010</td>\n      <td>36262</td>\n      <td>27-07-2010</td>\n      <td>NOT SPECIFIED</td>\n    </tr>\n    <tr>\n      <th>1</th>\n      <td>Ord_5446</td>\n      <td>Prod_4</td>\n      <td>SHP_7610</td>\n      <td>Cust_1818</td>\n      <td>4701.69</td>\n      <td>0.00</td>\n      <td>26</td>\n      <td>1148.90</td>\n      <td>2.50</td>\n      <td>0.59</td>\n      <td>...</td>\n      <td>WEST</td>\n      <td>CORPORATE</td>\n      <td>TECHNOLOGY</td>\n      <td>TELEPHONES AND COMMUNICATION</td>\n      <td>36262</td>\n      <td>EXPRESS AIR</td>\n      <td>27-07-2010</td>\n      <td>36262</td>\n      <td>27-07-2010</td>\n      <td>NOT SPECIFIED</td>\n    </tr>\n    <tr>\n      <th>2</th>\n      <td>Ord_5446</td>\n      <td>Prod_6</td>\n      <td>SHP_7608</td>\n      <td>Cust_1818</td>\n      <td>164.02</td>\n      <td>0.03</td>\n      <td>23</td>\n      <td>-47.64</td>\n      <td>6.15</td>\n      <td>0.37</td>\n      <td>...</td>\n      <td>WEST</td>\n      <td>CORPORATE</td>\n      <td>OFFICE SUPPLIES</td>\n      <td>PAPER</td>\n      <td>36262</td>\n      <td>EXPRESS AIR</td>\n      <td>28-07-2010</td>\n      <td>36262</td>\n      <td>27-07-2010</td>\n      <td>NOT SPECIFIED</td>\n    </tr>\n    <tr>\n      <th>3</th>\n      <td>Ord_2978</td>\n      <td>Prod_16</td>\n      <td>SHP_4112</td>\n      <td>Cust_1088</td>\n      <td>305.05</td>\n      <td>0.04</td>\n      <td>27</td>\n      <td>23.12</td>\n      <td>3.37</td>\n      <td>0.57</td>\n      <td>...</td>\n      <td>ONTARIO</td>\n      <td>HOME OFFICE</td>\n      <td>OFFICE SUPPLIES</td>\n      <td>SCISSORS, RULERS AND TRIMMERS</td>\n      <td>37863</td>\n      <td>REGULAR AIR</td>\n      <td>26-02-2011</td>\n      <td>37863</td>\n      <td>24-02-2011</td>\n      <td>HIGH</td>\n    </tr>\n    <tr>\n      <th>4</th>\n      <td>Ord_5484</td>\n      <td>Prod_16</td>\n      <td>SHP_7663</td>\n      <td>Cust_1820</td>\n      <td>322.82</td>\n      <td>0.05</td>\n      <td>35</td>\n      <td>-17.58</td>\n      <td>3.98</td>\n      <td>0.56</td>\n      <td>...</td>\n      <td>WEST</td>\n      <td>CONSUMER</td>\n      <td>OFFICE SUPPLIES</td>\n      <td>SCISSORS, RULERS AND TRIMMERS</td>\n      <td>53026</td>\n      <td>REGULAR AIR</td>\n      <td>03-03-2012</td>\n      <td>53026</td>\n      <td>26-02-2012</td>\n      <td>LOW</td>\n    </tr>\n  </tbody>\n</table>\n<p>5 rows × 22 columns</p>\n</div>"
     },
     "metadata": {},
     "execution_count": 12
    }
   ],
   "source": [
    "# Merging the orders table to create a master df\n",
    "master_df = pd.merge(df_3, orders_df, how='inner', on='Ord_id')\n",
    "master_df.shape\n",
    "master_df.head()"
   ]
  },
  {
   "cell_type": "markdown",
   "metadata": {},
   "source": [
    "Similary, you can perform left, right and outer merges (joins) by using the argument ```how = 'left' / 'right' / 'outer'```."
   ]
  },
  {
   "cell_type": "markdown",
   "metadata": {},
   "source": [
    "### Concatenating Dataframes\n",
    "\n",
    "#### Concatenating Dataframes Having the Same columns"
   ]
  },
  {
   "cell_type": "code",
   "execution_count": 13,
   "metadata": {},
   "outputs": [
    {
     "output_type": "execute_result",
     "data": {
      "text/plain": [
       "      Name  Age Gender\n",
       "0     Mani   20      M\n",
       "1     Aman   21      M\n",
       "2   Shubam   21      F\n",
       "3  Yovaraj   20      M"
      ],
      "text/html": "<div>\n<style scoped>\n    .dataframe tbody tr th:only-of-type {\n        vertical-align: middle;\n    }\n\n    .dataframe tbody tr th {\n        vertical-align: top;\n    }\n\n    .dataframe thead th {\n        text-align: right;\n    }\n</style>\n<table border=\"1\" class=\"dataframe\">\n  <thead>\n    <tr style=\"text-align: right;\">\n      <th></th>\n      <th>Name</th>\n      <th>Age</th>\n      <th>Gender</th>\n    </tr>\n  </thead>\n  <tbody>\n    <tr>\n      <th>0</th>\n      <td>Mani</td>\n      <td>20</td>\n      <td>M</td>\n    </tr>\n    <tr>\n      <th>1</th>\n      <td>Aman</td>\n      <td>21</td>\n      <td>M</td>\n    </tr>\n    <tr>\n      <th>2</th>\n      <td>Shubam</td>\n      <td>21</td>\n      <td>F</td>\n    </tr>\n    <tr>\n      <th>3</th>\n      <td>Yovaraj</td>\n      <td>20</td>\n      <td>M</td>\n    </tr>\n  </tbody>\n</table>\n</div>"
     },
     "metadata": {},
     "execution_count": 13
    }
   ],
   "source": [
    "# dataframes having the same columns\n",
    "df1 = pd.DataFrame({'Name': ['Mani','Aman','Shubam','Yovaraj'],\n",
    "                    'Age': [20,21,21,20],\n",
    "                    'Gender': ['M','M','F','M']}\n",
    "                   )\n",
    "\n",
    "df2 = pd.DataFrame({'Name': ['Vasu','Ankit','Manoj'],\n",
    "                    'Age': [16,17,19],\n",
    "                    'Gender': ['M','F','M']}\n",
    "                  )\n",
    "df1"
   ]
  },
  {
   "cell_type": "code",
   "execution_count": 14,
   "metadata": {},
   "outputs": [
    {
     "output_type": "execute_result",
     "data": {
      "text/plain": [
       "    Name  Age Gender\n",
       "0   Vasu   16      M\n",
       "1  Ankit   17      F\n",
       "2  Manoj   19      M"
      ],
      "text/html": "<div>\n<style scoped>\n    .dataframe tbody tr th:only-of-type {\n        vertical-align: middle;\n    }\n\n    .dataframe tbody tr th {\n        vertical-align: top;\n    }\n\n    .dataframe thead th {\n        text-align: right;\n    }\n</style>\n<table border=\"1\" class=\"dataframe\">\n  <thead>\n    <tr style=\"text-align: right;\">\n      <th></th>\n      <th>Name</th>\n      <th>Age</th>\n      <th>Gender</th>\n    </tr>\n  </thead>\n  <tbody>\n    <tr>\n      <th>0</th>\n      <td>Vasu</td>\n      <td>16</td>\n      <td>M</td>\n    </tr>\n    <tr>\n      <th>1</th>\n      <td>Ankit</td>\n      <td>17</td>\n      <td>F</td>\n    </tr>\n    <tr>\n      <th>2</th>\n      <td>Manoj</td>\n      <td>19</td>\n      <td>M</td>\n    </tr>\n  </tbody>\n</table>\n</div>"
     },
     "metadata": {},
     "execution_count": 14
    }
   ],
   "source": [
    "df2"
   ]
  },
  {
   "cell_type": "code",
   "execution_count": 15,
   "metadata": {},
   "outputs": [
    {
     "output_type": "execute_result",
     "data": {
      "text/plain": [
       "      Name  Age Gender\n",
       "0     Mani   20      M\n",
       "1     Aman   21      M\n",
       "2   Shubam   21      F\n",
       "3  Yovaraj   20      M\n",
       "0     Vasu   16      M\n",
       "1    Ankit   17      F\n",
       "2    Manoj   19      M"
      ],
      "text/html": "<div>\n<style scoped>\n    .dataframe tbody tr th:only-of-type {\n        vertical-align: middle;\n    }\n\n    .dataframe tbody tr th {\n        vertical-align: top;\n    }\n\n    .dataframe thead th {\n        text-align: right;\n    }\n</style>\n<table border=\"1\" class=\"dataframe\">\n  <thead>\n    <tr style=\"text-align: right;\">\n      <th></th>\n      <th>Name</th>\n      <th>Age</th>\n      <th>Gender</th>\n    </tr>\n  </thead>\n  <tbody>\n    <tr>\n      <th>0</th>\n      <td>Mani</td>\n      <td>20</td>\n      <td>M</td>\n    </tr>\n    <tr>\n      <th>1</th>\n      <td>Aman</td>\n      <td>21</td>\n      <td>M</td>\n    </tr>\n    <tr>\n      <th>2</th>\n      <td>Shubam</td>\n      <td>21</td>\n      <td>F</td>\n    </tr>\n    <tr>\n      <th>3</th>\n      <td>Yovaraj</td>\n      <td>20</td>\n      <td>M</td>\n    </tr>\n    <tr>\n      <th>0</th>\n      <td>Vasu</td>\n      <td>16</td>\n      <td>M</td>\n    </tr>\n    <tr>\n      <th>1</th>\n      <td>Ankit</td>\n      <td>17</td>\n      <td>F</td>\n    </tr>\n    <tr>\n      <th>2</th>\n      <td>Manoj</td>\n      <td>19</td>\n      <td>M</td>\n    </tr>\n  </tbody>\n</table>\n</div>"
     },
     "metadata": {},
     "execution_count": 15
    }
   ],
   "source": [
    "# To concatenate them, one on top of the other, you can use pd.concat\n",
    "# The first argument is a sequence (list) of dataframes\n",
    "# axis = 0 indicates that we want to concat along the row axis\n",
    "pd.concat([df1, df2], axis = 0)"
   ]
  },
  {
   "cell_type": "code",
   "execution_count": 16,
   "metadata": {},
   "outputs": [
    {
     "output_type": "execute_result",
     "data": {
      "text/plain": [
       "      Name  Age Gender\n",
       "0     Mani   20      M\n",
       "1     Aman   21      M\n",
       "2   Shubam   21      F\n",
       "3  Yovaraj   20      M\n",
       "0     Vasu   16      M\n",
       "1    Ankit   17      F\n",
       "2    Manoj   19      M"
      ],
      "text/html": "<div>\n<style scoped>\n    .dataframe tbody tr th:only-of-type {\n        vertical-align: middle;\n    }\n\n    .dataframe tbody tr th {\n        vertical-align: top;\n    }\n\n    .dataframe thead th {\n        text-align: right;\n    }\n</style>\n<table border=\"1\" class=\"dataframe\">\n  <thead>\n    <tr style=\"text-align: right;\">\n      <th></th>\n      <th>Name</th>\n      <th>Age</th>\n      <th>Gender</th>\n    </tr>\n  </thead>\n  <tbody>\n    <tr>\n      <th>0</th>\n      <td>Mani</td>\n      <td>20</td>\n      <td>M</td>\n    </tr>\n    <tr>\n      <th>1</th>\n      <td>Aman</td>\n      <td>21</td>\n      <td>M</td>\n    </tr>\n    <tr>\n      <th>2</th>\n      <td>Shubam</td>\n      <td>21</td>\n      <td>F</td>\n    </tr>\n    <tr>\n      <th>3</th>\n      <td>Yovaraj</td>\n      <td>20</td>\n      <td>M</td>\n    </tr>\n    <tr>\n      <th>0</th>\n      <td>Vasu</td>\n      <td>16</td>\n      <td>M</td>\n    </tr>\n    <tr>\n      <th>1</th>\n      <td>Ankit</td>\n      <td>17</td>\n      <td>F</td>\n    </tr>\n    <tr>\n      <th>2</th>\n      <td>Manoj</td>\n      <td>19</td>\n      <td>M</td>\n    </tr>\n  </tbody>\n</table>\n</div>"
     },
     "metadata": {},
     "execution_count": 16
    }
   ],
   "source": [
    "# A useful and intuitive alternative to concat along the rows is the append() function\n",
    "# It concatenates along the rows\n",
    "df1.append(df2)\n"
   ]
  },
  {
   "cell_type": "markdown",
   "metadata": {},
   "source": [
    "#### Concatenating Dataframes Having the Same Rows\n",
    "\n",
    "You may also have dataframes having the same rows but different columns (and having no common columns). In this case, you may want to concat them side-by-side. For e.g.:"
   ]
  },
  {
   "cell_type": "code",
   "execution_count": 17,
   "metadata": {},
   "outputs": [
    {
     "output_type": "execute_result",
     "data": {
      "text/plain": [
       "      Name  Age Gender\n",
       "0     Mani   20      M\n",
       "1     Aman   21      M\n",
       "2   Shubam   21      F\n",
       "3  Yovaraj   20      M"
      ],
      "text/html": "<div>\n<style scoped>\n    .dataframe tbody tr th:only-of-type {\n        vertical-align: middle;\n    }\n\n    .dataframe tbody tr th {\n        vertical-align: top;\n    }\n\n    .dataframe thead th {\n        text-align: right;\n    }\n</style>\n<table border=\"1\" class=\"dataframe\">\n  <thead>\n    <tr style=\"text-align: right;\">\n      <th></th>\n      <th>Name</th>\n      <th>Age</th>\n      <th>Gender</th>\n    </tr>\n  </thead>\n  <tbody>\n    <tr>\n      <th>0</th>\n      <td>Mani</td>\n      <td>20</td>\n      <td>M</td>\n    </tr>\n    <tr>\n      <th>1</th>\n      <td>Aman</td>\n      <td>21</td>\n      <td>M</td>\n    </tr>\n    <tr>\n      <th>2</th>\n      <td>Shubam</td>\n      <td>21</td>\n      <td>F</td>\n    </tr>\n    <tr>\n      <th>3</th>\n      <td>Yovaraj</td>\n      <td>20</td>\n      <td>M</td>\n    </tr>\n  </tbody>\n</table>\n</div>"
     },
     "metadata": {},
     "execution_count": 17
    }
   ],
   "source": [
    "df1 = pd.DataFrame({'Name': ['Mani','Aman','Shubam','Yovaraj'],\n",
    "                    'Age': [20,21,21,20],\n",
    "                    'Gender': ['M','M','F','M']}\n",
    "                  )\n",
    "df1"
   ]
  },
  {
   "cell_type": "code",
   "execution_count": 18,
   "metadata": {},
   "outputs": [
    {
     "output_type": "execute_result",
     "data": {
      "text/plain": [
       "                School  Marks\n",
       "0              Harvest    100\n",
       "1           New Vision     80\n",
       "2  Delhi Public School     70\n",
       "3                  HPS     85"
      ],
      "text/html": "<div>\n<style scoped>\n    .dataframe tbody tr th:only-of-type {\n        vertical-align: middle;\n    }\n\n    .dataframe tbody tr th {\n        vertical-align: top;\n    }\n\n    .dataframe thead th {\n        text-align: right;\n    }\n</style>\n<table border=\"1\" class=\"dataframe\">\n  <thead>\n    <tr style=\"text-align: right;\">\n      <th></th>\n      <th>School</th>\n      <th>Marks</th>\n    </tr>\n  </thead>\n  <tbody>\n    <tr>\n      <th>0</th>\n      <td>Harvest</td>\n      <td>100</td>\n    </tr>\n    <tr>\n      <th>1</th>\n      <td>New Vision</td>\n      <td>80</td>\n    </tr>\n    <tr>\n      <th>2</th>\n      <td>Delhi Public School</td>\n      <td>70</td>\n    </tr>\n    <tr>\n      <th>3</th>\n      <td>HPS</td>\n      <td>85</td>\n    </tr>\n  </tbody>\n</table>\n</div>"
     },
     "metadata": {},
     "execution_count": 18
    }
   ],
   "source": [
    "df2 = pd.DataFrame({'School': ['Harvest','New Vision','Delhi Public School','HPS'],\n",
    "                    'Marks': [100,80,70,85]}\n",
    "                  )\n",
    "df2"
   ]
  },
  {
   "cell_type": "code",
   "execution_count": 19,
   "metadata": {},
   "outputs": [
    {
     "output_type": "execute_result",
     "data": {
      "text/plain": [
       "      Name  Age Gender               School  Marks\n",
       "0     Mani   20      M              Harvest    100\n",
       "1     Aman   21      M           New Vision     80\n",
       "2   Shubam   21      F  Delhi Public School     70\n",
       "3  Yovaraj   20      M                  HPS     85"
      ],
      "text/html": "<div>\n<style scoped>\n    .dataframe tbody tr th:only-of-type {\n        vertical-align: middle;\n    }\n\n    .dataframe tbody tr th {\n        vertical-align: top;\n    }\n\n    .dataframe thead th {\n        text-align: right;\n    }\n</style>\n<table border=\"1\" class=\"dataframe\">\n  <thead>\n    <tr style=\"text-align: right;\">\n      <th></th>\n      <th>Name</th>\n      <th>Age</th>\n      <th>Gender</th>\n      <th>School</th>\n      <th>Marks</th>\n    </tr>\n  </thead>\n  <tbody>\n    <tr>\n      <th>0</th>\n      <td>Mani</td>\n      <td>20</td>\n      <td>M</td>\n      <td>Harvest</td>\n      <td>100</td>\n    </tr>\n    <tr>\n      <th>1</th>\n      <td>Aman</td>\n      <td>21</td>\n      <td>M</td>\n      <td>New Vision</td>\n      <td>80</td>\n    </tr>\n    <tr>\n      <th>2</th>\n      <td>Shubam</td>\n      <td>21</td>\n      <td>F</td>\n      <td>Delhi Public School</td>\n      <td>70</td>\n    </tr>\n    <tr>\n      <th>3</th>\n      <td>Yovaraj</td>\n      <td>20</td>\n      <td>M</td>\n      <td>HPS</td>\n      <td>85</td>\n    </tr>\n  </tbody>\n</table>\n</div>"
     },
     "metadata": {},
     "execution_count": 19
    }
   ],
   "source": [
    "# To join the two dataframes, use axis = 1 to indicate joining along the columns axis\n",
    "# The join is possible because the corresponding rows have the same indices\n",
    "pd.concat([df1, df2], axis = 1)"
   ]
  },
  {
   "cell_type": "markdown",
   "metadata": {},
   "source": [
    "Note that you can also use the ```pd.concat()``` method to merge dataframes using common keys, though here we will not discuss that. For simplicity, we have used the ```pd.merge()``` method for database-style merging and ```pd.concat()``` for appending dataframes having no common columns."
   ]
  },
  {
   "cell_type": "markdown",
   "metadata": {},
   "source": [
    "#### Performing Arithmetic Operations on two or more dataframes\n",
    "\n",
    "We can also perform simple arithmetic operations on two or more dataframes. Below are the stats for IPL 2018 and 2017."
   ]
  },
  {
   "cell_type": "code",
   "execution_count": 20,
   "metadata": {},
   "outputs": [
    {
     "output_type": "execute_result",
     "data": {
      "text/plain": [
       "          Matches Played  Matches Won\n",
       "IPL Team                             \n",
       "CSK                    6            6\n",
       "RCB                    6            0\n",
       "MI                     6            3\n",
       "SRH                    6            3"
      ],
      "text/html": "<div>\n<style scoped>\n    .dataframe tbody tr th:only-of-type {\n        vertical-align: middle;\n    }\n\n    .dataframe tbody tr th {\n        vertical-align: top;\n    }\n\n    .dataframe thead th {\n        text-align: right;\n    }\n</style>\n<table border=\"1\" class=\"dataframe\">\n  <thead>\n    <tr style=\"text-align: right;\">\n      <th></th>\n      <th>Matches Played</th>\n      <th>Matches Won</th>\n    </tr>\n    <tr>\n      <th>IPL Team</th>\n      <th></th>\n      <th></th>\n    </tr>\n  </thead>\n  <tbody>\n    <tr>\n      <th>CSK</th>\n      <td>6</td>\n      <td>6</td>\n    </tr>\n    <tr>\n      <th>RCB</th>\n      <td>6</td>\n      <td>0</td>\n    </tr>\n    <tr>\n      <th>MI</th>\n      <td>6</td>\n      <td>3</td>\n    </tr>\n    <tr>\n      <th>SRH</th>\n      <td>6</td>\n      <td>3</td>\n    </tr>\n  </tbody>\n</table>\n</div>"
     },
     "metadata": {},
     "execution_count": 20
    }
   ],
   "source": [
    "# Teamwise stats for IPL 2018\n",
    "IPL_2019 = pd.DataFrame({'IPL Team': ['CSK','RCB','MI','SRH'],\n",
    "                         'Matches Played': [6,6,6,6],\n",
    "                         'Matches Won': [6,0,3,3]}\n",
    "                       )\n",
    "\n",
    "# Set the 'IPL Team' column as the index to perform arithmetic operations on the other rows using the team as reference\n",
    "IPL_2019.set_index('IPL Team', inplace = True)\n",
    "IPL_2019"
   ]
  },
  {
   "cell_type": "code",
   "execution_count": 21,
   "metadata": {},
   "outputs": [
    {
     "output_type": "execute_result",
     "data": {
      "text/plain": [
       "          Matches Played  Matches Won\n",
       "IPL Team                             \n",
       "KP                     6            1\n",
       "KKR                    6            2\n",
       "DC                     6            3\n",
       "CSK                    6            6"
      ],
      "text/html": "<div>\n<style scoped>\n    .dataframe tbody tr th:only-of-type {\n        vertical-align: middle;\n    }\n\n    .dataframe tbody tr th {\n        vertical-align: top;\n    }\n\n    .dataframe thead th {\n        text-align: right;\n    }\n</style>\n<table border=\"1\" class=\"dataframe\">\n  <thead>\n    <tr style=\"text-align: right;\">\n      <th></th>\n      <th>Matches Played</th>\n      <th>Matches Won</th>\n    </tr>\n    <tr>\n      <th>IPL Team</th>\n      <th></th>\n      <th></th>\n    </tr>\n  </thead>\n  <tbody>\n    <tr>\n      <th>KP</th>\n      <td>6</td>\n      <td>1</td>\n    </tr>\n    <tr>\n      <th>KKR</th>\n      <td>6</td>\n      <td>2</td>\n    </tr>\n    <tr>\n      <th>DC</th>\n      <td>6</td>\n      <td>3</td>\n    </tr>\n    <tr>\n      <th>CSK</th>\n      <td>6</td>\n      <td>6</td>\n    </tr>\n  </tbody>\n</table>\n</div>"
     },
     "metadata": {},
     "execution_count": 21
    }
   ],
   "source": [
    "# Similarly, we have the stats for IPL 2017\n",
    "IPL_2018 = pd.DataFrame({'IPL Team': ['KP','KKR','DC','CSK'],\n",
    "                         'Matches Played': [6,6,6,6],\n",
    "                         'Matches Won': [1,2,3,6]}\n",
    "                       )\n",
    "IPL_2018.set_index('IPL Team', inplace = True)\n",
    "IPL_2018"
   ]
  },
  {
   "cell_type": "code",
   "execution_count": 22,
   "metadata": {},
   "outputs": [
    {
     "output_type": "execute_result",
     "data": {
      "text/plain": [
       "          Matches Played  Matches Won\n",
       "IPL Team                             \n",
       "CSK                 12.0         12.0\n",
       "DC                   NaN          NaN\n",
       "KKR                  NaN          NaN\n",
       "KP                   NaN          NaN\n",
       "MI                   NaN          NaN\n",
       "RCB                  NaN          NaN\n",
       "SRH                  NaN          NaN"
      ],
      "text/html": "<div>\n<style scoped>\n    .dataframe tbody tr th:only-of-type {\n        vertical-align: middle;\n    }\n\n    .dataframe tbody tr th {\n        vertical-align: top;\n    }\n\n    .dataframe thead th {\n        text-align: right;\n    }\n</style>\n<table border=\"1\" class=\"dataframe\">\n  <thead>\n    <tr style=\"text-align: right;\">\n      <th></th>\n      <th>Matches Played</th>\n      <th>Matches Won</th>\n    </tr>\n    <tr>\n      <th>IPL Team</th>\n      <th></th>\n      <th></th>\n    </tr>\n  </thead>\n  <tbody>\n    <tr>\n      <th>CSK</th>\n      <td>12.0</td>\n      <td>12.0</td>\n    </tr>\n    <tr>\n      <th>DC</th>\n      <td>NaN</td>\n      <td>NaN</td>\n    </tr>\n    <tr>\n      <th>KKR</th>\n      <td>NaN</td>\n      <td>NaN</td>\n    </tr>\n    <tr>\n      <th>KP</th>\n      <td>NaN</td>\n      <td>NaN</td>\n    </tr>\n    <tr>\n      <th>MI</th>\n      <td>NaN</td>\n      <td>NaN</td>\n    </tr>\n    <tr>\n      <th>RCB</th>\n      <td>NaN</td>\n      <td>NaN</td>\n    </tr>\n    <tr>\n      <th>SRH</th>\n      <td>NaN</td>\n      <td>NaN</td>\n    </tr>\n  </tbody>\n</table>\n</div>"
     },
     "metadata": {},
     "execution_count": 22
    }
   ],
   "source": [
    "# Simply add the two DFs using the add opearator\n",
    "\n",
    "Total = IPL_2019 + IPL_2018\n",
    "Total"
   ]
  },
  {
   "cell_type": "markdown",
   "metadata": {},
   "source": [
    "Notice that there are a lot of NaN values. This is because some teams which played in IPL 2018 were not present in IPL 2019. In addition, there were also new teams present in IPL 2019. We can handle these NaN values by using `df.add()` instead of the simple add operator. "
   ]
  },
  {
   "cell_type": "code",
   "execution_count": 23,
   "metadata": {},
   "outputs": [
    {
     "output_type": "execute_result",
     "data": {
      "text/plain": [
       "          Matches Played  Matches Won\n",
       "IPL Team                             \n",
       "CSK                 12.0         12.0\n",
       "DC                   6.0          3.0\n",
       "KKR                  6.0          2.0\n",
       "KP                   6.0          1.0\n",
       "MI                   6.0          3.0\n",
       "RCB                  6.0          0.0\n",
       "SRH                  6.0          3.0"
      ],
      "text/html": "<div>\n<style scoped>\n    .dataframe tbody tr th:only-of-type {\n        vertical-align: middle;\n    }\n\n    .dataframe tbody tr th {\n        vertical-align: top;\n    }\n\n    .dataframe thead th {\n        text-align: right;\n    }\n</style>\n<table border=\"1\" class=\"dataframe\">\n  <thead>\n    <tr style=\"text-align: right;\">\n      <th></th>\n      <th>Matches Played</th>\n      <th>Matches Won</th>\n    </tr>\n    <tr>\n      <th>IPL Team</th>\n      <th></th>\n      <th></th>\n    </tr>\n  </thead>\n  <tbody>\n    <tr>\n      <th>CSK</th>\n      <td>12.0</td>\n      <td>12.0</td>\n    </tr>\n    <tr>\n      <th>DC</th>\n      <td>6.0</td>\n      <td>3.0</td>\n    </tr>\n    <tr>\n      <th>KKR</th>\n      <td>6.0</td>\n      <td>2.0</td>\n    </tr>\n    <tr>\n      <th>KP</th>\n      <td>6.0</td>\n      <td>1.0</td>\n    </tr>\n    <tr>\n      <th>MI</th>\n      <td>6.0</td>\n      <td>3.0</td>\n    </tr>\n    <tr>\n      <th>RCB</th>\n      <td>6.0</td>\n      <td>0.0</td>\n    </tr>\n    <tr>\n      <th>SRH</th>\n      <td>6.0</td>\n      <td>3.0</td>\n    </tr>\n  </tbody>\n</table>\n</div>"
     },
     "metadata": {},
     "execution_count": 23
    }
   ],
   "source": [
    "# The fill_value argument inside the df.add() function replaces all the NaN values in the two dataframes w.r.t. each other with zero.\n",
    "Total = IPL_2019.add(IPL_2018, fill_value = 0)\n",
    "Total"
   ]
  },
  {
   "cell_type": "markdown",
   "metadata": {},
   "source": [
    "Also notice how the resultant dataframe is sorted by the index, i.e. 'IPL Team' alphabetically."
   ]
  },
  {
   "cell_type": "code",
   "execution_count": 24,
   "metadata": {},
   "outputs": [
    {
     "output_type": "execute_result",
     "data": {
      "text/plain": [
       "          Matches Played  Matches Won  Win Percentage\n",
       "IPL Team                                             \n",
       "CSK                 12.0         12.0        1.000000\n",
       "DC                   6.0          3.0        0.500000\n",
       "KKR                  6.0          2.0        0.333333\n",
       "KP                   6.0          1.0        0.166667\n",
       "MI                   6.0          3.0        0.500000\n",
       "RCB                  6.0          0.0        0.000000\n",
       "SRH                  6.0          3.0        0.500000"
      ],
      "text/html": "<div>\n<style scoped>\n    .dataframe tbody tr th:only-of-type {\n        vertical-align: middle;\n    }\n\n    .dataframe tbody tr th {\n        vertical-align: top;\n    }\n\n    .dataframe thead th {\n        text-align: right;\n    }\n</style>\n<table border=\"1\" class=\"dataframe\">\n  <thead>\n    <tr style=\"text-align: right;\">\n      <th></th>\n      <th>Matches Played</th>\n      <th>Matches Won</th>\n      <th>Win Percentage</th>\n    </tr>\n    <tr>\n      <th>IPL Team</th>\n      <th></th>\n      <th></th>\n      <th></th>\n    </tr>\n  </thead>\n  <tbody>\n    <tr>\n      <th>CSK</th>\n      <td>12.0</td>\n      <td>12.0</td>\n      <td>1.000000</td>\n    </tr>\n    <tr>\n      <th>DC</th>\n      <td>6.0</td>\n      <td>3.0</td>\n      <td>0.500000</td>\n    </tr>\n    <tr>\n      <th>KKR</th>\n      <td>6.0</td>\n      <td>2.0</td>\n      <td>0.333333</td>\n    </tr>\n    <tr>\n      <th>KP</th>\n      <td>6.0</td>\n      <td>1.0</td>\n      <td>0.166667</td>\n    </tr>\n    <tr>\n      <th>MI</th>\n      <td>6.0</td>\n      <td>3.0</td>\n      <td>0.500000</td>\n    </tr>\n    <tr>\n      <th>RCB</th>\n      <td>6.0</td>\n      <td>0.0</td>\n      <td>0.000000</td>\n    </tr>\n    <tr>\n      <th>SRH</th>\n      <td>6.0</td>\n      <td>3.0</td>\n      <td>0.500000</td>\n    </tr>\n  </tbody>\n</table>\n</div>"
     },
     "metadata": {},
     "execution_count": 24
    }
   ],
   "source": [
    "# Creating a new column - 'Win Percentage'\n",
    "\n",
    "Total['Win Percentage'] = Total['Matches Won']/Total['Matches Played']\n",
    "Total"
   ]
  },
  {
   "cell_type": "code",
   "execution_count": 25,
   "metadata": {},
   "outputs": [
    {
     "output_type": "execute_result",
     "data": {
      "text/plain": [
       "          Matches Played  Matches Won  Win Percentage\n",
       "IPL Team                                             \n",
       "CSK                 12.0         12.0        1.000000\n",
       "DC                   6.0          3.0        0.500000\n",
       "MI                   6.0          3.0        0.500000\n",
       "SRH                  6.0          3.0        0.500000\n",
       "KKR                  6.0          2.0        0.333333\n",
       "KP                   6.0          1.0        0.166667\n",
       "RCB                  6.0          0.0        0.000000"
      ],
      "text/html": "<div>\n<style scoped>\n    .dataframe tbody tr th:only-of-type {\n        vertical-align: middle;\n    }\n\n    .dataframe tbody tr th {\n        vertical-align: top;\n    }\n\n    .dataframe thead th {\n        text-align: right;\n    }\n</style>\n<table border=\"1\" class=\"dataframe\">\n  <thead>\n    <tr style=\"text-align: right;\">\n      <th></th>\n      <th>Matches Played</th>\n      <th>Matches Won</th>\n      <th>Win Percentage</th>\n    </tr>\n    <tr>\n      <th>IPL Team</th>\n      <th></th>\n      <th></th>\n      <th></th>\n    </tr>\n  </thead>\n  <tbody>\n    <tr>\n      <th>CSK</th>\n      <td>12.0</td>\n      <td>12.0</td>\n      <td>1.000000</td>\n    </tr>\n    <tr>\n      <th>DC</th>\n      <td>6.0</td>\n      <td>3.0</td>\n      <td>0.500000</td>\n    </tr>\n    <tr>\n      <th>MI</th>\n      <td>6.0</td>\n      <td>3.0</td>\n      <td>0.500000</td>\n    </tr>\n    <tr>\n      <th>SRH</th>\n      <td>6.0</td>\n      <td>3.0</td>\n      <td>0.500000</td>\n    </tr>\n    <tr>\n      <th>KKR</th>\n      <td>6.0</td>\n      <td>2.0</td>\n      <td>0.333333</td>\n    </tr>\n    <tr>\n      <th>KP</th>\n      <td>6.0</td>\n      <td>1.0</td>\n      <td>0.166667</td>\n    </tr>\n    <tr>\n      <th>RCB</th>\n      <td>6.0</td>\n      <td>0.0</td>\n      <td>0.000000</td>\n    </tr>\n  </tbody>\n</table>\n</div>"
     },
     "metadata": {},
     "execution_count": 25
    }
   ],
   "source": [
    "# Sorting to determine the teams with most number of wins. If the number of wins of two teams are the same, sort by the win percentage.\n",
    "\n",
    "Total.sort_values(by = (['Matches Won', 'Win Percentage']), ascending = False)"
   ]
  },
  {
   "cell_type": "markdown",
   "metadata": {},
   "source": [
    "Apart from add(), there are also other operator-equivalent mathematical functions that you can use on Dataframes. Below is a list of all the functions that you can use to perform operations on two or more dataframes\n",
    "-  `add()`: +\n",
    "-  `sub()`: -\n",
    "-  `mul()`: *\n",
    "-  `div()`: /\n",
    "-  `floordiv()`: //\n",
    "-  `mod()`: %\n",
    "-  `pow()`: **"
   ]
  },
  {
   "cell_type": "code",
   "execution_count": 26,
   "metadata": {},
   "outputs": [
    {
     "output_type": "execute_result",
     "data": {
      "text/plain": [
       "         Medals\n",
       "Country        \n",
       "USA        72.0\n",
       "France     53.0\n",
       "UK         27.0\n",
       "Russia     25.0\n",
       "Germany    20.0"
      ],
      "text/html": "<div>\n<style scoped>\n    .dataframe tbody tr th:only-of-type {\n        vertical-align: middle;\n    }\n\n    .dataframe tbody tr th {\n        vertical-align: top;\n    }\n\n    .dataframe thead th {\n        text-align: right;\n    }\n</style>\n<table border=\"1\" class=\"dataframe\">\n  <thead>\n    <tr style=\"text-align: right;\">\n      <th></th>\n      <th>Medals</th>\n    </tr>\n    <tr>\n      <th>Country</th>\n      <th></th>\n    </tr>\n  </thead>\n  <tbody>\n    <tr>\n      <th>USA</th>\n      <td>72.0</td>\n    </tr>\n    <tr>\n      <th>France</th>\n      <td>53.0</td>\n    </tr>\n    <tr>\n      <th>UK</th>\n      <td>27.0</td>\n    </tr>\n    <tr>\n      <th>Russia</th>\n      <td>25.0</td>\n    </tr>\n    <tr>\n      <th>Germany</th>\n      <td>20.0</td>\n    </tr>\n  </tbody>\n</table>\n</div>"
     },
     "metadata": {},
     "execution_count": 26
    }
   ],
   "source": [
    "gold = pd.DataFrame({'Country': ['USA', 'France', 'Russia'],\n",
    "                         'Medals': [15, 13, 9]}\n",
    "                    )\n",
    "silver = pd.DataFrame({'Country': ['USA', 'Germany', 'Russia'],\n",
    "                        'Medals': [29, 20, 16]}\n",
    "                    )\n",
    "bronze = pd.DataFrame({'Country': ['France', 'USA', 'UK'],\n",
    "                        'Medals': [40, 28, 27]}\n",
    "                    )\n",
    "gold.set_index('Country',inplace=True)\n",
    "silver.set_index('Country',inplace=True)\n",
    "bronze.set_index('Country',inplace=True)\n",
    "\n",
    "df=gold.add(bronze,fill_value=0)\n",
    "df2=silver.add(df,fill_value=0)\n",
    "df2.sort_values(by=(['Medals']),ascending=False)\n",
    "#print(df2)"
   ]
  },
  {
   "cell_type": "code",
   "execution_count": null,
   "metadata": {},
   "outputs": [],
   "source": []
  }
 ],
 "metadata": {
  "kernelspec": {
   "name": "python388jvsc74a57bd037eb40c3388cfde35488e2d005b0d69ca91ddeff8a429754d4da636d3f888e5e",
   "display_name": "Python 3.8.8 64-bit ('base': conda)"
  },
  "language_info": {
   "codemirror_mode": {
    "name": "ipython",
    "version": 3
   },
   "file_extension": ".py",
   "mimetype": "text/x-python",
   "name": "python",
   "nbconvert_exporter": "python",
   "pygments_lexer": "ipython3",
   "version": "3.8.8"
  }
 },
 "nbformat": 4,
 "nbformat_minor": 2
}