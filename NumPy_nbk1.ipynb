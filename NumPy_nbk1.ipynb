{
  "nbformat": 4,
  "nbformat_minor": 0,
  "metadata": {
    "kernelspec": {
      "name": "python388jvsc74a57bd037eb40c3388cfde35488e2d005b0d69ca91ddeff8a429754d4da636d3f888e5e",
      "display_name": "Python 3.8.8 64-bit ('base': conda)"
    },
    "language_info": {
      "codemirror_mode": {
        "name": "ipython",
        "version": 3
      },
      "file_extension": ".py",
      "mimetype": "text/x-python",
      "name": "python",
      "nbconvert_exporter": "python",
      "pygments_lexer": "ipython3",
      "version": "3.8.8"
    },
    "colab": {
      "name": "NumPy nbk1.ipynb",
      "provenance": []
    },
    "metadata": {
      "interpreter": {
        "hash": "138d241a16834cda83f12dc7b1fc17c86ac1842b2d04d5e79ff1ae4d4446b93e"
      }
    }
  },
  "cells": [
    {
      "cell_type": "markdown",
      "metadata": {
        "id": "d1KIAhkv90eT",
        "colab_type": "text"
      },
      "source": [
        "### NumPy Basics\n",
        "\n",
        "\n"
      ]
    },
    {
      "cell_type": "code",
      "metadata": {
        "id": "S-ndvD-F90eW",
        "colab_type": "code",
        "colab": {}
      },
      "source": [
        "# Import the numpy library\n",
        "# np is simply an alias, you may use any other alias, though np is quite standard\n",
        "import numpy as np"
      ],
      "execution_count": 1,
      "outputs": []
    },
    {
      "cell_type": "code",
      "metadata": {
        "id": "X2swfAip90ea",
        "colab_type": "code",
        "colab": {}
      },
      "source": [
        "# Creating a 1-D array using a list\n",
        "# np.array() takes in a list or a tuple as argument, and converts into an array\n",
        "array_1d = np.array([2, 4, 5, 6, 7, 9])\n",
        "print(array_1d)\n",
        "print(type(array_1d))\n",
        "print(array_1d[0::2])"
      ],
      "execution_count": 2,
      "outputs": [
        {
          "output_type": "stream",
          "name": "stdout",
          "text": [
            "[2 4 5 6 7 9]\n<class 'numpy.ndarray'>\n[2 5 7]\n"
          ]
        }
      ]
    },
    {
      "cell_type": "code",
      "metadata": {
        "id": "HH83IIBM90ed",
        "colab_type": "code",
        "colab": {}
      },
      "source": [
        "# Creating a 2-D array using two lists\n",
        "array_2d = np.array([[2, 3, 4], [5, 8, 7]])\n",
        "print(array_2d)"
      ],
      "execution_count": 3,
      "outputs": [
        {
          "output_type": "stream",
          "name": "stdout",
          "text": [
            "[[2 3 4]\n [5 8 7]]\n"
          ]
        }
      ]
    },
    {
      "source": [
        "In NumPy, dimensions are called **axes**. In the 2-d array above, there are two axes, having two and three elements respectively. \n",
        "\n",
        "In NumPy terminology, for 2-D arrays:\n",
        "* ```axis = 0``` refers to the rows\n",
        "* ```axis = 1``` refers to the columns\n",
        "\n",
        "<img src=\"123.jp\" style=\"width: 600px; height: 400px\">"
      ],
      "cell_type": "markdown",
      "metadata": {
        "id": "Udm8MLKc90eh",
        "colab_type": "text"
      }
    },
    {
      "cell_type": "code",
      "metadata": {
        "id": "yjrxKzNh90ei",
        "colab_type": "code",
        "colab": {}
      },
      "source": [
        "list_1 = [3, 6, 7, 5]\n",
        "list_2 = [4, 5, 1, 7]\n",
        "\n",
        "# the list way to do it: map a function to the two lists\n",
        "product_list = list(map(lambda x, y: x*y, list_1, list_2))\n",
        "print(product_list)\n"
      ],
      "execution_count": 4,
      "outputs": [
        {
          "output_type": "stream",
          "name": "stdout",
          "text": [
            "[12, 30, 7, 35]\n"
          ]
        }
      ]
    },
    {
      "cell_type": "code",
      "metadata": {
        "id": "9mx9Njgz90el",
        "colab_type": "code",
        "colab": {}
      },
      "source": [
        "# The numpy array way to do it: simply multiply the two arrays\n",
        "array_1 = np.array(list_1)\n",
        "array_2 = np.array(list_2)\n",
        "\n",
        "array_3 = array_1*array_2\n",
        "print(array_3)\n",
        "print(type(array_3))"
      ],
      "execution_count": 5,
      "outputs": [
        {
          "output_type": "stream",
          "name": "stdout",
          "text": [
            "[12 30  7 35]\n<class 'numpy.ndarray'>\n"
          ]
        }
      ]
    },
    {
      "cell_type": "markdown",
      "metadata": {
        "id": "Bc_K7VOx90eo",
        "colab_type": "text"
      },
      "source": [
        "As you can see, the NumPy way of multiplication is clearly more concise.\n",
        "\n",
        "Even simple mathematical operations on lists require for loops, unlike with arrays. For example, to calculate the square of every number in a list:"
      ]
    },
    {
      "cell_type": "code",
      "metadata": {
        "id": "w2tlwUGU90ep",
        "colab_type": "code",
        "colab": {}
      },
      "source": [
        "# Square a list\n",
        "list_squared = [i**2 for i in list_1]\n",
        "\n",
        "# Square a numpy array\n",
        "array_squared = array_1**2\n",
        "\n",
        "print(list_squared)\n",
        "print(array_squared)"
      ],
      "execution_count": 6,
      "outputs": [
        {
          "output_type": "stream",
          "name": "stdout",
          "text": [
            "[9, 36, 49, 25]\n[ 9 36 49 25]\n"
          ]
        }
      ]
    },
    {
      "cell_type": "markdown",
      "metadata": {
        "id": "PXuPP6KH90es",
        "colab_type": "text"
      },
      "source": [
        "This was with 1-D arrays. You'll often work with 2-D arrays (matrices), where the difference would be even greater. With lists, you'll have to store matrices as lists of lists and loop through them. With NumPy, you simply multiply the matrices."
      ]
    },
    {
      "cell_type": "markdown",
      "metadata": {
        "id": "J8zV6MT490et",
        "colab_type": "text"
      },
      "source": [
        "### Creating NumPy Arrays \n",
        "\n",
        "There are multiple ways to create numpy arrays, the most commmon ones being:\n",
        "* Convert lists or tuples to arrays using ```np.array()```, as done above\n",
        "* Initialise arrays of fixed size (when the size is known) \n"
      ]
    },
    {
      "cell_type": "code",
      "metadata": {
        "id": "ybfpuhAQ90eu",
        "colab_type": "code",
        "colab": {}
      },
      "source": [
        "# Convert lists or tuples to arrays using np.array()\n",
        "# Note that np.array(2, 5, 6, 7) will throw an error - you need to pass a list or a tuple\n",
        "array_from_list = np.array([2, 5, 6, 7]) \n",
        "array_from_tuple = np.array((4, 5, 8, 9))\n",
        "\n",
        "print(array_from_list)\n",
        "print(array_from_tuple)"
      ],
      "execution_count": 7,
      "outputs": [
        {
          "output_type": "stream",
          "name": "stdout",
          "text": [
            "[2 5 6 7]\n[4 5 8 9]\n"
          ]
        }
      ]
    },
    {
      "cell_type": "markdown",
      "metadata": {
        "id": "0JVd2Exu90ex",
        "colab_type": "text"
      },
      "source": [
        "The other common way is to initialise arrays. You do this when you know the size of the array beforehand.\n",
        "\n",
        "The following ways are commonly used:\n",
        "* ```np.ones()```: Create array of 1s\n",
        "* ```np.zeros()```: Create array of 0s\n",
        "* ```np.random.random()```: Create array of random numbers\n",
        "* ```np.arange()```: Create array with increments of a fixed step size\n",
        "* ```np.linspace()```: Create array of fixed length"
      ]
    },
    {
      "source": [
        "# Tip: Use help to see the syntax when required\n",
        "help(np.ones)"
      ],
      "cell_type": "code",
      "metadata": {
        "id": "F40c0hC290ey",
        "colab_type": "code",
        "colab": {}
      },
      "execution_count": 8,
      "outputs": [
        {
          "output_type": "stream",
          "name": "stdout",
          "text": [
            "Help on function ones in module numpy:\n\nones(shape, dtype=None, order='C', *, like=None)\n    Return a new array of given shape and type, filled with ones.\n    \n    Parameters\n    ----------\n    shape : int or sequence of ints\n        Shape of the new array, e.g., ``(2, 3)`` or ``2``.\n    dtype : data-type, optional\n        The desired data-type for the array, e.g., `numpy.int8`.  Default is\n        `numpy.float64`.\n    order : {'C', 'F'}, optional, default: C\n        Whether to store multi-dimensional data in row-major\n        (C-style) or column-major (Fortran-style) order in\n        memory.\n    like : array_like\n        Reference object to allow the creation of arrays which are not\n        NumPy arrays. If an array-like passed in as ``like`` supports\n        the ``__array_function__`` protocol, the result will be defined\n        by it. In this case, it ensures the creation of an array object\n        compatible with that passed in via this argument.\n    \n        .. note::\n            The ``like`` keyword is an experimental feature pending on\n            acceptance of :ref:`NEP 35 <NEP35>`.\n    \n        .. versionadded:: 1.20.0\n    \n    Returns\n    -------\n    out : ndarray\n        Array of ones with the given shape, dtype, and order.\n    \n    See Also\n    --------\n    ones_like : Return an array of ones with shape and type of input.\n    empty : Return a new uninitialized array.\n    zeros : Return a new array setting values to zero.\n    full : Return a new array of given shape filled with value.\n    \n    \n    Examples\n    --------\n    >>> np.ones(5)\n    array([1., 1., 1., 1., 1.])\n    \n    >>> np.ones((5,), dtype=int)\n    array([1, 1, 1, 1, 1])\n    \n    >>> np.ones((2, 1))\n    array([[1.],\n           [1.]])\n    \n    >>> s = (2,2)\n    >>> np.ones(s)\n    array([[1.,  1.],\n           [1.,  1.]])\n\n"
          ]
        }
      ]
    },
    {
      "cell_type": "code",
      "metadata": {
        "id": "IvihKyuq90e1",
        "colab_type": "code",
        "colab": {}
      },
      "source": [
        "# Creating a 5 x 3 array of ones\n",
        "np.ones((5, 3))"
      ],
      "execution_count": 9,
      "outputs": [
        {
          "output_type": "execute_result",
          "data": {
            "text/plain": [
              "array([[1., 1., 1.],\n",
              "       [1., 1., 1.],\n",
              "       [1., 1., 1.],\n",
              "       [1., 1., 1.],\n",
              "       [1., 1., 1.]])"
            ]
          },
          "metadata": {},
          "execution_count": 9
        }
      ]
    },
    {
      "cell_type": "code",
      "metadata": {
        "id": "q4eqJdo490e4",
        "colab_type": "code",
        "colab": {}
      },
      "source": [
        "# Notice that, by default, numpy creates data type = float64\n",
        "# Can provide dtype explicitly using dtype\n",
        "np.ones((5, 3), dtype = np.int)"
      ],
      "execution_count": 10,
      "outputs": [
        {
          "output_type": "stream",
          "name": "stderr",
          "text": [
            "<ipython-input-10-fcbcd70123de>:3: DeprecationWarning: `np.int` is a deprecated alias for the builtin `int`. To silence this warning, use `int` by itself. Doing this will not modify any behavior and is safe. When replacing `np.int`, you may wish to use e.g. `np.int64` or `np.int32` to specify the precision. If you wish to review your current use, check the release note link for additional information.\nDeprecated in NumPy 1.20; for more details and guidance: https://numpy.org/devdocs/release/1.20.0-notes.html#deprecations\n  np.ones((5, 3), dtype = np.int)\n"
          ]
        },
        {
          "output_type": "execute_result",
          "data": {
            "text/plain": [
              "array([[1, 1, 1],\n",
              "       [1, 1, 1],\n",
              "       [1, 1, 1],\n",
              "       [1, 1, 1],\n",
              "       [1, 1, 1]])"
            ]
          },
          "metadata": {},
          "execution_count": 10
        }
      ]
    },
    {
      "cell_type": "code",
      "metadata": {
        "id": "l8LD-sZQ90e7",
        "colab_type": "code",
        "colab": {}
      },
      "source": [
        "# Creating array of zeros\n",
        "np.zeros(4, dtype = int)"
      ],
      "execution_count": 11,
      "outputs": [
        {
          "output_type": "execute_result",
          "data": {
            "text/plain": [
              "array([0, 0, 0, 0])"
            ]
          },
          "metadata": {},
          "execution_count": 11
        }
      ]
    },
    {
      "cell_type": "code",
      "metadata": {
        "id": "wq5DbPUj90e9",
        "colab_type": "code",
        "colab": {}
      },
      "source": [
        "# Array of random numbers\n",
        "np.random.random([3, 4])"
      ],
      "execution_count": 12,
      "outputs": [
        {
          "output_type": "execute_result",
          "data": {
            "text/plain": [
              "array([[0.1427885 , 0.23776442, 0.00237966, 0.82672707],\n",
              "       [0.41746571, 0.43982007, 0.84227052, 0.39245302],\n",
              "       [0.46753416, 0.17618377, 0.4043929 , 0.25088551]])"
            ]
          },
          "metadata": {},
          "execution_count": 12
        }
      ]
    },
    {
      "cell_type": "code",
      "metadata": {
        "id": "gYjIZL5j90fA",
        "colab_type": "code",
        "colab": {}
      },
      "source": [
        "# np.arange()\n",
        "# np.arange() is the numpy equivalent of range()\n",
        "# Notice that 10 is included, 100 is not, as in standard python lists\n",
        "\n",
        "# From 10 to 100 with a step of 5\n",
        "numbers = np.arange(10, 100, 5)\n",
        "print(numbers)"
      ],
      "execution_count": 13,
      "outputs": [
        {
          "output_type": "stream",
          "name": "stdout",
          "text": [
            "[10 15 20 25 30 35 40 45 50 55 60 65 70 75 80 85 90 95]\n"
          ]
        }
      ]
    },
    {
      "cell_type": "code",
      "metadata": {
        "id": "fXxsCaH390fD",
        "colab_type": "code",
        "colab": {}
      },
      "source": [
        "# Create a 4 x 4 random array of integers ranging from 0 to 9\n",
        "np.random.randint(0, 10, (4,4))"
      ],
      "execution_count": 14,
      "outputs": [
        {
          "output_type": "execute_result",
          "data": {
            "text/plain": [
              "array([[5, 5, 0, 0],\n",
              "       [7, 3, 6, 6],\n",
              "       [6, 2, 1, 9],\n",
              "       [4, 5, 0, 6]])"
            ]
          },
          "metadata": {},
          "execution_count": 14
        }
      ]
    },
    {
      "cell_type": "markdown",
      "metadata": {
        "id": "ZggpOHi690fG",
        "colab_type": "text"
      },
      "source": [
        "### Inspect the Structure and Content of Arrays\n",
        "\n",
        "It is helpful to inspect the structure of numpy arrays, especially while working with large arrays. Some attributes of numpy arrays are:\n",
        "* ```shape```: Shape of array (n x m)\n",
        "* ```dtype```: data type (int, float etc.)\n",
        "* ```ndim```: Number of dimensions (or axes)\n",
        "* ```itemsize```: Memory used by each array elememnt in bytes\n",
        "\n",
        "\n",
        "Let's say you are working with a moderately large array of size 1000 x 300. First, you would want to wrap your head around the basic shape and size of the array. "
      ]
    },
    {
      "source": [
        "# Initialising a random 1000 x 300 array\n",
        "rand_array = np.random.random((1000, 300,20))\n",
        "\n",
        "# Print the second row\n",
        "print(rand_array[1, ])"
      ],
      "cell_type": "code",
      "metadata": {
        "id": "bCXyjZfu90fH",
        "colab_type": "code",
        "colab": {}
      },
      "execution_count": 15,
      "outputs": [
        {
          "output_type": "stream",
          "name": "stdout",
          "text": [
            "[[0.79539862 0.61630684 0.02189928 ... 0.75463046 0.15541367 0.55029189]\n [0.94892213 0.18247981 0.99373597 ... 0.594291   0.5048287  0.7179024 ]\n [0.66664889 0.35430325 0.6883839  ... 0.48424256 0.64205757 0.63759293]\n ...\n [0.31359    0.66081563 0.93562566 ... 0.42942662 0.2172225  0.35754007]\n [0.52574592 0.34343412 0.7778892  ... 0.01853894 0.31130699 0.22973877]\n [0.61967422 0.40489006 0.18087344 ... 0.70950323 0.27557116 0.15055608]]\n"
          ]
        }
      ]
    },
    {
      "cell_type": "code",
      "metadata": {
        "id": "hU-T8CCd90fK",
        "colab_type": "code",
        "colab": {}
      },
      "source": [
        "# Inspecting shape, dtype, ndim and itemsize\n",
        "print(format(rand_array.shape))\n",
        "print(\"dtype: {}\".format(rand_array.dtype))\n",
        "print(\"Dimensions: {}\".format(rand_array.ndim))\n",
        "print(\"Item size: {}\".format(rand_array.itemsize))"
      ],
      "execution_count": 16,
      "outputs": [
        {
          "output_type": "stream",
          "name": "stdout",
          "text": [
            "(1000, 300, 20)\ndtype: float64\nDimensions: 3\nItem size: 8\n"
          ]
        }
      ]
    },
    {
      "cell_type": "markdown",
      "metadata": {
        "id": "G_VdZpMR90fM",
        "colab_type": "text"
      },
      "source": [
        "Reading 3-D arrays is not very obvious, because we can only print maximum two dimensions on paper, and thus they are printed according to a specific convention. Printing higher dimensional arrays follows the following conventions:\n",
        "* The last axis is printed from left to right\n",
        "* The second-to-last axis is printed from top to bottom\n",
        "* The other axes are also printed top-to-bottom, with each slice separated by another using an empty line \n",
        "\n",
        "Let's see some examples."
      ]
    },
    {
      "cell_type": "code",
      "metadata": {
        "scrolled": true,
        "id": "_96BHPGr90fN",
        "colab_type": "code",
        "colab": {}
      },
      "source": [
        "# Creating a 3-D array\n",
        "# reshape() simply reshapes a 1-D array \n",
        "array_3d = np.arange(24).reshape(2,3,4)\n",
        "print(array_3d)"
      ],
      "execution_count": 17,
      "outputs": [
        {
          "output_type": "stream",
          "name": "stdout",
          "text": [
            "[[[ 0  1  2  3]\n  [ 4  5  6  7]\n  [ 8  9 10 11]]\n\n [[12 13 14 15]\n  [16 17 18 19]\n  [20 21 22 23]]]\n"
          ]
        }
      ]
    },
    {
      "cell_type": "code",
      "metadata": {
        "id": "lSkNNGZw90fQ",
        "colab_type": "code",
        "colab": {}
      },
      "source": [
        "# np.linspace()\n",
        "# Sometimes, you know the length of the array, not the step size\n",
        "\n",
        "# Array of length 25 between 15 and 18\n",
        "np.linspace(15, 18, 25)"
      ],
      "execution_count": 18,
      "outputs": [
        {
          "output_type": "execute_result",
          "data": {
            "text/plain": [
              "array([15.   , 15.125, 15.25 , 15.375, 15.5  , 15.625, 15.75 , 15.875,\n",
              "       16.   , 16.125, 16.25 , 16.375, 16.5  , 16.625, 16.75 , 16.875,\n",
              "       17.   , 17.125, 17.25 , 17.375, 17.5  , 17.625, 17.75 , 17.875,\n",
              "       18.   ])"
            ]
          },
          "metadata": {},
          "execution_count": 18
        }
      ]
    },
    {
      "cell_type": "markdown",
      "metadata": {
        "id": "lM5H8SC390fU",
        "colab_type": "text"
      },
      "source": [
        "Apart from the methods mentioned above, there are a few more NumPy functions that you can use to create special NumPy arrays:\n",
        "\n",
        "np.full(): Create a constant array of any number ‘n’\n",
        "\n",
        "np.tile(): Create a new array by repeating an existing array for a particular number of times\n",
        "\n",
        "np.eye(): Create an identity matrix of any dimension\n",
        "\n",
        "np.random.randint(): Create a random array of integers within a particular range \n"
      ]
    },
    {
      "cell_type": "code",
      "metadata": {
        "id": "z2ZmTA0790fV",
        "colab_type": "code",
        "colab": {}
      },
      "source": [
        "# Creating a 4 x 3 array of 7s using np.full()\n",
        "# The default data type here is int only\n",
        "np.full((4,3), 7)"
      ],
      "execution_count": 19,
      "outputs": [
        {
          "output_type": "execute_result",
          "data": {
            "text/plain": [
              "array([[7, 7, 7],\n",
              "       [7, 7, 7],\n",
              "       [7, 7, 7],\n",
              "       [7, 7, 7]])"
            ]
          },
          "metadata": {},
          "execution_count": 19
        }
      ]
    },
    {
      "cell_type": "code",
      "metadata": {
        "id": "H4Ki_8SV90fX",
        "colab_type": "code",
        "colab": {}
      },
      "source": [
        "# Given an array, np.tile() creates a new array by repeating the given array for any number of times that you want\n",
        "# The default data type her is int only\n",
        "arr = ([0, 1, 2])\n",
        "np.tile(arr, 3)"
      ],
      "execution_count": 20,
      "outputs": [
        {
          "output_type": "execute_result",
          "data": {
            "text/plain": [
              "array([0, 1, 2, 0, 1, 2, 0, 1, 2])"
            ]
          },
          "metadata": {},
          "execution_count": 20
        }
      ]
    },
    {
      "cell_type": "code",
      "metadata": {
        "id": "aXem-qMz90fa",
        "colab_type": "code",
        "colab": {}
      },
      "source": [
        "# You can also create multidimensional arrays using np.tile()\n",
        "np.tile(arr, (3,2))"
      ],
      "execution_count": 21,
      "outputs": [
        {
          "output_type": "execute_result",
          "data": {
            "text/plain": [
              "array([[0, 1, 2, 0, 1, 2],\n",
              "       [0, 1, 2, 0, 1, 2],\n",
              "       [0, 1, 2, 0, 1, 2]])"
            ]
          },
          "metadata": {},
          "execution_count": 21
        }
      ]
    },
    {
      "cell_type": "markdown",
      "metadata": {
        "id": "2RuDWlsV90fd",
        "colab_type": "text"
      },
      "source": [
        "# Compare Computation Times in NumPy and Standard Python Lists\n",
        "\n",
        "Let's compare the computation times of arrays and lists for a simple task of calculating the element-wise product of numbers.\n"
      ]
    },
    {
      "cell_type": "code",
      "execution_count": 22,
      "metadata": {},
      "outputs": [
        {
          "output_type": "stream",
          "name": "stdout",
          "text": [
            "0.38782787322998047\n",
            "0.004987478256225586\n",
            "The ratio of time taken is 77.76031359051579\n"
          ]
        }
      ],
      "source": [
        "## Comparing time taken for computation\n",
        "list_1 = [i for i in range(1000000)]\n",
        "list_2 = [j**2 for j in range(1000000)]\n",
        "\n",
        "# list multiplication\n",
        "import time\n",
        "\n",
        "# store start time, time after computation, and take the difference\n",
        "t0 = time.time()\n",
        "product_list = list(map(lambda x, y: x*y, list_1, list_2))\n",
        "t1 = time.time()\n",
        "list_time = t1 - t0 \n",
        "print(t1-t0)\n",
        "\n",
        "# numpy array \n",
        "array_1 = np.array(list_1)\n",
        "array_2 = np.array(list_2)\n",
        "\n",
        "t0 = time.time()\n",
        "array_3 = array_1*array_2\n",
        "t1 = time.time()\n",
        "numpy_time = t1 - t0\n",
        "\n",
        "print(t1-t0)\n",
        "\n",
        "print(\"The ratio of time taken is {}\".format(list_time/numpy_time))\n"
      ]
    },
    {
      "source": [
        "\n",
        "## Comparing time taken for computation\n",
        "list_1 = [i for i in range(1000000)]\n",
        "list_2 = [j**2 for j in range(1000000)]\n",
        "\n",
        "# list multiplication\n",
        "import time\n",
        "\n",
        "# store start time, time after computation, and take the difference\n",
        "t0 = time.time()\n",
        "product_list = list(map(lambda x, y: x*y, list_1, list_2))\n",
        "t1 = time.time()\n",
        "list_time = t1 - t0 \n",
        "print(t1-t0)\n",
        "\n",
        "# numpy array \n",
        "array_1 = np.array(list_1)\n",
        "array_2 = np.array(list_2)\n",
        "\n",
        "t0 = time.time()\n",
        "array_3 = array_1*array_2\n",
        "t1 = time.time()\n",
        "numpy_time = t1 - t0\n",
        "\n",
        "print(t1-t0)\n",
        "\n",
        "print(\"The ratio of time taken is {}\".format(list_time/numpy_time))\n",
        "0.13862943649291992\n",
        "0.00394892692565918\n",
        "The ratio of time taken is 35.10559681217171\n",
        "In this case, numpy is an order of magnitude faster than lists. This is with arrays of size in millions, but you may work on much larger arrays of sizes in order of billions. Then, the difference is even larger.\n",
        "\n",
        "Some reasons for such difference in speed are:\n",
        "\n",
        "NumPy is written in C, which is basically being executed behind the scenes\n",
        "NumPy arrays are more compact than lists, i.e. they take much lesser storage space than lists\n",
        "The following discussions demonstrate the differences in speeds of NumPy and standard python:\n",
        "\n",
        "https://stackoverflow.com/questions/8385602/why-are-numpy-arrays-so-fast\n",
        "https://stackoverflow.com/questions/993984/why-numpy-instead-of-python-lists"
      ],
      "cell_type": "code",
      "metadata": {
        "id": "CIcKJ1ty90fd",
        "colab_type": "code",
        "colab": {}
      },
      "execution_count": 23,
      "outputs": [
        {
          "output_type": "error",
          "ename": "SyntaxError",
          "evalue": "invalid syntax (<ipython-input-23-6ce42fabe88f>, line 29)",
          "traceback": [
            "\u001b[1;36m  File \u001b[1;32m\"<ipython-input-23-6ce42fabe88f>\"\u001b[1;36m, line \u001b[1;32m29\u001b[0m\n\u001b[1;33m    The ratio of time taken is 35.10559681217171\u001b[0m\n\u001b[1;37m        ^\u001b[0m\n\u001b[1;31mSyntaxError\u001b[0m\u001b[1;31m:\u001b[0m invalid syntax\n"
          ]
        }
      ]
    },
    {
      "cell_type": "code",
      "execution_count": null,
      "metadata": {},
      "outputs": [],
      "source": []
    }
  ]
}