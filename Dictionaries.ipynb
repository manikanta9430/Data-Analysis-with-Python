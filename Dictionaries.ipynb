{
 "cells": [
  {
   "cell_type": "markdown",
   "metadata": {},
   "source": [
    "## Dictionaries"
   ]
  },
  {
   "cell_type": "code",
   "execution_count": 1,
   "metadata": {},
   "outputs": [
    {
     "output_type": "stream",
     "name": "stdout",
     "text": [
      "<class 'dict'>\n"
     ]
    }
   ],
   "source": [
    "empty_dictionary = {}\n",
    "print(type(empty_dictionary))"
   ]
  },
  {
   "cell_type": "code",
   "execution_count": 2,
   "metadata": {},
   "outputs": [
    {
     "output_type": "stream",
     "name": "stdout",
     "text": [
      "{'Name': 'Badshah', 'Age': 34, 'Height': '5.10 ft', 'Profession': 'Music'}\n"
     ]
    }
   ],
   "source": [
    "intro_data = {'Name': 'Badshah', 'Age':34, 'Height':\"5.10 ft\", 'Profession': 'Music'}\n",
    "print(intro_data)"
   ]
  },
  {
   "cell_type": "markdown",
   "metadata": {},
   "source": [
    "## Dictionary Operators and Methods"
   ]
  },
  {
   "cell_type": "code",
   "execution_count": 3,
   "metadata": {},
   "outputs": [
    {
     "output_type": "stream",
     "name": "stdout",
     "text": [
      "Music\n"
     ]
    }
   ],
   "source": [
    "profession = intro_data['Profession']\n",
    "print(profession)"
   ]
  },
  {
   "cell_type": "code",
   "execution_count": 13,
   "metadata": {},
   "outputs": [
    {
     "output_type": "stream",
     "name": "stdout",
     "text": [
      "34\n"
     ]
    }
   ],
   "source": [
    "age = intro_data['Age']\n",
    "print(age)"
   ]
  },
  {
   "cell_type": "code",
   "execution_count": 12,
   "metadata": {},
   "outputs": [
    {
     "output_type": "stream",
     "name": "stdout",
     "text": [
      "34\n"
     ]
    }
   ],
   "source": [
    "age = intro_data.get('Age')\n",
    "print(age)"
   ]
  },
  {
   "cell_type": "code",
   "execution_count": 14,
   "metadata": {},
   "outputs": [
    {
     "output_type": "stream",
     "name": "stdout",
     "text": [
      "NA\n"
     ]
    }
   ],
   "source": [
    "city  =  intro_data.get('City','NA')\n",
    "print(city)"
   ]
  },
  {
   "cell_type": "code",
   "execution_count": 15,
   "metadata": {},
   "outputs": [
    {
     "output_type": "stream",
     "name": "stdout",
     "text": [
      "{'Name': 'Badshah', 'Age': 36, 'Height': '5.10 ft', 'Profession': 'Music'}\n"
     ]
    }
   ],
   "source": [
    "intro_data['Age'] = 36\n",
    "print(intro_data)"
   ]
  },
  {
   "cell_type": "code",
   "execution_count": 16,
   "metadata": {},
   "outputs": [
    {
     "output_type": "stream",
     "name": "stdout",
     "text": [
      "{'Name': 'Badshah', 'Age': 36, 'Height': '5.10 ft', 'Profession': 'Music', 'City': 'Mumbai'}\n"
     ]
    }
   ],
   "source": [
    "intro_data['City'] = 'Mumbai'\n",
    "print(intro_data)"
   ]
  },
  {
   "cell_type": "code",
   "execution_count": 17,
   "metadata": {},
   "outputs": [
    {
     "output_type": "stream",
     "name": "stdout",
     "text": [
      "True\n"
     ]
    }
   ],
   "source": [
    "print('City' in intro_data)"
   ]
  },
  {
   "cell_type": "markdown",
   "metadata": {},
   "source": [
    "Dictionary keys are unique and hence we cannot have two similar keys. Values can be the same though."
   ]
  },
  {
   "cell_type": "markdown",
   "metadata": {},
   "source": [
    "**values( )** function returns a list with all the assigned values in the dictionary./"
   ]
  },
  {
   "cell_type": "markdown",
   "metadata": {},
   "source": [
    "**keys( )** function returns all the index or the keys to which contains the values that it was assigned to."
   ]
  },
  {
   "cell_type": "markdown",
   "metadata": {},
   "source": [
    "**items( )** is returns a list containing both the list but each element in the dictionary is inside a tuple."
   ]
  },
  {
   "cell_type": "code",
   "execution_count": 18,
   "metadata": {},
   "outputs": [
    {
     "output_type": "execute_result",
     "data": {
      "text/plain": [
       "dict_keys(['Name', 'Age', 'Height', 'Profession', 'City'])"
      ]
     },
     "metadata": {},
     "execution_count": 18
    }
   ],
   "source": [
    "intro_data.keys()"
   ]
  },
  {
   "cell_type": "code",
   "execution_count": 19,
   "metadata": {},
   "outputs": [
    {
     "output_type": "execute_result",
     "data": {
      "text/plain": [
       "dict_values(['Badshah', 36, '5.10 ft', 'Music', 'Mumbai'])"
      ]
     },
     "metadata": {},
     "execution_count": 19
    }
   ],
   "source": [
    "intro_data.values()"
   ]
  },
  {
   "cell_type": "code",
   "execution_count": 20,
   "metadata": {},
   "outputs": [
    {
     "output_type": "execute_result",
     "data": {
      "text/plain": [
       "dict_items([('Name', 'Badshah'), ('Age', 36), ('Height', '5.10 ft'), ('Profession', 'Music'), ('City', 'Mumbai')])"
      ]
     },
     "metadata": {},
     "execution_count": 20
    }
   ],
   "source": [
    "intro_data.items()"
   ]
  },
  {
   "cell_type": "code",
   "execution_count": 21,
   "metadata": {},
   "outputs": [
    {
     "output_type": "stream",
     "name": "stdout",
     "text": [
      "['Name', 'Age', 'Height', 'Profession', 'City']\n['Badshah', 36, '5.10 ft', 'Music', 'Mumbai']\n"
     ]
    }
   ],
   "source": [
    "#get list of keys\n",
    "print(list(intro_data.keys()))\n",
    "\n",
    "#get list of values\n",
    "print(list(intro_data.values()))"
   ]
  },
  {
   "source": [
    "dictionary_eg = dict(Tones='Alarm', Songs=['Wake up','Crickets'])"
   ],
   "cell_type": "code",
   "metadata": {},
   "execution_count": 27,
   "outputs": []
  },
  {
   "cell_type": "code",
   "execution_count": 28,
   "metadata": {},
   "outputs": [
    {
     "output_type": "stream",
     "name": "stdout",
     "text": [
      "{'Name': 'Badshah', 'Age': 36, 'Height': '5.10 ft', 'Profession': 'Music', 'City': 'Mumbai', 'Tones': 'Alarm', 'Songs': ['Wake up', 'Crickets']}\n"
     ]
    }
   ],
   "source": [
    "intro_data.update(dictionary_eg)\n",
    "print(intro_data)"
   ]
  },
  {
   "cell_type": "code",
   "execution_count": 29,
   "metadata": {},
   "outputs": [
    {
     "output_type": "stream",
     "name": "stdout",
     "text": [
      "{'Name': 'Badshah', 'Age': 36, 'Height': '5.10 ft', 'Profession': 'Music', 'City': 'Mumbai', 'Tones': 'Alarm'}\n"
     ]
    }
   ],
   "source": [
    "del intro_data['Songs']\n",
    "print(intro_data)"
   ]
  },
  {
   "cell_type": "code",
   "execution_count": 39,
   "metadata": {},
   "outputs": [
    {
     "output_type": "stream",
     "name": "stdout",
     "text": [
      "{1: ['Student_name', 34], 2: ['Student_name', 35], 3: ['Student_name', 36], 4: ['Student_name', 37], 5: ['Student_name', 38]}\n"
     ]
    }
   ],
   "source": [
    "students_data = { 1:['Student_name', age] , 2:['Student_name',age+1], 3:['Student_name', age+2], 4:['Student_name',age+3], 5:['Student_name',age+4]}\n",
    "print(students_data)"
   ]
  },
  {
   "cell_type": "code",
   "execution_count": 40,
   "metadata": {},
   "outputs": [
    {
     "output_type": "stream",
     "name": "stdout",
     "text": [
      "5\n"
     ]
    }
   ],
   "source": [
    "print(len(students_data))"
   ]
  },
  {
   "cell_type": "code",
   "execution_count": 42,
   "metadata": {},
   "outputs": [
    {
     "output_type": "stream",
     "name": "stdout",
     "text": [
      "[['Student_name', 34], ['Student_name', 35], ['Student_name', 36], ['Student_name', 37], ['Student_name', 38]]\n"
     ]
    }
   ],
   "source": [
    "#see all the details of students. \n",
    "print(list(students_data.values()))"
   ]
  },
  {
   "cell_type": "code",
   "execution_count": 43,
   "metadata": {},
   "outputs": [
    {
     "output_type": "stream",
     "name": "stdout",
     "text": [
      "{1: ['Student_name', 34], 2: ['Student_name', 35], 3: ['Student_name', 36], 4: ['Student_name', 37], 5: ['Student_name', 38], 6: ['Student_name', 39]}\n"
     ]
    }
   ],
   "source": [
    "students_data[6] = ['Student_name', age+5]\n",
    "print(students_data)"
   ]
  },
  {
   "cell_type": "code",
   "execution_count": 44,
   "metadata": {},
   "outputs": [
    {
     "output_type": "stream",
     "name": "stdout",
     "text": [
      "{1: ['Student_name', 34], 3: ['Student_name', 36], 4: ['Student_name', 37], 5: ['Student_name', 38], 6: ['Student_name', 39]}\n"
     ]
    }
   ],
   "source": [
    "del students_data[2]\n",
    "print(students_data)"
   ]
  },
  {
   "cell_type": "code",
   "execution_count": 45,
   "metadata": {},
   "outputs": [
    {
     "output_type": "stream",
     "name": "stdout",
     "text": [
      "[1, 3, 4, 5, 6]\n"
     ]
    }
   ],
   "source": [
    "print(list(students_data.keys()))"
   ]
  },
  {
   "cell_type": "code",
   "execution_count": 46,
   "metadata": {},
   "outputs": [
    {
     "output_type": "execute_result",
     "data": {
      "text/plain": [
       "['Student_name', 37]"
      ]
     },
     "metadata": {},
     "execution_count": 46
    }
   ],
   "source": [
    "students_data.pop(4)"
   ]
  },
  {
   "cell_type": "code",
   "execution_count": 47,
   "metadata": {},
   "outputs": [
    {
     "output_type": "execute_result",
     "data": {
      "text/plain": [
       "(6, ['Student_name', 39])"
      ]
     },
     "metadata": {},
     "execution_count": 47
    }
   ],
   "source": [
    "students_data.popitem()"
   ]
  },
  {
   "cell_type": "code",
   "execution_count": 48,
   "metadata": {},
   "outputs": [],
   "source": [
    "dict={1:1,2:2}"
   ]
  },
  {
   "cell_type": "code",
   "execution_count": 50,
   "metadata": {},
   "outputs": [
    {
     "output_type": "stream",
     "name": "stdout",
     "text": [
      "2\n4\n"
     ]
    }
   ],
   "source": [
    "for i in dict:\n",
    "    print(dict[i]*2)"
   ]
  },
  {
   "cell_type": "code",
   "execution_count": 52,
   "metadata": {},
   "outputs": [
    {
     "output_type": "execute_result",
     "data": {
      "text/plain": [
       "{4: {1: 2, 2: 4}, 8: 16}"
      ]
     },
     "metadata": {},
     "execution_count": 52
    }
   ],
   "source": [
    "dict1={4:{1:2,2:4},8:16}\n",
    "dict1"
   ]
  },
  {
   "cell_type": "code",
   "execution_count": 55,
   "metadata": {},
   "outputs": [
    {
     "output_type": "execute_result",
     "data": {
      "text/plain": [
       "4"
      ]
     },
     "metadata": {},
     "execution_count": 55
    }
   ],
   "source": [
    "dict1[4][2]"
   ]
  },
  {
   "cell_type": "code",
   "execution_count": 56,
   "metadata": {},
   "outputs": [
    {
     "output_type": "execute_result",
     "data": {
      "text/plain": [
       "{1: 2, 2: 4}"
      ]
     },
     "metadata": {},
     "execution_count": 56
    }
   ],
   "source": [
    "dict1[4]"
   ]
  },
  {
   "cell_type": "code",
   "execution_count": 1,
   "metadata": {},
   "outputs": [
    {
     "output_type": "error",
     "ename": "SyntaxError",
     "evalue": "unexpected EOF while parsing (<unknown>, line 0)",
     "traceback": [
      "Traceback \u001b[1;36m(most recent call last)\u001b[0m:\n",
      "  File \u001b[0;32m\"C:\\Users\\LENOVO\\anaconda3\\lib\\site-packages\\IPython\\core\\interactiveshell.py\"\u001b[0m, line \u001b[0;32m3437\u001b[0m, in \u001b[0;35mrun_code\u001b[0m\n    exec(code_obj, self.user_global_ns, self.user_ns)\n",
      "  File \u001b[0;32m\"<ipython-input-1-bede141396b9>\"\u001b[0m, line \u001b[0;32m3\u001b[0m, in \u001b[0;35m<module>\u001b[0m\n    scores = ast.literal_eval(input_str)\n",
      "  File \u001b[0;32m\"C:\\Users\\LENOVO\\anaconda3\\lib\\ast.py\"\u001b[0m, line \u001b[0;32m59\u001b[0m, in \u001b[0;35mliteral_eval\u001b[0m\n    node_or_string = parse(node_or_string, mode='eval')\n",
      "\u001b[1;36m  File \u001b[1;32m\"C:\\Users\\LENOVO\\anaconda3\\lib\\ast.py\"\u001b[1;36m, line \u001b[1;32m47\u001b[1;36m, in \u001b[1;35mparse\u001b[1;36m\u001b[0m\n\u001b[1;33m    return compile(source, filename, mode, flags,\u001b[0m\n",
      "\u001b[1;36m  File \u001b[1;32m\"<unknown>\"\u001b[1;36m, line \u001b[1;32munknown\u001b[0m\n\u001b[1;33m    \u001b[0m\n\u001b[1;37m    ^\u001b[0m\n\u001b[1;31mSyntaxError\u001b[0m\u001b[1;31m:\u001b[0m unexpected EOF while parsing\n"
     ]
    }
   ],
   "source": [
    "import ast,sys\n",
    "input_str = sys.stdin.read()\n",
    "scores = ast.literal_eval(input_str)\n",
    "print(sorted([i for i in scores if scores[i] > 80]))    "
   ]
  },
  {
   "cell_type": "code",
   "execution_count": 2,
   "metadata": {},
   "outputs": [
    {
     "output_type": "stream",
     "name": "stdout",
     "text": [
      "-----Program for printing student name with marks using list-----\n",
      "Sorted list of students according to their marks in descending order\n",
      "Vasu 90\n",
      "Yovaraj 60\n",
      "Aman 50\n",
      "Mani 100\n"
     ]
    }
   ],
   "source": [
    "print(\"-----Program for printing student name with marks using list-----\")\n",
    "\n",
    "# create an empty dictionary\n",
    "D = {}\n",
    "\n",
    "n = int(input('How many student record you want to store?? '))\n",
    "\n",
    "# create an empty list\n",
    "# Add student information to the list\n",
    "ls = []\n",
    "\n",
    "for i in range(0, n):\n",
    "\t\n",
    "\t# Take combined input name and\n",
    "\t# percentage and split values\n",
    "\t# using split function.\n",
    "\tx,y = input(\"Enter the student name and it's percentage: \").split()\n",
    "\t\n",
    "\t# Add name and marks stored in x, y\n",
    "\t# respectively using tuple to the list\n",
    "\tls.append((y,x))\n",
    "\t\n",
    "# sort the elements of list\n",
    "# based on marks\n",
    "ls = sorted(ls, reverse = True)\n",
    "\n",
    "print('Sorted list of students according to their marks in descending order')\n",
    "\n",
    "for i in ls:\n",
    "\t\n",
    "\t# print name and marks stored in\n",
    "\t# second and first position\n",
    "\t# respectively in list of tuples.\n",
    "\tprint(i[1], i[0])\n"
   ]
  },
  {
   "cell_type": "code",
   "execution_count": null,
   "metadata": {},
   "outputs": [],
   "source": []
  }
 ],
 "metadata": {
  "anaconda-cloud": {},
  "kernelspec": {
   "name": "python388jvsc74a57bd037eb40c3388cfde35488e2d005b0d69ca91ddeff8a429754d4da636d3f888e5e",
   "display_name": "Python 3.8.8 64-bit ('base': conda)"
  },
  "language_info": {
   "codemirror_mode": {
    "name": "ipython",
    "version": 3
   },
   "file_extension": ".py",
   "mimetype": "text/x-python",
   "name": "python",
   "nbconvert_exporter": "python",
   "pygments_lexer": "ipython3",
   "version": "3.8.8"
  },
  "metadata": {
   "interpreter": {
    "hash": "138d241a16834cda83f12dc7b1fc17c86ac1842b2d04d5e79ff1ae4d4446b93e"
   }
  }
 },
 "nbformat": 4,
 "nbformat_minor": 1
}