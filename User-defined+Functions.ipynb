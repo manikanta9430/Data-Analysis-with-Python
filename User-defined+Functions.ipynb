{
 "cells": [
  {
   "cell_type": "markdown",
   "metadata": {},
   "source": [
    "# User- defined functions"
   ]
  },
  {
   "cell_type": "markdown",
   "metadata": {},
   "source": [
    "Functions, as the name suggests, perform a task or function."
   ]
  },
  {
   "cell_type": "code",
   "execution_count": 1,
   "metadata": {},
   "outputs": [
    {
     "output_type": "stream",
     "name": "stdout",
     "text": [
      "Hello World\n"
     ]
    }
   ],
   "source": [
    "def first_prog():\n",
    "    print('Hello World')\n",
    "\n",
    "first_prog()"
   ]
  },
  {
   "cell_type": "code",
   "execution_count": 2,
   "metadata": {},
   "outputs": [],
   "source": [
    "def cube(num):\n",
    "    res = num**3\n",
    "    return(res)"
   ]
  },
  {
   "cell_type": "code",
   "execution_count": 3,
   "metadata": {},
   "outputs": [
    {
     "output_type": "stream",
     "name": "stdout",
     "text": [
      "216\n"
     ]
    }
   ],
   "source": [
    "cu = cube(6)\n",
    "print(cu)"
   ]
  },
  {
   "cell_type": "code",
   "execution_count": null,
   "metadata": {},
   "outputs": [],
   "source": [
    "def cube(num):\n",
    "    res = num**3\n",
    "    print(res)"
   ]
  },
  {
   "cell_type": "code",
   "execution_count": 8,
   "metadata": {},
   "outputs": [
    {
     "output_type": "stream",
     "name": "stdout",
     "text": [
      "27\nR is  None\n"
     ]
    }
   ],
   "source": [
    "r = cube(3)\n",
    "print(\"R is \",str(r))"
   ]
  },
  {
   "cell_type": "code",
   "execution_count": 10,
   "metadata": {},
   "outputs": [
    {
     "output_type": "stream",
     "name": "stdout",
     "text": [
      "120\n"
     ]
    }
   ],
   "source": [
    "def fact(num):\n",
    "    if num>1:\n",
    "        return num*fact(num-1)\n",
    "    else:\n",
    "        return num\n",
    "\n",
    "result = fact(5)\n",
    "print(result)"
   ]
  },
  {
   "cell_type": "code",
   "execution_count": 11,
   "metadata": {},
   "outputs": [],
   "source": [
    "def add(*args):\n",
    "    print(args)\n",
    "    return(sum(args))"
   ]
  },
  {
   "cell_type": "code",
   "execution_count": 12,
   "metadata": {},
   "outputs": [
    {
     "output_type": "stream",
     "name": "stdout",
     "text": [
      "(4, 5, 6, 7, 8, 9)\n39\n(1, 2)\n3\n"
     ]
    }
   ],
   "source": [
    "print(add(4,5,6,7,8,9))\n",
    "print(add(1,2))"
   ]
  },
  {
   "cell_type": "code",
   "execution_count": 13,
   "metadata": {},
   "outputs": [
    {
     "output_type": "stream",
     "name": "stdout",
     "text": [
      "Virat Kohli\n"
     ]
    }
   ],
   "source": [
    "def proper_rep(some_text):\n",
    "    some_text = some_text.strip()\n",
    "    some_text = \" \".join([word[0].upper() + word[1:] for word in some_text.split()])\n",
    "    return some_text\n",
    "\n",
    "captain = proper_rep(\"virat kohli\")\n",
    "print(captain)"
   ]
  },
  {
   "cell_type": "markdown",
   "metadata": {},
   "source": [
    "# Classes"
   ]
  },
  {
   "cell_type": "markdown",
   "metadata": {},
   "source": [
    "A class is a blueprint of an application, where you implement methods (to perform certain actions/functionalities) and declare variables (that describe the properties of the application). \n",
    "\n",
    "What are objects?\n",
    "\n",
    "Class is a blueprint and objects are the blocks built upon this blueprint with certain state and behaviour."
   ]
  },
  {
   "cell_type": "code",
   "execution_count": 14,
   "metadata": {},
   "outputs": [
    {
     "output_type": "stream",
     "name": "stdout",
     "text": [
      "314.1\n49\n"
     ]
    }
   ],
   "source": [
    "class Area:\n",
    "    \n",
    "    def Circle():\n",
    "        radius=10.0\n",
    "        a = 3.141 * radius * radius\n",
    "        print(a)\n",
    "    def Square():\n",
    "        length= 7\n",
    "        a= length * length\n",
    "        print(a)\n",
    "    \n",
    "x=Area\n",
    "x.Circle()\n",
    "x.Square()"
   ]
  },
  {
   "cell_type": "code",
   "execution_count": 25,
   "metadata": {},
   "outputs": [],
   "source": [
    "class Details:\n",
    "    \n",
    "    occups = []\n",
    "    \n",
    "    def __init__(self, name):\n",
    "        self.name = name\n",
    "    \n",
    "    def occupation(self, occup):\n",
    "        self.occups.append(occup)\n",
    "        \n",
    "    \n",
    "x = Details('Hillary Clinton')\n",
    "y = Details('Arijit Singh')\n",
    "\n",
    "x.occupation('Politican')\n",
    "y.occupation('Singer')"
   ]
  },
  {
   "cell_type": "code",
   "execution_count": 26,
   "metadata": {},
   "outputs": [
    {
     "output_type": "execute_result",
     "data": {
      "text/plain": [
       "<bound method Details.occupation of <__main__.Details object at 0x066452E0>>"
      ]
     },
     "metadata": {},
     "execution_count": 26
    }
   ],
   "source": [
    "x.name\n",
    "x.occupation"
   ]
  },
  {
   "cell_type": "code",
   "execution_count": 27,
   "metadata": {},
   "outputs": [],
   "source": [
    "class Details:\n",
    "    \n",
    "    def __init__(self, name):\n",
    "        self.name = name\n",
    "        self.occups = []\n",
    "    \n",
    "    def occupation(self, occup):\n",
    "        self.occups.append(occup)\n",
    "    \n",
    "x = Details('Hillary Clinton')\n",
    "y = Details('Arijit Singh')\n",
    "\n",
    "x.occupation('Politican')\n",
    "y.occupation('Singer')"
   ]
  },
  {
   "cell_type": "code",
   "execution_count": 28,
   "metadata": {},
   "outputs": [
    {
     "output_type": "execute_result",
     "data": {
      "text/plain": [
       "<bound method Details.occupation of <__main__.Details object at 0x066450D0>>"
      ]
     },
     "metadata": {},
     "execution_count": 28
    }
   ],
   "source": [
    "x.name\n",
    "x.occupation"
   ]
  },
  {
   "cell_type": "code",
   "execution_count": 29,
   "metadata": {},
   "outputs": [
    {
     "output_type": "execute_result",
     "data": {
      "text/plain": [
       "<bound method Details.occupation of <__main__.Details object at 0x066455E0>>"
      ]
     },
     "metadata": {},
     "execution_count": 29
    }
   ],
   "source": [
    "y.name\n",
    "y.occupation"
   ]
  },
  {
   "cell_type": "code",
   "execution_count": 31,
   "metadata": {},
   "outputs": [
    {
     "output_type": "execute_result",
     "data": {
      "text/plain": [
       "9996"
      ]
     },
     "metadata": {},
     "execution_count": 31
    }
   ],
   "source": [
    "min = (lambda x, y: x if x < y else y)\n",
    "min(101*99, 102*98)"
   ]
  },
  {
   "cell_type": "code",
   "execution_count": null,
   "metadata": {},
   "outputs": [],
   "source": []
  }
 ],
 "metadata": {
  "anaconda-cloud": {},
  "kernelspec": {
   "name": "python385jvsc74a57bd0416b3b3d7c2861747334a644f3bc9cc09375166302abdd382b9b4cd7a6e01994",
   "display_name": "Python 3.8.5 32-bit"
  },
  "language_info": {
   "codemirror_mode": {
    "name": "ipython",
    "version": 3
   },
   "file_extension": ".py",
   "mimetype": "text/x-python",
   "name": "python",
   "nbconvert_exporter": "python",
   "pygments_lexer": "ipython3",
   "version": "3.8.5"
  },
  "metadata": {
   "interpreter": {
    "hash": "416b3b3d7c2861747334a644f3bc9cc09375166302abdd382b9b4cd7a6e01994"
   }
  }
 },
 "nbformat": 4,
 "nbformat_minor": 1
}