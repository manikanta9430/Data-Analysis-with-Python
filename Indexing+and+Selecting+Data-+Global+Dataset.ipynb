{
 "cells": [
  {
   "cell_type": "markdown",
   "metadata": {},
   "source": [
    "# Indexing and Selecting Data"
   ]
  },
  {
   "cell_type": "code",
   "execution_count": 2,
   "metadata": {},
   "outputs": [
    {
     "output_type": "execute_result",
     "data": {
      "text/plain": [
       "     Ord_id  Prod_id   Ship_id    Cust_id    Sales  Discount  Order_Quantity  \\\n",
       "0  Ord_5446  Prod_16  SHP_7609  Cust_1818   136.81      0.01              23   \n",
       "1  Ord_5406  Prod_13  SHP_7549  Cust_1818    42.27      0.01              13   \n",
       "2  Ord_5446   Prod_4  SHP_7610  Cust_1818  4701.69      0.00              26   \n",
       "3  Ord_5456   Prod_6  SHP_7625  Cust_1818  2337.89      0.09              43   \n",
       "4  Ord_5485  Prod_17  SHP_7664  Cust_1818  4233.15      0.08              35   \n",
       "\n",
       "    Profit  Shipping_Cost  Product_Base_Margin  \n",
       "0   -30.51           3.60                 0.56  \n",
       "1     4.56           0.93                 0.54  \n",
       "2  1148.90           2.50                 0.59  \n",
       "3   729.34          14.30                 0.37  \n",
       "4  1219.87          26.30                 0.38  "
      ],
      "text/html": "<div>\n<style scoped>\n    .dataframe tbody tr th:only-of-type {\n        vertical-align: middle;\n    }\n\n    .dataframe tbody tr th {\n        vertical-align: top;\n    }\n\n    .dataframe thead th {\n        text-align: right;\n    }\n</style>\n<table border=\"1\" class=\"dataframe\">\n  <thead>\n    <tr style=\"text-align: right;\">\n      <th></th>\n      <th>Ord_id</th>\n      <th>Prod_id</th>\n      <th>Ship_id</th>\n      <th>Cust_id</th>\n      <th>Sales</th>\n      <th>Discount</th>\n      <th>Order_Quantity</th>\n      <th>Profit</th>\n      <th>Shipping_Cost</th>\n      <th>Product_Base_Margin</th>\n    </tr>\n  </thead>\n  <tbody>\n    <tr>\n      <th>0</th>\n      <td>Ord_5446</td>\n      <td>Prod_16</td>\n      <td>SHP_7609</td>\n      <td>Cust_1818</td>\n      <td>136.81</td>\n      <td>0.01</td>\n      <td>23</td>\n      <td>-30.51</td>\n      <td>3.60</td>\n      <td>0.56</td>\n    </tr>\n    <tr>\n      <th>1</th>\n      <td>Ord_5406</td>\n      <td>Prod_13</td>\n      <td>SHP_7549</td>\n      <td>Cust_1818</td>\n      <td>42.27</td>\n      <td>0.01</td>\n      <td>13</td>\n      <td>4.56</td>\n      <td>0.93</td>\n      <td>0.54</td>\n    </tr>\n    <tr>\n      <th>2</th>\n      <td>Ord_5446</td>\n      <td>Prod_4</td>\n      <td>SHP_7610</td>\n      <td>Cust_1818</td>\n      <td>4701.69</td>\n      <td>0.00</td>\n      <td>26</td>\n      <td>1148.90</td>\n      <td>2.50</td>\n      <td>0.59</td>\n    </tr>\n    <tr>\n      <th>3</th>\n      <td>Ord_5456</td>\n      <td>Prod_6</td>\n      <td>SHP_7625</td>\n      <td>Cust_1818</td>\n      <td>2337.89</td>\n      <td>0.09</td>\n      <td>43</td>\n      <td>729.34</td>\n      <td>14.30</td>\n      <td>0.37</td>\n    </tr>\n    <tr>\n      <th>4</th>\n      <td>Ord_5485</td>\n      <td>Prod_17</td>\n      <td>SHP_7664</td>\n      <td>Cust_1818</td>\n      <td>4233.15</td>\n      <td>0.08</td>\n      <td>35</td>\n      <td>1219.87</td>\n      <td>26.30</td>\n      <td>0.38</td>\n    </tr>\n  </tbody>\n</table>\n</div>"
     },
     "metadata": {},
     "execution_count": 2
    }
   ],
   "source": [
    "import numpy as np\n",
    "import pandas as pd\n",
    "\n",
    "market_df = pd.read_csv(\"market_fact.csv\")\n",
    "market_df.head()"
   ]
  },
  {
   "cell_type": "code",
   "execution_count": 3,
   "metadata": {},
   "outputs": [
    {
     "output_type": "execute_result",
     "data": {
      "text/plain": [
       "     Ord_id  Prod_id   Ship_id    Cust_id    Sales  Discount  Order_Quantity  \\\n",
       "2  Ord_5446   Prod_4  SHP_7610  Cust_1818  4701.69      0.00              26   \n",
       "3  Ord_5456   Prod_6  SHP_7625  Cust_1818  2337.89      0.09              43   \n",
       "4  Ord_5485  Prod_17  SHP_7664  Cust_1818  4233.15      0.08              35   \n",
       "5  Ord_5446   Prod_6  SHP_7608  Cust_1818   164.02      0.03              23   \n",
       "6    Ord_31  Prod_12    SHP_41    Cust_26    14.76      0.01               5   \n",
       "\n",
       "    Profit  Shipping_Cost  Product_Base_Margin  \n",
       "2  1148.90           2.50                 0.59  \n",
       "3   729.34          14.30                 0.37  \n",
       "4  1219.87          26.30                 0.38  \n",
       "5   -47.64           6.15                 0.37  \n",
       "6     1.32           0.50                 0.36  "
      ],
      "text/html": "<div>\n<style scoped>\n    .dataframe tbody tr th:only-of-type {\n        vertical-align: middle;\n    }\n\n    .dataframe tbody tr th {\n        vertical-align: top;\n    }\n\n    .dataframe thead th {\n        text-align: right;\n    }\n</style>\n<table border=\"1\" class=\"dataframe\">\n  <thead>\n    <tr style=\"text-align: right;\">\n      <th></th>\n      <th>Ord_id</th>\n      <th>Prod_id</th>\n      <th>Ship_id</th>\n      <th>Cust_id</th>\n      <th>Sales</th>\n      <th>Discount</th>\n      <th>Order_Quantity</th>\n      <th>Profit</th>\n      <th>Shipping_Cost</th>\n      <th>Product_Base_Margin</th>\n    </tr>\n  </thead>\n  <tbody>\n    <tr>\n      <th>2</th>\n      <td>Ord_5446</td>\n      <td>Prod_4</td>\n      <td>SHP_7610</td>\n      <td>Cust_1818</td>\n      <td>4701.69</td>\n      <td>0.00</td>\n      <td>26</td>\n      <td>1148.90</td>\n      <td>2.50</td>\n      <td>0.59</td>\n    </tr>\n    <tr>\n      <th>3</th>\n      <td>Ord_5456</td>\n      <td>Prod_6</td>\n      <td>SHP_7625</td>\n      <td>Cust_1818</td>\n      <td>2337.89</td>\n      <td>0.09</td>\n      <td>43</td>\n      <td>729.34</td>\n      <td>14.30</td>\n      <td>0.37</td>\n    </tr>\n    <tr>\n      <th>4</th>\n      <td>Ord_5485</td>\n      <td>Prod_17</td>\n      <td>SHP_7664</td>\n      <td>Cust_1818</td>\n      <td>4233.15</td>\n      <td>0.08</td>\n      <td>35</td>\n      <td>1219.87</td>\n      <td>26.30</td>\n      <td>0.38</td>\n    </tr>\n    <tr>\n      <th>5</th>\n      <td>Ord_5446</td>\n      <td>Prod_6</td>\n      <td>SHP_7608</td>\n      <td>Cust_1818</td>\n      <td>164.02</td>\n      <td>0.03</td>\n      <td>23</td>\n      <td>-47.64</td>\n      <td>6.15</td>\n      <td>0.37</td>\n    </tr>\n    <tr>\n      <th>6</th>\n      <td>Ord_31</td>\n      <td>Prod_12</td>\n      <td>SHP_41</td>\n      <td>Cust_26</td>\n      <td>14.76</td>\n      <td>0.01</td>\n      <td>5</td>\n      <td>1.32</td>\n      <td>0.50</td>\n      <td>0.36</td>\n    </tr>\n  </tbody>\n</table>\n</div>"
     },
     "metadata": {},
     "execution_count": 3
    }
   ],
   "source": [
    "market_df[2:7]"
   ]
  },
  {
   "cell_type": "code",
   "execution_count": 4,
   "metadata": {},
   "outputs": [
    {
     "output_type": "execute_result",
     "data": {
      "text/plain": [
       "      Ord_id  Prod_id   Ship_id    Cust_id      Sales  Discount  \\\n",
       "3   Ord_5456   Prod_6  SHP_7625  Cust_1818  2337.8900      0.09   \n",
       "7   Ord_4725   Prod_4  SHP_6593  Cust_1641  3410.1575      0.10   \n",
       "11  Ord_1925   Prod_6  SHP_2637   Cust_708   465.9000      0.05   \n",
       "15  Ord_2280   Prod_5  SHP_3114   Cust_839   460.6900      0.06   \n",
       "19   Ord_996  Prod_13  SHP_1378   Cust_371    41.9700      0.05   \n",
       "\n",
       "    Order_Quantity   Profit  Shipping_Cost  Product_Base_Margin  \n",
       "3               43   729.34          14.30                 0.37  \n",
       "7               48  1137.91           0.99                 0.55  \n",
       "11              38    79.34           4.86                 0.38  \n",
       "15              48  -103.48           7.29                 0.45  \n",
       "19              12   -37.03           4.20                 0.56  "
      ],
      "text/html": "<div>\n<style scoped>\n    .dataframe tbody tr th:only-of-type {\n        vertical-align: middle;\n    }\n\n    .dataframe tbody tr th {\n        vertical-align: top;\n    }\n\n    .dataframe thead th {\n        text-align: right;\n    }\n</style>\n<table border=\"1\" class=\"dataframe\">\n  <thead>\n    <tr style=\"text-align: right;\">\n      <th></th>\n      <th>Ord_id</th>\n      <th>Prod_id</th>\n      <th>Ship_id</th>\n      <th>Cust_id</th>\n      <th>Sales</th>\n      <th>Discount</th>\n      <th>Order_Quantity</th>\n      <th>Profit</th>\n      <th>Shipping_Cost</th>\n      <th>Product_Base_Margin</th>\n    </tr>\n  </thead>\n  <tbody>\n    <tr>\n      <th>3</th>\n      <td>Ord_5456</td>\n      <td>Prod_6</td>\n      <td>SHP_7625</td>\n      <td>Cust_1818</td>\n      <td>2337.8900</td>\n      <td>0.09</td>\n      <td>43</td>\n      <td>729.34</td>\n      <td>14.30</td>\n      <td>0.37</td>\n    </tr>\n    <tr>\n      <th>7</th>\n      <td>Ord_4725</td>\n      <td>Prod_4</td>\n      <td>SHP_6593</td>\n      <td>Cust_1641</td>\n      <td>3410.1575</td>\n      <td>0.10</td>\n      <td>48</td>\n      <td>1137.91</td>\n      <td>0.99</td>\n      <td>0.55</td>\n    </tr>\n    <tr>\n      <th>11</th>\n      <td>Ord_1925</td>\n      <td>Prod_6</td>\n      <td>SHP_2637</td>\n      <td>Cust_708</td>\n      <td>465.9000</td>\n      <td>0.05</td>\n      <td>38</td>\n      <td>79.34</td>\n      <td>4.86</td>\n      <td>0.38</td>\n    </tr>\n    <tr>\n      <th>15</th>\n      <td>Ord_2280</td>\n      <td>Prod_5</td>\n      <td>SHP_3114</td>\n      <td>Cust_839</td>\n      <td>460.6900</td>\n      <td>0.06</td>\n      <td>48</td>\n      <td>-103.48</td>\n      <td>7.29</td>\n      <td>0.45</td>\n    </tr>\n    <tr>\n      <th>19</th>\n      <td>Ord_996</td>\n      <td>Prod_13</td>\n      <td>SHP_1378</td>\n      <td>Cust_371</td>\n      <td>41.9700</td>\n      <td>0.05</td>\n      <td>12</td>\n      <td>-37.03</td>\n      <td>4.20</td>\n      <td>0.56</td>\n    </tr>\n  </tbody>\n</table>\n</div>"
     },
     "metadata": {},
     "execution_count": 4
    }
   ],
   "source": [
    "market_df[3::4].head()"
   ]
  },
  {
   "cell_type": "markdown",
   "metadata": {},
   "source": [
    "### Selecting Columns"
   ]
  },
  {
   "cell_type": "code",
   "execution_count": 5,
   "metadata": {},
   "outputs": [
    {
     "output_type": "execute_result",
     "data": {
      "text/plain": [
       "0     136.81\n",
       "1      42.27\n",
       "2    4701.69\n",
       "3    2337.89\n",
       "4    4233.15\n",
       "Name: Sales, dtype: float64"
      ]
     },
     "metadata": {},
     "execution_count": 5
    }
   ],
   "source": [
    "# Using df['column']\n",
    "sales = market_df['Sales']\n",
    "sales.head()"
   ]
  },
  {
   "cell_type": "code",
   "execution_count": 6,
   "metadata": {},
   "outputs": [
    {
     "output_type": "execute_result",
     "data": {
      "text/plain": [
       "0     136.81\n",
       "1      42.27\n",
       "2    4701.69\n",
       "3    2337.89\n",
       "4    4233.15\n",
       "Name: Sales, dtype: float64"
      ]
     },
     "metadata": {},
     "execution_count": 6
    }
   ],
   "source": [
    "# Using df.column\n",
    "sales = market_df.Sales\n",
    "sales.head()"
   ]
  },
  {
   "cell_type": "code",
   "execution_count": 7,
   "metadata": {},
   "outputs": [
    {
     "output_type": "stream",
     "name": "stdout",
     "text": [
      "<class 'pandas.core.series.Series'>\n<class 'pandas.core.series.Series'>\n"
     ]
    }
   ],
   "source": [
    "# Notice that in both these cases, the resultant is a Series object\n",
    "print(type(market_df['Sales']))\n",
    "print(type(market_df.Sales))"
   ]
  },
  {
   "cell_type": "markdown",
   "metadata": {},
   "source": [
    "#### Selecting Multiple Columns "
   ]
  },
  {
   "cell_type": "code",
   "execution_count": 8,
   "metadata": {},
   "outputs": [
    {
     "output_type": "execute_result",
     "data": {
      "text/plain": [
       "     Cust_id    Sales   Profit\n",
       "0  Cust_1818   136.81   -30.51\n",
       "1  Cust_1818    42.27     4.56\n",
       "2  Cust_1818  4701.69  1148.90\n",
       "3  Cust_1818  2337.89   729.34\n",
       "4  Cust_1818  4233.15  1219.87"
      ],
      "text/html": "<div>\n<style scoped>\n    .dataframe tbody tr th:only-of-type {\n        vertical-align: middle;\n    }\n\n    .dataframe tbody tr th {\n        vertical-align: top;\n    }\n\n    .dataframe thead th {\n        text-align: right;\n    }\n</style>\n<table border=\"1\" class=\"dataframe\">\n  <thead>\n    <tr style=\"text-align: right;\">\n      <th></th>\n      <th>Cust_id</th>\n      <th>Sales</th>\n      <th>Profit</th>\n    </tr>\n  </thead>\n  <tbody>\n    <tr>\n      <th>0</th>\n      <td>Cust_1818</td>\n      <td>136.81</td>\n      <td>-30.51</td>\n    </tr>\n    <tr>\n      <th>1</th>\n      <td>Cust_1818</td>\n      <td>42.27</td>\n      <td>4.56</td>\n    </tr>\n    <tr>\n      <th>2</th>\n      <td>Cust_1818</td>\n      <td>4701.69</td>\n      <td>1148.90</td>\n    </tr>\n    <tr>\n      <th>3</th>\n      <td>Cust_1818</td>\n      <td>2337.89</td>\n      <td>729.34</td>\n    </tr>\n    <tr>\n      <th>4</th>\n      <td>Cust_1818</td>\n      <td>4233.15</td>\n      <td>1219.87</td>\n    </tr>\n  </tbody>\n</table>\n</div>"
     },
     "metadata": {},
     "execution_count": 8
    }
   ],
   "source": [
    "# Select Cust_id, Sales and Profit:\n",
    "market_df[['Cust_id', 'Sales', 'Profit']].head()"
   ]
  },
  {
   "cell_type": "markdown",
   "metadata": {},
   "source": [
    "Notice that in this case, the output is itself a dataframe."
   ]
  },
  {
   "cell_type": "code",
   "execution_count": 9,
   "metadata": {},
   "outputs": [
    {
     "output_type": "execute_result",
     "data": {
      "text/plain": [
       "pandas.core.frame.DataFrame"
      ]
     },
     "metadata": {},
     "execution_count": 9
    }
   ],
   "source": [
    "type(market_df[['Cust_id', 'Sales', 'Profit']])"
   ]
  },
  {
   "cell_type": "code",
   "execution_count": 10,
   "metadata": {},
   "outputs": [
    {
     "output_type": "execute_result",
     "data": {
      "text/plain": [
       "pandas.core.frame.DataFrame"
      ]
     },
     "metadata": {},
     "execution_count": 10
    }
   ],
   "source": [
    "# Similarly, if you select one column using double square brackets, \n",
    "# you'll get a df, not Series\n",
    "\n",
    "type(market_df[['Sales']])"
   ]
  },
  {
   "cell_type": "markdown",
   "metadata": {},
   "source": [
    "### Selecting Subsets of Dataframes\n",
    "\n",
    "Until now, you have seen selecting rows and columns using the following ways:\n",
    "* Selecting rows: ```df[start:stop]```\n",
    "* Selecting columns: ```df['column']``` or ```df.column``` or ```df[['col_x', 'col_y']]```\n",
    "    * ```df['column']``` or ```df.column``` return a series\n",
    "    * ```df[['col_x', 'col_y']]``` returns a dataframe\n",
    "\n",
    "But pandas does not prefer this way of indexing dataframes, since it has some ambiguity. For instance, let's try and select the third row of the dataframe.\n",
    "\n"
   ]
  },
  {
   "cell_type": "code",
   "execution_count": null,
   "metadata": {},
   "outputs": [],
   "source": [
    "# Trying to select the third row: Throws an error\n",
    "market_df[2]"
   ]
  },
  {
   "cell_type": "markdown",
   "metadata": {},
   "source": [
    "Pandas throws an error because it is confused whether the ```[2]``` is an *index* or a *label*. Recall from the previous section that you can change the row indices. "
   ]
  },
  {
   "cell_type": "code",
   "execution_count": 11,
   "metadata": {},
   "outputs": [
    {
     "output_type": "execute_result",
     "data": {
      "text/plain": [
       "          Prod_id   Ship_id    Cust_id    Sales  Discount  Order_Quantity  \\\n",
       "Ord_id                                                                      \n",
       "Ord_5446  Prod_16  SHP_7609  Cust_1818   136.81      0.01              23   \n",
       "Ord_5406  Prod_13  SHP_7549  Cust_1818    42.27      0.01              13   \n",
       "Ord_5446   Prod_4  SHP_7610  Cust_1818  4701.69      0.00              26   \n",
       "Ord_5456   Prod_6  SHP_7625  Cust_1818  2337.89      0.09              43   \n",
       "Ord_5485  Prod_17  SHP_7664  Cust_1818  4233.15      0.08              35   \n",
       "\n",
       "           Profit  Shipping_Cost  Product_Base_Margin  \n",
       "Ord_id                                                 \n",
       "Ord_5446   -30.51           3.60                 0.56  \n",
       "Ord_5406     4.56           0.93                 0.54  \n",
       "Ord_5446  1148.90           2.50                 0.59  \n",
       "Ord_5456   729.34          14.30                 0.37  \n",
       "Ord_5485  1219.87          26.30                 0.38  "
      ],
      "text/html": "<div>\n<style scoped>\n    .dataframe tbody tr th:only-of-type {\n        vertical-align: middle;\n    }\n\n    .dataframe tbody tr th {\n        vertical-align: top;\n    }\n\n    .dataframe thead th {\n        text-align: right;\n    }\n</style>\n<table border=\"1\" class=\"dataframe\">\n  <thead>\n    <tr style=\"text-align: right;\">\n      <th></th>\n      <th>Prod_id</th>\n      <th>Ship_id</th>\n      <th>Cust_id</th>\n      <th>Sales</th>\n      <th>Discount</th>\n      <th>Order_Quantity</th>\n      <th>Profit</th>\n      <th>Shipping_Cost</th>\n      <th>Product_Base_Margin</th>\n    </tr>\n    <tr>\n      <th>Ord_id</th>\n      <th></th>\n      <th></th>\n      <th></th>\n      <th></th>\n      <th></th>\n      <th></th>\n      <th></th>\n      <th></th>\n      <th></th>\n    </tr>\n  </thead>\n  <tbody>\n    <tr>\n      <th>Ord_5446</th>\n      <td>Prod_16</td>\n      <td>SHP_7609</td>\n      <td>Cust_1818</td>\n      <td>136.81</td>\n      <td>0.01</td>\n      <td>23</td>\n      <td>-30.51</td>\n      <td>3.60</td>\n      <td>0.56</td>\n    </tr>\n    <tr>\n      <th>Ord_5406</th>\n      <td>Prod_13</td>\n      <td>SHP_7549</td>\n      <td>Cust_1818</td>\n      <td>42.27</td>\n      <td>0.01</td>\n      <td>13</td>\n      <td>4.56</td>\n      <td>0.93</td>\n      <td>0.54</td>\n    </tr>\n    <tr>\n      <th>Ord_5446</th>\n      <td>Prod_4</td>\n      <td>SHP_7610</td>\n      <td>Cust_1818</td>\n      <td>4701.69</td>\n      <td>0.00</td>\n      <td>26</td>\n      <td>1148.90</td>\n      <td>2.50</td>\n      <td>0.59</td>\n    </tr>\n    <tr>\n      <th>Ord_5456</th>\n      <td>Prod_6</td>\n      <td>SHP_7625</td>\n      <td>Cust_1818</td>\n      <td>2337.89</td>\n      <td>0.09</td>\n      <td>43</td>\n      <td>729.34</td>\n      <td>14.30</td>\n      <td>0.37</td>\n    </tr>\n    <tr>\n      <th>Ord_5485</th>\n      <td>Prod_17</td>\n      <td>SHP_7664</td>\n      <td>Cust_1818</td>\n      <td>4233.15</td>\n      <td>0.08</td>\n      <td>35</td>\n      <td>1219.87</td>\n      <td>26.30</td>\n      <td>0.38</td>\n    </tr>\n  </tbody>\n</table>\n</div>"
     },
     "metadata": {},
     "execution_count": 11
    }
   ],
   "source": [
    "# Changing the row indices to Ord_id\n",
    "market_df.set_index('Ord_id').head()"
   ]
  },
  {
   "cell_type": "markdown",
   "metadata": {},
   "source": [
    "Now imagine you had a column with entries ```[2, 4, 7, 8 ...]```, and you set that as the index. What should ```df[2]``` return?\n",
    "The second row, or the row with the index value = 2?\n",
    "\n",
    "Taking an example from this dataset, say you decide to assign the ```Order_Quantity``` column as the index."
   ]
  },
  {
   "cell_type": "code",
   "execution_count": 12,
   "metadata": {},
   "outputs": [
    {
     "output_type": "execute_result",
     "data": {
      "text/plain": [
       "                  Ord_id  Prod_id   Ship_id    Cust_id    Sales  Discount  \\\n",
       "Order_Quantity                                                              \n",
       "23              Ord_5446  Prod_16  SHP_7609  Cust_1818   136.81      0.01   \n",
       "13              Ord_5406  Prod_13  SHP_7549  Cust_1818    42.27      0.01   \n",
       "26              Ord_5446   Prod_4  SHP_7610  Cust_1818  4701.69      0.00   \n",
       "43              Ord_5456   Prod_6  SHP_7625  Cust_1818  2337.89      0.09   \n",
       "35              Ord_5485  Prod_17  SHP_7664  Cust_1818  4233.15      0.08   \n",
       "\n",
       "                 Profit  Shipping_Cost  Product_Base_Margin  \n",
       "Order_Quantity                                               \n",
       "23               -30.51           3.60                 0.56  \n",
       "13                 4.56           0.93                 0.54  \n",
       "26              1148.90           2.50                 0.59  \n",
       "43               729.34          14.30                 0.37  \n",
       "35              1219.87          26.30                 0.38  "
      ],
      "text/html": "<div>\n<style scoped>\n    .dataframe tbody tr th:only-of-type {\n        vertical-align: middle;\n    }\n\n    .dataframe tbody tr th {\n        vertical-align: top;\n    }\n\n    .dataframe thead th {\n        text-align: right;\n    }\n</style>\n<table border=\"1\" class=\"dataframe\">\n  <thead>\n    <tr style=\"text-align: right;\">\n      <th></th>\n      <th>Ord_id</th>\n      <th>Prod_id</th>\n      <th>Ship_id</th>\n      <th>Cust_id</th>\n      <th>Sales</th>\n      <th>Discount</th>\n      <th>Profit</th>\n      <th>Shipping_Cost</th>\n      <th>Product_Base_Margin</th>\n    </tr>\n    <tr>\n      <th>Order_Quantity</th>\n      <th></th>\n      <th></th>\n      <th></th>\n      <th></th>\n      <th></th>\n      <th></th>\n      <th></th>\n      <th></th>\n      <th></th>\n    </tr>\n  </thead>\n  <tbody>\n    <tr>\n      <th>23</th>\n      <td>Ord_5446</td>\n      <td>Prod_16</td>\n      <td>SHP_7609</td>\n      <td>Cust_1818</td>\n      <td>136.81</td>\n      <td>0.01</td>\n      <td>-30.51</td>\n      <td>3.60</td>\n      <td>0.56</td>\n    </tr>\n    <tr>\n      <th>13</th>\n      <td>Ord_5406</td>\n      <td>Prod_13</td>\n      <td>SHP_7549</td>\n      <td>Cust_1818</td>\n      <td>42.27</td>\n      <td>0.01</td>\n      <td>4.56</td>\n      <td>0.93</td>\n      <td>0.54</td>\n    </tr>\n    <tr>\n      <th>26</th>\n      <td>Ord_5446</td>\n      <td>Prod_4</td>\n      <td>SHP_7610</td>\n      <td>Cust_1818</td>\n      <td>4701.69</td>\n      <td>0.00</td>\n      <td>1148.90</td>\n      <td>2.50</td>\n      <td>0.59</td>\n    </tr>\n    <tr>\n      <th>43</th>\n      <td>Ord_5456</td>\n      <td>Prod_6</td>\n      <td>SHP_7625</td>\n      <td>Cust_1818</td>\n      <td>2337.89</td>\n      <td>0.09</td>\n      <td>729.34</td>\n      <td>14.30</td>\n      <td>0.37</td>\n    </tr>\n    <tr>\n      <th>35</th>\n      <td>Ord_5485</td>\n      <td>Prod_17</td>\n      <td>SHP_7664</td>\n      <td>Cust_1818</td>\n      <td>4233.15</td>\n      <td>0.08</td>\n      <td>1219.87</td>\n      <td>26.30</td>\n      <td>0.38</td>\n    </tr>\n  </tbody>\n</table>\n</div>"
     },
     "metadata": {},
     "execution_count": 12
    }
   ],
   "source": [
    "market_df.set_index('Order_Quantity').head()"
   ]
  },
  {
   "cell_type": "markdown",
   "metadata": {},
   "source": [
    "Now, what should ```df[13]``` return - the 14th row, or the row with index label 13 (i.e. the second row)?\n",
    "\n",
    "Because of this and similar other ambiguities, pandas provides **explicit ways** to subset dataframes - position based indexing and label based indexing, which we'll study next."
   ]
  }
 ],
 "metadata": {
  "kernelspec": {
   "name": "python388jvsc74a57bd037eb40c3388cfde35488e2d005b0d69ca91ddeff8a429754d4da636d3f888e5e",
   "display_name": "Python 3.8.8 64-bit (conda)"
  },
  "language_info": {
   "codemirror_mode": {
    "name": "ipython",
    "version": 3
   },
   "file_extension": ".py",
   "mimetype": "text/x-python",
   "name": "python",
   "nbconvert_exporter": "python",
   "pygments_lexer": "ipython3",
   "version": "3.8.8"
  }
 },
 "nbformat": 4,
 "nbformat_minor": 2
}