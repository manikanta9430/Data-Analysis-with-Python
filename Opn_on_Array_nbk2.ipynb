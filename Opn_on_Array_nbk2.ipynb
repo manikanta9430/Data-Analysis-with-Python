{
  "nbformat": 4,
  "nbformat_minor": 0,
  "metadata": {
    "kernelspec": {
      "name": "python3810jvsc74a57bd0138d241a16834cda83f12dc7b1fc17c86ac1842b2d04d5e79ff1ae4d4446b93e",
      "display_name": "Python 3.8.7 64-bit (windows store)"
    },
    "language_info": {
      "codemirror_mode": {
        "name": "ipython",
        "version": 3
      },
      "file_extension": ".py",
      "mimetype": "text/x-python",
      "name": "python",
      "nbconvert_exporter": "python",
      "pygments_lexer": "ipython3",
      "version": "3.8.10"
    },
    "colab": {
      "name": "Opn on Array nbk2.ipynb",
      "provenance": []
    },
    "metadata": {
      "interpreter": {
        "hash": "138d241a16834cda83f12dc7b1fc17c86ac1842b2d04d5e79ff1ae4d4446b93e"
      }
    }
  },
  "cells": [
    {
      "cell_type": "markdown",
      "metadata": {
        "id": "vkyKl1p95CGW",
        "colab_type": "text"
      },
      "source": [
        "# Operations on NumPy Arrays\n",
        "\n"
      ]
    },
    {
      "cell_type": "markdown",
      "metadata": {
        "id": "JYa4s3o45CGf",
        "colab_type": "text"
      },
      "source": [
        "### Manipulating Arrays\n",
        "\n",
        "Let's look at some ways to manipulate arrays, i.e. changing the shape, combining and splitting arrays, etc.   \n",
        "\n",
        "#### Reshaping Arrays\n",
        "\n",
        "Reshaping is done using the ```reshape()``` function.\n"
      ]
    },
    {
      "cell_type": "code",
      "metadata": {
        "id": "VjRKJCLE5CGh",
        "colab_type": "code",
        "colab": {}
      },
      "source": [
        "import numpy as np\n",
        "\n",
        "# Reshape a 1-D array to a 3 x 4 array\n",
        "some_array = np.arange(0, 12).reshape(3, 4)\n",
        "print(some_array)"
      ],
      "execution_count": 1,
      "outputs": [
        {
          "output_type": "stream",
          "name": "stdout",
          "text": [
            "[[ 0  1  2  3]\n [ 4  5  6  7]\n [ 8  9 10 11]]\n"
          ]
        }
      ]
    },
    {
      "cell_type": "code",
      "metadata": {
        "id": "k8jti6aL5CGq",
        "colab_type": "code",
        "colab": {}
      },
      "source": [
        "# Can reshape it further \n",
        "some_array.reshape(2, 6)"
      ],
      "execution_count": 3,
      "outputs": [
        {
          "output_type": "execute_result",
          "data": {
            "text/plain": [
              "array([[ 0,  1,  2,  3,  4,  5],\n",
              "       [ 6,  7,  8,  9, 10, 11]])"
            ]
          },
          "metadata": {},
          "execution_count": 3
        }
      ]
    },
    {
      "cell_type": "code",
      "metadata": {
        "id": "w0WrF6sj5CGw",
        "colab_type": "code",
        "colab": {}
      },
      "source": [
        "# If you specify -1 as a dimension, the dimensions are automatically calculated\n",
        "# -1 means \"whatever dimension is needed\" \n",
        "some_array.reshape(4, -1)"
      ],
      "execution_count": 4,
      "outputs": [
        {
          "output_type": "execute_result",
          "data": {
            "text/plain": [
              "array([[ 0,  1,  2],\n",
              "       [ 3,  4,  5],\n",
              "       [ 6,  7,  8],\n",
              "       [ 9, 10, 11]])"
            ]
          },
          "metadata": {},
          "execution_count": 4
        }
      ]
    },
    {
      "cell_type": "markdown",
      "metadata": {
        "id": "I9vazg105CG1",
        "colab_type": "text"
      },
      "source": [
        "```array.T``` returns the transpose of an array."
      ]
    },
    {
      "cell_type": "code",
      "metadata": {
        "id": "pxNbr8kp5CG2",
        "colab_type": "code",
        "colab": {}
      },
      "source": [
        "# Transposing an array\n",
        "some_array.T"
      ],
      "execution_count": 5,
      "outputs": [
        {
          "output_type": "execute_result",
          "data": {
            "text/plain": [
              "array([[ 0,  4,  8],\n",
              "       [ 1,  5,  9],\n",
              "       [ 2,  6, 10],\n",
              "       [ 3,  7, 11]])"
            ]
          },
          "metadata": {},
          "execution_count": 5
        }
      ]
    },
    {
      "cell_type": "markdown",
      "metadata": {
        "id": "Yc8MzVoP5CHB",
        "colab_type": "text"
      },
      "source": [
        "### Stacking and Splitting Arrays\n",
        "\n",
        "#### Stacking: ```np.hstack()``` and ```np.vstack()```\n",
        "\n",
        "Stacking is done using the ```np.hstack()``` and ```np.vstack()``` methods. For horizontal stacking, the number of rows should be the same, while for vertical stacking, the number of columns should be the same."
      ]
    },
    {
      "cell_type": "code",
      "metadata": {
        "id": "EtxMnb9b5CHD",
        "colab_type": "code",
        "colab": {}
      },
      "source": [
        "# Creating two arrays\n",
        "array_1 = np.arange(12).reshape(3, 4)\n",
        "array_2 = np.arange(20).reshape(5, 4)\n",
        "\n",
        "print(array_1)\n",
        "print(\"\\n\")\n",
        "print(array_2)"
      ],
      "execution_count": 6,
      "outputs": [
        {
          "output_type": "stream",
          "name": "stdout",
          "text": [
            "[[ 0  1  2  3]\n [ 4  5  6  7]\n [ 8  9 10 11]]\n\n\n[[ 0  1  2  3]\n [ 4  5  6  7]\n [ 8  9 10 11]\n [12 13 14 15]\n [16 17 18 19]]\n"
          ]
        }
      ]
    },
    {
      "cell_type": "code",
      "metadata": {
        "id": "C9xNuZ9O5CHI",
        "colab_type": "code",
        "colab": {}
      },
      "source": [
        "# vstack\n",
        "# Note that np.vstack(a, b) throws an error - you need to pass the arrays as a list\n",
        "np.vstack((array_1, array_2))"
      ],
      "execution_count": 7,
      "outputs": [
        {
          "output_type": "execute_result",
          "data": {
            "text/plain": [
              "array([[ 0,  1,  2,  3],\n",
              "       [ 4,  5,  6,  7],\n",
              "       [ 8,  9, 10, 11],\n",
              "       [ 0,  1,  2,  3],\n",
              "       [ 4,  5,  6,  7],\n",
              "       [ 8,  9, 10, 11],\n",
              "       [12, 13, 14, 15],\n",
              "       [16, 17, 18, 19]])"
            ]
          },
          "metadata": {},
          "execution_count": 7
        }
      ]
    },
    {
      "cell_type": "markdown",
      "metadata": {
        "id": "BMQOfD4y5CHN",
        "colab_type": "text"
      },
      "source": [
        "Similarly, two arrays having the same number of rows can be horizontally stacked using ```np.hstack((a, b))```."
      ]
    },
    {
      "cell_type": "markdown",
      "metadata": {
        "id": "yh5aIBlu5CHP",
        "colab_type": "text"
      },
      "source": [
        "### Perform Operations on Arrays\n",
        "\n",
        "Performing mathematical operations on arrays is extremely simple. Let's see some common operations.\n",
        "\n",
        "\n",
        "#### Basic Mathematical Operations\n",
        "\n",
        "NumPy provides almost all the basic math functions - exp, sin, cos, log, sqrt etc. The function is applied to each element of the array.\n"
      ]
    },
    {
      "cell_type": "code",
      "metadata": {
        "id": "owAUWZe35CHQ",
        "colab_type": "code",
        "colab": {}
      },
      "source": [
        "# Basic mathematical operations\n",
        "a = np.arange(0, 20)\n",
        "\n",
        "# sin, cos, exp, log\n",
        "print(np.sin(a))\n",
        "print(np.cos(a))\n",
        "print(np.exp(a))\n",
        "print(np.log(a))"
      ],
      "execution_count": 13,
      "outputs": [
        {
          "output_type": "stream",
          "name": "stdout",
          "text": [
            "[ 0.          0.84147098  0.90929743  0.14112001 -0.7568025  -0.95892427\n",
            " -0.2794155   0.6569866   0.98935825  0.41211849 -0.54402111 -0.99999021\n",
            " -0.53657292  0.42016704  0.99060736  0.65028784 -0.28790332 -0.96139749\n",
            " -0.75098725  0.14987721]\n",
            "[ 1.          0.54030231 -0.41614684 -0.9899925  -0.65364362  0.28366219\n",
            "  0.96017029  0.75390225 -0.14550003 -0.91113026 -0.83907153  0.0044257\n",
            "  0.84385396  0.90744678  0.13673722 -0.75968791 -0.95765948 -0.27516334\n",
            "  0.66031671  0.98870462]\n",
            "[1.00000000e+00 2.71828183e+00 7.38905610e+00 2.00855369e+01\n",
            " 5.45981500e+01 1.48413159e+02 4.03428793e+02 1.09663316e+03\n",
            " 2.98095799e+03 8.10308393e+03 2.20264658e+04 5.98741417e+04\n",
            " 1.62754791e+05 4.42413392e+05 1.20260428e+06 3.26901737e+06\n",
            " 8.88611052e+06 2.41549528e+07 6.56599691e+07 1.78482301e+08]\n",
            "[      -inf 0.         0.69314718 1.09861229 1.38629436 1.60943791\n",
            " 1.79175947 1.94591015 2.07944154 2.19722458 2.30258509 2.39789527\n",
            " 2.48490665 2.56494936 2.63905733 2.7080502  2.77258872 2.83321334\n",
            " 2.89037176 2.94443898]\n",
            "<ipython-input-13-a96ea122ef90>:8: RuntimeWarning: divide by zero encountered in log\n",
            "  print(np.log(a))\n"
          ]
        }
      ]
    },
    {
      "cell_type": "markdown",
      "metadata": {
        "id": "emXQXhsB5CHV",
        "colab_type": "text"
      },
      "source": [
        "#### Apply User Defined Functions\n",
        "\n",
        "You can also apply your own functions on arrays. For e.g. applying the function ```x/(x+1)``` to each element of an array.\n",
        "\n",
        "One way to do that is by looping through the array, which is the non-numpy way. You would rather want to write **vectorised code**. \n",
        "\n",
        "The simplest way to do that is to vectorise the function you want, and then apply it on the array. Numpy provides the ```np.vectorize()``` method to vectorise functions.\n",
        "\n",
        "Let's look at both the ways to do it."
      ]
    },
    {
      "cell_type": "code",
      "metadata": {
        "id": "dyPLk27t5CHX",
        "colab_type": "code",
        "colab": {}
      },
      "source": [
        "print(a)"
      ],
      "execution_count": 14,
      "outputs": [
        {
          "output_type": "stream",
          "name": "stdout",
          "text": [
            "[ 0  1  2  3  4  5  6  7  8  9 10 11 12 13 14 15 16 17 18 19]\n"
          ]
        }
      ]
    },
    {
      "cell_type": "code",
      "metadata": {
        "id": "O3CLezUu5CHb",
        "colab_type": "code",
        "colab": {}
      },
      "source": [
        "# The non-numpy way, not recommended\n",
        "a_list = [x/(x+1) for x in a]\n",
        "print(a_list)"
      ],
      "execution_count": 15,
      "outputs": [
        {
          "output_type": "stream",
          "name": "stdout",
          "text": [
            "[0.0, 0.5, 0.6666666666666666, 0.75, 0.8, 0.8333333333333334, 0.8571428571428571, 0.875, 0.8888888888888888, 0.9, 0.9090909090909091, 0.9166666666666666, 0.9230769230769231, 0.9285714285714286, 0.9333333333333333, 0.9375, 0.9411764705882353, 0.9444444444444444, 0.9473684210526315, 0.95]\n"
          ]
        }
      ]
    },
    {
      "cell_type": "code",
      "metadata": {
        "id": "js7_4ECJ5CHg",
        "colab_type": "code",
        "colab": {}
      },
      "source": [
        "# The numpy way: vectorize the function, then apply it\n",
        "f = np.vectorize(lambda x: x/(x+1))\n",
        "f(a)"
      ],
      "execution_count": 16,
      "outputs": [
        {
          "output_type": "execute_result",
          "data": {
            "text/plain": [
              "array([0.        , 0.5       , 0.66666667, 0.75      , 0.8       ,\n",
              "       0.83333333, 0.85714286, 0.875     , 0.88888889, 0.9       ,\n",
              "       0.90909091, 0.91666667, 0.92307692, 0.92857143, 0.93333333,\n",
              "       0.9375    , 0.94117647, 0.94444444, 0.94736842, 0.95      ])"
            ]
          },
          "metadata": {},
          "execution_count": 16
        }
      ]
    },
    {
      "cell_type": "code",
      "metadata": {
        "id": "i-0Pzylo5CHk",
        "colab_type": "code",
        "colab": {}
      },
      "source": [
        "# Apply function on a 2-d array: Applied to each element \n",
        "b = np.linspace(1, 100, 10)\n",
        "f(b)"
      ],
      "execution_count": 17,
      "outputs": [
        {
          "output_type": "execute_result",
          "data": {
            "text/plain": [
              "array([0.5       , 0.92307692, 0.95833333, 0.97142857, 0.97826087,\n",
              "       0.98245614, 0.98529412, 0.98734177, 0.98888889, 0.99009901])"
            ]
          },
          "metadata": {},
          "execution_count": 17
        }
      ]
    },
    {
      "cell_type": "markdown",
      "metadata": {
        "id": "uZLHiKAN5CHn",
        "colab_type": "text"
      },
      "source": [
        "This also has the advantage that you can vectorize the function once, and then apply it as many times as needed. "
      ]
    },
    {
      "cell_type": "markdown",
      "metadata": {
        "id": "lhDE1Qnq5CHo",
        "colab_type": "text"
      },
      "source": [
        "#### Apply Basic Linear Algebra Operations\n",
        "\n",
        "NumPy provides the ```np.linalg``` package to apply common linear algebra operations, such as:\n",
        "* ```np.linalg.inv```: Inverse of a matrix\n",
        "* ```np.linalg.det```: Determinant of a matrix\n",
        "* ```np.linalg.eig```: Eigenvalues and eigenvectors of a matrix\n",
        "    \n",
        "Also, you can multiple matrices using ```np.dot(a, b)```. \n"
      ]
    },
    {
      "source": [
        "# np.linalg documentation\n",
        "help(np.linalg)"
      ],
      "cell_type": "code",
      "metadata": {
        "id": "1z8SL7hi5CHp",
        "colab_type": "code",
        "colab": {},
        "tags": [
          "outputPrepend"
        ]
      },
      "execution_count": null,
      "outputs": []
    },
    {
      "cell_type": "code",
      "metadata": {
        "id": "Ujfc6DX15CHs",
        "colab_type": "code",
        "colab": {}
      },
      "source": [
        "# Creating arrays\n",
        "a = np.arange(1, 10).reshape(3, 3)\n",
        "b= np.arange(1, 13).reshape(3, 4)\n",
        "print(a)\n",
        "print(b)"
      ],
      "execution_count": 19,
      "outputs": [
        {
          "output_type": "stream",
          "name": "stdout",
          "text": [
            "[[1 2 3]\n [4 5 6]\n [7 8 9]]\n[[ 1  2  3  4]\n [ 5  6  7  8]\n [ 9 10 11 12]]\n"
          ]
        }
      ]
    },
    {
      "source": [
        "# Inverse\n",
        "np.linalg.inv(a)"
      ],
      "cell_type": "code",
      "metadata": {
        "id": "QQiNHVMj5CHw",
        "colab_type": "code",
        "colab": {}
      },
      "execution_count": 24,
      "outputs": [
        {
          "output_type": "error",
          "ename": "LinAlgError",
          "evalue": "Singular matrix",
          "traceback": [
            "\u001b[1;31m---------------------------------------------------------------------------\u001b[0m",
            "\u001b[1;31mLinAlgError\u001b[0m                               Traceback (most recent call last)",
            "\u001b[1;32m<ipython-input-24-76b5bcaec91a>\u001b[0m in \u001b[0;36m<module>\u001b[1;34m\u001b[0m\n\u001b[0;32m      1\u001b[0m \u001b[1;31m# Inverse\u001b[0m\u001b[1;33m\u001b[0m\u001b[1;33m\u001b[0m\u001b[1;33m\u001b[0m\u001b[0m\n\u001b[1;32m----> 2\u001b[1;33m \u001b[0mnp\u001b[0m\u001b[1;33m.\u001b[0m\u001b[0mlinalg\u001b[0m\u001b[1;33m.\u001b[0m\u001b[0minv\u001b[0m\u001b[1;33m(\u001b[0m\u001b[0ma\u001b[0m\u001b[1;33m)\u001b[0m\u001b[1;33m\u001b[0m\u001b[1;33m\u001b[0m\u001b[0m\n\u001b[0m",
            "\u001b[1;32m<__array_function__ internals>\u001b[0m in \u001b[0;36minv\u001b[1;34m(*args, **kwargs)\u001b[0m\n",
            "\u001b[1;32m~\\AppData\\Local\\Packages\\PythonSoftwareFoundation.Python.3.8_qbz5n2kfra8p0\\LocalCache\\local-packages\\Python38\\site-packages\\numpy\\linalg\\linalg.py\u001b[0m in \u001b[0;36minv\u001b[1;34m(a)\u001b[0m\n\u001b[0;32m    543\u001b[0m     \u001b[0msignature\u001b[0m \u001b[1;33m=\u001b[0m \u001b[1;34m'D->D'\u001b[0m \u001b[1;32mif\u001b[0m \u001b[0misComplexType\u001b[0m\u001b[1;33m(\u001b[0m\u001b[0mt\u001b[0m\u001b[1;33m)\u001b[0m \u001b[1;32melse\u001b[0m \u001b[1;34m'd->d'\u001b[0m\u001b[1;33m\u001b[0m\u001b[1;33m\u001b[0m\u001b[0m\n\u001b[0;32m    544\u001b[0m     \u001b[0mextobj\u001b[0m \u001b[1;33m=\u001b[0m \u001b[0mget_linalg_error_extobj\u001b[0m\u001b[1;33m(\u001b[0m\u001b[0m_raise_linalgerror_singular\u001b[0m\u001b[1;33m)\u001b[0m\u001b[1;33m\u001b[0m\u001b[1;33m\u001b[0m\u001b[0m\n\u001b[1;32m--> 545\u001b[1;33m     \u001b[0mainv\u001b[0m \u001b[1;33m=\u001b[0m \u001b[0m_umath_linalg\u001b[0m\u001b[1;33m.\u001b[0m\u001b[0minv\u001b[0m\u001b[1;33m(\u001b[0m\u001b[0ma\u001b[0m\u001b[1;33m,\u001b[0m \u001b[0msignature\u001b[0m\u001b[1;33m=\u001b[0m\u001b[0msignature\u001b[0m\u001b[1;33m,\u001b[0m \u001b[0mextobj\u001b[0m\u001b[1;33m=\u001b[0m\u001b[0mextobj\u001b[0m\u001b[1;33m)\u001b[0m\u001b[1;33m\u001b[0m\u001b[1;33m\u001b[0m\u001b[0m\n\u001b[0m\u001b[0;32m    546\u001b[0m     \u001b[1;32mreturn\u001b[0m \u001b[0mwrap\u001b[0m\u001b[1;33m(\u001b[0m\u001b[0mainv\u001b[0m\u001b[1;33m.\u001b[0m\u001b[0mastype\u001b[0m\u001b[1;33m(\u001b[0m\u001b[0mresult_t\u001b[0m\u001b[1;33m,\u001b[0m \u001b[0mcopy\u001b[0m\u001b[1;33m=\u001b[0m\u001b[1;32mFalse\u001b[0m\u001b[1;33m)\u001b[0m\u001b[1;33m)\u001b[0m\u001b[1;33m\u001b[0m\u001b[1;33m\u001b[0m\u001b[0m\n\u001b[0;32m    547\u001b[0m \u001b[1;33m\u001b[0m\u001b[0m\n",
            "\u001b[1;32m~\\AppData\\Local\\Packages\\PythonSoftwareFoundation.Python.3.8_qbz5n2kfra8p0\\LocalCache\\local-packages\\Python38\\site-packages\\numpy\\linalg\\linalg.py\u001b[0m in \u001b[0;36m_raise_linalgerror_singular\u001b[1;34m(err, flag)\u001b[0m\n\u001b[0;32m     86\u001b[0m \u001b[1;33m\u001b[0m\u001b[0m\n\u001b[0;32m     87\u001b[0m \u001b[1;32mdef\u001b[0m \u001b[0m_raise_linalgerror_singular\u001b[0m\u001b[1;33m(\u001b[0m\u001b[0merr\u001b[0m\u001b[1;33m,\u001b[0m \u001b[0mflag\u001b[0m\u001b[1;33m)\u001b[0m\u001b[1;33m:\u001b[0m\u001b[1;33m\u001b[0m\u001b[1;33m\u001b[0m\u001b[0m\n\u001b[1;32m---> 88\u001b[1;33m     \u001b[1;32mraise\u001b[0m \u001b[0mLinAlgError\u001b[0m\u001b[1;33m(\u001b[0m\u001b[1;34m\"Singular matrix\"\u001b[0m\u001b[1;33m)\u001b[0m\u001b[1;33m\u001b[0m\u001b[1;33m\u001b[0m\u001b[0m\n\u001b[0m\u001b[0;32m     89\u001b[0m \u001b[1;33m\u001b[0m\u001b[0m\n\u001b[0;32m     90\u001b[0m \u001b[1;32mdef\u001b[0m \u001b[0m_raise_linalgerror_nonposdef\u001b[0m\u001b[1;33m(\u001b[0m\u001b[0merr\u001b[0m\u001b[1;33m,\u001b[0m \u001b[0mflag\u001b[0m\u001b[1;33m)\u001b[0m\u001b[1;33m:\u001b[0m\u001b[1;33m\u001b[0m\u001b[1;33m\u001b[0m\u001b[0m\n",
            "\u001b[1;31mLinAlgError\u001b[0m: Singular matrix"
          ]
        }
      ]
    },
    {
      "cell_type": "code",
      "metadata": {
        "id": "hCJaSB-D5CHz",
        "colab_type": "code",
        "colab": {}
      },
      "source": [
        "# Determinant\n",
        "np.linalg.det(a)"
      ],
      "execution_count": 21,
      "outputs": [
        {
          "output_type": "execute_result",
          "data": {
            "text/plain": [
              "0.0"
            ]
          },
          "metadata": {},
          "execution_count": 21
        }
      ]
    },
    {
      "cell_type": "code",
      "metadata": {
        "id": "pNzo0i6k5CH2",
        "colab_type": "code",
        "colab": {}
      },
      "source": [
        "# Eigenvalues and eigenvectors\n",
        "np.linalg.eig(a)"
      ],
      "execution_count": 25,
      "outputs": [
        {
          "output_type": "execute_result",
          "data": {
            "text/plain": [
              "(array([ 1.61168440e+01, -1.11684397e+00, -1.30367773e-15]),\n",
              " array([[-0.23197069, -0.78583024,  0.40824829],\n",
              "        [-0.52532209, -0.08675134, -0.81649658],\n",
              "        [-0.8186735 ,  0.61232756,  0.40824829]]))"
            ]
          },
          "metadata": {},
          "execution_count": 25
        }
      ]
    },
    {
      "cell_type": "code",
      "metadata": {
        "id": "V8B2SjXh5CH4",
        "colab_type": "code",
        "colab": {}
      },
      "source": [
        "# Multiply matrices\n",
        "np.dot(a, b)"
      ],
      "execution_count": 26,
      "outputs": [
        {
          "output_type": "execute_result",
          "data": {
            "text/plain": [
              "array([[ 38,  44,  50,  56],\n",
              "       [ 83,  98, 113, 128],\n",
              "       [128, 152, 176, 200]])"
            ]
          },
          "metadata": {},
          "execution_count": 26
        }
      ]
    },
    {
      "cell_type": "code",
      "execution_count": null,
      "metadata": {},
      "outputs": [],
      "source": []
    }
  ]
}