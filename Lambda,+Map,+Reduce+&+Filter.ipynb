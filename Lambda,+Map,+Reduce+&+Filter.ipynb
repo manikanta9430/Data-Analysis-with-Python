{
 "cells": [
  {
   "cell_type": "markdown",
   "metadata": {},
   "source": [
    "Lambda expressions are also another way of defining functions but with a difference. They aren't capable of multiple expressions and can only handle single expressions. The format of lambda statements is as follows:\n",
    "\n",
    "function_name  = lambda <space>  input_parameters  :  output_parameters\n",
    "\n",
    "Eg: join_by_comma = lambda x : ','.join(x)\n",
    "This will create a function called join_by_comma and will return a string with each item of the list separated by a comma.\n",
    "\n",
    "Map is a function that works like list comprehensions and for loops. It is used when you need to map or implement functions on various elements at the same time.\n",
    "\n",
    "Filter is a similar operation, but it requires the function to look for a condition and then, only returns those elements from the collection that satisfy the condition.\n",
    "\n",
    "Reduce is an operation that breaks down the entire process into pair-wise operations and uses the result from each operation, with the successive element."
   ]
  },
  {
   "cell_type": "code",
   "execution_count": 1,
   "metadata": {},
   "outputs": [
    {
     "output_type": "stream",
     "name": "stdout",
     "text": [
      "32\n"
     ]
    }
   ],
   "source": [
    "product = lambda x, y : x*y\n",
    "print(product(8,4))"
   ]
  },
  {
   "cell_type": "code",
   "execution_count": 2,
   "metadata": {},
   "outputs": [
    {
     "output_type": "error",
     "ename": "TypeError",
     "evalue": "unsupported operand type(s) for ** or pow(): 'list' and 'int'",
     "traceback": [
      "\u001b[1;31m---------------------------------------------------------------------------\u001b[0m",
      "\u001b[1;31mTypeError\u001b[0m                                 Traceback (most recent call last)",
      "\u001b[1;32m<ipython-input-2-ed87566ab752>\u001b[0m in \u001b[0;36m<module>\u001b[1;34m\u001b[0m\n\u001b[0;32m      1\u001b[0m \u001b[0mfirst_list\u001b[0m \u001b[1;33m=\u001b[0m \u001b[1;33m[\u001b[0m\u001b[1;36m1\u001b[0m\u001b[1;33m,\u001b[0m\u001b[1;36m3\u001b[0m\u001b[1;33m,\u001b[0m\u001b[1;36m5\u001b[0m\u001b[1;33m]\u001b[0m\u001b[1;33m\u001b[0m\u001b[1;33m\u001b[0m\u001b[0m\n\u001b[1;32m----> 2\u001b[1;33m \u001b[0mprint\u001b[0m\u001b[1;33m(\u001b[0m\u001b[0mfirst_list\u001b[0m\u001b[1;33m**\u001b[0m\u001b[1;36m2\u001b[0m\u001b[1;33m)\u001b[0m\u001b[1;33m\u001b[0m\u001b[1;33m\u001b[0m\u001b[0m\n\u001b[0m",
      "\u001b[1;31mTypeError\u001b[0m: unsupported operand type(s) for ** or pow(): 'list' and 'int'"
     ]
    }
   ],
   "source": [
    "first_list = [1,3,5]\n",
    "print(first_list**2)"
   ]
  },
  {
   "cell_type": "code",
   "execution_count": 3,
   "metadata": {
    "collapsed": true
   },
   "outputs": [],
   "source": [
    "first_list = [1,3,5]"
   ]
  },
  {
   "cell_type": "code",
   "execution_count": 4,
   "metadata": {},
   "outputs": [
    {
     "output_type": "stream",
     "name": "stdout",
     "text": [
      "<map object at 0x05B29D90>\n"
     ]
    }
   ],
   "source": [
    "print(map(lambda x: x**2, first_list))"
   ]
  },
  {
   "cell_type": "code",
   "execution_count": 5,
   "metadata": {},
   "outputs": [
    {
     "output_type": "stream",
     "name": "stdout",
     "text": [
      "[1, 9, 25]\n"
     ]
    }
   ],
   "source": [
    "start_list = [1,3,5]\n",
    "print(list(map(lambda x: x**2, first_list)))"
   ]
  },
  {
   "cell_type": "code",
   "execution_count": 6,
   "metadata": {},
   "outputs": [
    {
     "output_type": "stream",
     "name": "stdout",
     "text": [
      "[1, 9, 25]\n"
     ]
    }
   ],
   "source": [
    "def square_num(n):\n",
    "    return n**2\n",
    "print(list(map(square_num, start_list)))\n"
   ]
  },
  {
   "cell_type": "code",
   "execution_count": 11,
   "metadata": {},
   "outputs": [
    {
     "output_type": "stream",
     "name": "stdout",
     "text": [
      "[5, 8, 14, 9]\n"
     ]
    }
   ],
   "source": [
    "add_list = [2,7,5,4]\n",
    "add_list2 = (3,1,9,5)\n",
    "print(list(map(lambda x,y : x+y, add_list,add_list2)))\n"
   ]
  },
  {
   "cell_type": "code",
   "execution_count": 8,
   "metadata": {},
   "outputs": [
    {
     "output_type": "stream",
     "name": "stdout",
     "text": [
      "['Mani Shubam', 'Yovaraj Vasu', 'Ankit Aman']\n"
     ]
    }
   ],
   "source": [
    "list_of_names = ['Mani','Yovaraj','Ankit']\n",
    "list_of_names2 = ['Shubam','Vasu','Aman']\n",
    "proper = lambda x, y: x[0].upper()+x[1:] +' '+ y[0].upper()+y[1:]\n",
    "print(list(map(proper, list_of_names,list_of_names2)))\n"
   ]
  },
  {
   "cell_type": "code",
   "execution_count": 13,
   "metadata": {},
   "outputs": [
    {
     "output_type": "stream",
     "name": "stdout",
     "text": [
      "[4, 8]\n"
     ]
    }
   ],
   "source": [
    "#Filter\n",
    "divby4 = lambda x:  x % 4 == 0\n",
    "my_list = [3,4,5,6,7,8,9]\n",
    "div = filter(divby4, my_list)\n",
    "print(list(div))"
   ]
  },
  {
   "cell_type": "code",
   "execution_count": 15,
   "metadata": {},
   "outputs": [
    {
     "output_type": "stream",
     "name": "stdout",
     "text": [
      "27\n"
     ]
    }
   ],
   "source": [
    "#Reduce\n",
    "from functools import reduce\n",
    "q  = reduce(lambda x, y: x+y, range(2,8))\n",
    "print(q)\n"
   ]
  },
  {
   "cell_type": "code",
   "execution_count": 17,
   "metadata": {},
   "outputs": [
    {
     "output_type": "stream",
     "name": "stdout",
     "text": [
      "99\n"
     ]
    }
   ],
   "source": [
    "list_of_nums = [4,5,6,10,99,2]\n",
    "print(reduce(lambda x,y: x if x>y else y,list_of_nums))\n"
   ]
  }
 ],
 "metadata": {
  "anaconda-cloud": {},
  "kernelspec": {
   "name": "python388jvsc74a57bd037eb40c3388cfde35488e2d005b0d69ca91ddeff8a429754d4da636d3f888e5e",
   "display_name": "Python 3.8.8 64-bit ('base': conda)"
  },
  "language_info": {
   "codemirror_mode": {
    "name": "ipython",
    "version": 3
   },
   "file_extension": ".py",
   "mimetype": "text/x-python",
   "name": "python",
   "nbconvert_exporter": "python",
   "pygments_lexer": "ipython3",
   "version": "3.8.8"
  },
  "metadata": {
   "interpreter": {
    "hash": "416b3b3d7c2861747334a644f3bc9cc09375166302abdd382b9b4cd7a6e01994"
   }
  }
 },
 "nbformat": 4,
 "nbformat_minor": 1
}